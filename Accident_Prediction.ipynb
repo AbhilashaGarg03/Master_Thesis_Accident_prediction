{
  "cells": [
    {
      "cell_type": "code",
      "execution_count": null,
      "id": "56771ad3",
      "metadata": {
        "tags": [],
        "id": "56771ad3"
      },
      "outputs": [],
      "source": [
        "# importing libraries\n",
        "import numpy as np\n",
        "import pandas as pd\n",
        "import matplotlib.pyplot as plt\n",
        "import seaborn as sns\n",
        "\n",
        "\n",
        "import warnings\n",
        "warnings.filterwarnings('ignore')\n",
        "\n",
        "import statsmodels\n",
        "import statsmodels.api as sm\n",
        "from statsmodels.stats.outliers_influence import variance_inflation_factor\n",
        "import sklearn\n",
        "\n",
        "from sklearn.model_selection import train_test_split\n",
        "from sklearn.feature_selection import RFE\n",
        "from sklearn.linear_model import LinearRegression\n",
        "from sklearn.preprocessing import MinMaxScaler\n",
        "from sklearn.metrics import mean_squared_error\n",
        "from sklearn.metrics import r2_score"
      ]
    },
    {
      "cell_type": "code",
      "execution_count": null,
      "id": "d59c191a-863f-4abf-899d-786b087d95a1",
      "metadata": {
        "tags": [],
        "colab": {
          "base_uri": "https://localhost:8080/"
        },
        "id": "d59c191a-863f-4abf-899d-786b087d95a1",
        "outputId": "43f74eea-ee61-421c-da3c-575755af9d9d"
      },
      "outputs": [
        {
          "output_type": "stream",
          "name": "stdout",
          "text": [
            "Collecting s3fs\n",
            "  Downloading s3fs-2023.10.0-py3-none-any.whl (28 kB)\n",
            "Collecting aiobotocore~=2.7.0 (from s3fs)\n",
            "  Downloading aiobotocore-2.7.0-py3-none-any.whl (73 kB)\n",
            "\u001b[2K     \u001b[90m━━━━━━━━━━━━━━━━━━━━━━━━━━━━━━━━━━━━━━━━\u001b[0m \u001b[32m73.5/73.5 kB\u001b[0m \u001b[31m3.1 MB/s\u001b[0m eta \u001b[36m0:00:00\u001b[0m\n",
            "\u001b[?25hCollecting fsspec==2023.10.0 (from s3fs)\n",
            "  Downloading fsspec-2023.10.0-py3-none-any.whl (166 kB)\n",
            "\u001b[2K     \u001b[90m━━━━━━━━━━━━━━━━━━━━━━━━━━━━━━━━━━━━━━━━\u001b[0m \u001b[32m166.4/166.4 kB\u001b[0m \u001b[31m8.1 MB/s\u001b[0m eta \u001b[36m0:00:00\u001b[0m\n",
            "\u001b[?25hRequirement already satisfied: aiohttp!=4.0.0a0,!=4.0.0a1 in /usr/local/lib/python3.10/dist-packages (from s3fs) (3.8.6)\n",
            "Collecting botocore<1.31.65,>=1.31.16 (from aiobotocore~=2.7.0->s3fs)\n",
            "  Downloading botocore-1.31.64-py3-none-any.whl (11.3 MB)\n",
            "\u001b[2K     \u001b[90m━━━━━━━━━━━━━━━━━━━━━━━━━━━━━━━━━━━━━━━━\u001b[0m \u001b[32m11.3/11.3 MB\u001b[0m \u001b[31m75.0 MB/s\u001b[0m eta \u001b[36m0:00:00\u001b[0m\n",
            "\u001b[?25hRequirement already satisfied: wrapt<2.0.0,>=1.10.10 in /usr/local/lib/python3.10/dist-packages (from aiobotocore~=2.7.0->s3fs) (1.14.1)\n",
            "Collecting aioitertools<1.0.0,>=0.5.1 (from aiobotocore~=2.7.0->s3fs)\n",
            "  Downloading aioitertools-0.11.0-py3-none-any.whl (23 kB)\n",
            "Requirement already satisfied: attrs>=17.3.0 in /usr/local/lib/python3.10/dist-packages (from aiohttp!=4.0.0a0,!=4.0.0a1->s3fs) (23.1.0)\n",
            "Requirement already satisfied: charset-normalizer<4.0,>=2.0 in /usr/local/lib/python3.10/dist-packages (from aiohttp!=4.0.0a0,!=4.0.0a1->s3fs) (3.3.1)\n",
            "Requirement already satisfied: multidict<7.0,>=4.5 in /usr/local/lib/python3.10/dist-packages (from aiohttp!=4.0.0a0,!=4.0.0a1->s3fs) (6.0.4)\n",
            "Requirement already satisfied: async-timeout<5.0,>=4.0.0a3 in /usr/local/lib/python3.10/dist-packages (from aiohttp!=4.0.0a0,!=4.0.0a1->s3fs) (4.0.3)\n",
            "Requirement already satisfied: yarl<2.0,>=1.0 in /usr/local/lib/python3.10/dist-packages (from aiohttp!=4.0.0a0,!=4.0.0a1->s3fs) (1.9.2)\n",
            "Requirement already satisfied: frozenlist>=1.1.1 in /usr/local/lib/python3.10/dist-packages (from aiohttp!=4.0.0a0,!=4.0.0a1->s3fs) (1.4.0)\n",
            "Requirement already satisfied: aiosignal>=1.1.2 in /usr/local/lib/python3.10/dist-packages (from aiohttp!=4.0.0a0,!=4.0.0a1->s3fs) (1.3.1)\n",
            "Collecting jmespath<2.0.0,>=0.7.1 (from botocore<1.31.65,>=1.31.16->aiobotocore~=2.7.0->s3fs)\n",
            "  Downloading jmespath-1.0.1-py3-none-any.whl (20 kB)\n",
            "Requirement already satisfied: python-dateutil<3.0.0,>=2.1 in /usr/local/lib/python3.10/dist-packages (from botocore<1.31.65,>=1.31.16->aiobotocore~=2.7.0->s3fs) (2.8.2)\n",
            "Requirement already satisfied: urllib3<2.1,>=1.25.4 in /usr/local/lib/python3.10/dist-packages (from botocore<1.31.65,>=1.31.16->aiobotocore~=2.7.0->s3fs) (2.0.7)\n",
            "Requirement already satisfied: idna>=2.0 in /usr/local/lib/python3.10/dist-packages (from yarl<2.0,>=1.0->aiohttp!=4.0.0a0,!=4.0.0a1->s3fs) (3.4)\n",
            "Requirement already satisfied: six>=1.5 in /usr/local/lib/python3.10/dist-packages (from python-dateutil<3.0.0,>=2.1->botocore<1.31.65,>=1.31.16->aiobotocore~=2.7.0->s3fs) (1.16.0)\n",
            "Installing collected packages: jmespath, fsspec, aioitertools, botocore, aiobotocore, s3fs\n",
            "  Attempting uninstall: fsspec\n",
            "    Found existing installation: fsspec 2023.6.0\n",
            "    Uninstalling fsspec-2023.6.0:\n",
            "      Successfully uninstalled fsspec-2023.6.0\n",
            "\u001b[31mERROR: pip's dependency resolver does not currently take into account all the packages that are installed. This behaviour is the source of the following dependency conflicts.\n",
            "gcsfs 2023.6.0 requires fsspec==2023.6.0, but you have fsspec 2023.10.0 which is incompatible.\u001b[0m\u001b[31m\n",
            "\u001b[0mSuccessfully installed aiobotocore-2.7.0 aioitertools-0.11.0 botocore-1.31.64 fsspec-2023.10.0 jmespath-1.0.1 s3fs-2023.10.0\n"
          ]
        }
      ],
      "source": [
        "pip install s3fs"
      ]
    },
    {
      "cell_type": "code",
      "execution_count": null,
      "id": "5f890401",
      "metadata": {
        "tags": [],
        "id": "5f890401"
      },
      "outputs": [],
      "source": [
        "import folium\n",
        "from folium.plugins import HeatMap"
      ]
    },
    {
      "cell_type": "code",
      "execution_count": null,
      "id": "08be6724",
      "metadata": {
        "id": "08be6724"
      },
      "outputs": [],
      "source": [
        "data = pd.read_csv('s3://abhilasha-lstw-11102023/TrafficEvents_Aug16_Dec20_Publish.csv')"
      ]
    },
    {
      "cell_type": "code",
      "source": [
        "from google.colab import drive\n",
        "drive.mount('/content/drive')"
      ],
      "metadata": {
        "colab": {
          "base_uri": "https://localhost:8080/"
        },
        "id": "EzRDKocaMJX6",
        "outputId": "d8605462-6cc5-4e07-a99f-ee308898daa0"
      },
      "id": "EzRDKocaMJX6",
      "execution_count": null,
      "outputs": [
        {
          "output_type": "stream",
          "name": "stdout",
          "text": [
            "Mounted at /content/drive\n"
          ]
        }
      ]
    },
    {
      "cell_type": "code",
      "execution_count": null,
      "id": "ad184a90",
      "metadata": {
        "id": "ad184a90",
        "outputId": "53a38106-5603-420e-f878-590746ef7a83"
      },
      "outputs": [
        {
          "data": {
            "text/html": [
              "<div>\n",
              "<style scoped>\n",
              "    .dataframe tbody tr th:only-of-type {\n",
              "        vertical-align: middle;\n",
              "    }\n",
              "\n",
              "    .dataframe tbody tr th {\n",
              "        vertical-align: top;\n",
              "    }\n",
              "\n",
              "    .dataframe thead th {\n",
              "        text-align: right;\n",
              "    }\n",
              "</style>\n",
              "<table border=\"1\" class=\"dataframe\">\n",
              "  <thead>\n",
              "    <tr style=\"text-align: right;\">\n",
              "      <th></th>\n",
              "      <th>Severity</th>\n",
              "      <th>TMC</th>\n",
              "      <th>LocationLat</th>\n",
              "      <th>LocationLng</th>\n",
              "      <th>Distance(mi)</th>\n",
              "      <th>Number</th>\n",
              "      <th>ZipCode</th>\n",
              "    </tr>\n",
              "  </thead>\n",
              "  <tbody>\n",
              "    <tr>\n",
              "      <th>count</th>\n",
              "      <td>3.135558e+07</td>\n",
              "      <td>3.135558e+07</td>\n",
              "      <td>3.135558e+07</td>\n",
              "      <td>3.135558e+07</td>\n",
              "      <td>3.135558e+07</td>\n",
              "      <td>1.388519e+07</td>\n",
              "      <td>3.133148e+07</td>\n",
              "    </tr>\n",
              "    <tr>\n",
              "      <th>mean</th>\n",
              "      <td>1.314787e+00</td>\n",
              "      <td>1.172900e+02</td>\n",
              "      <td>3.712132e+01</td>\n",
              "      <td>-9.262498e+01</td>\n",
              "      <td>2.493480e+00</td>\n",
              "      <td>6.128311e+03</td>\n",
              "      <td>5.167362e+04</td>\n",
              "    </tr>\n",
              "    <tr>\n",
              "      <th>std</th>\n",
              "      <td>8.764115e-01</td>\n",
              "      <td>1.348410e+02</td>\n",
              "      <td>5.151707e+00</td>\n",
              "      <td>1.718985e+01</td>\n",
              "      <td>3.303033e+00</td>\n",
              "      <td>1.481554e+04</td>\n",
              "      <td>3.183471e+04</td>\n",
              "    </tr>\n",
              "    <tr>\n",
              "      <th>min</th>\n",
              "      <td>0.000000e+00</td>\n",
              "      <td>1.600000e+01</td>\n",
              "      <td>2.454662e+01</td>\n",
              "      <td>-1.246238e+02</td>\n",
              "      <td>0.000000e+00</td>\n",
              "      <td>0.000000e+00</td>\n",
              "      <td>1.001000e+03</td>\n",
              "    </tr>\n",
              "    <tr>\n",
              "      <th>25%</th>\n",
              "      <td>1.000000e+00</td>\n",
              "      <td>7.200000e+01</td>\n",
              "      <td>3.377224e+01</td>\n",
              "      <td>-1.082495e+02</td>\n",
              "      <td>6.600000e-01</td>\n",
              "      <td>8.000000e+02</td>\n",
              "      <td>2.215000e+04</td>\n",
              "    </tr>\n",
              "    <tr>\n",
              "      <th>50%</th>\n",
              "      <td>1.000000e+00</td>\n",
              "      <td>7.300000e+01</td>\n",
              "      <td>3.816291e+01</td>\n",
              "      <td>-8.680222e+01</td>\n",
              "      <td>1.830000e+00</td>\n",
              "      <td>2.686000e+03</td>\n",
              "      <td>4.815400e+04</td>\n",
              "    </tr>\n",
              "    <tr>\n",
              "      <th>75%</th>\n",
              "      <td>2.000000e+00</td>\n",
              "      <td>7.500000e+01</td>\n",
              "      <td>4.083509e+01</td>\n",
              "      <td>-7.788621e+01</td>\n",
              "      <td>3.360000e+00</td>\n",
              "      <td>7.138000e+03</td>\n",
              "      <td>8.320100e+04</td>\n",
              "    </tr>\n",
              "    <tr>\n",
              "      <th>max</th>\n",
              "      <td>4.000000e+00</td>\n",
              "      <td>1.974000e+03</td>\n",
              "      <td>4.900249e+01</td>\n",
              "      <td>-6.701227e+01</td>\n",
              "      <td>1.057800e+03</td>\n",
              "      <td>9.909720e+05</td>\n",
              "      <td>9.940300e+04</td>\n",
              "    </tr>\n",
              "  </tbody>\n",
              "</table>\n",
              "</div>"
            ],
            "text/plain": [
              "           Severity           TMC   LocationLat   LocationLng  Distance(mi)  \\\n",
              "count  3.135558e+07  3.135558e+07  3.135558e+07  3.135558e+07  3.135558e+07   \n",
              "mean   1.314787e+00  1.172900e+02  3.712132e+01 -9.262498e+01  2.493480e+00   \n",
              "std    8.764115e-01  1.348410e+02  5.151707e+00  1.718985e+01  3.303033e+00   \n",
              "min    0.000000e+00  1.600000e+01  2.454662e+01 -1.246238e+02  0.000000e+00   \n",
              "25%    1.000000e+00  7.200000e+01  3.377224e+01 -1.082495e+02  6.600000e-01   \n",
              "50%    1.000000e+00  7.300000e+01  3.816291e+01 -8.680222e+01  1.830000e+00   \n",
              "75%    2.000000e+00  7.500000e+01  4.083509e+01 -7.788621e+01  3.360000e+00   \n",
              "max    4.000000e+00  1.974000e+03  4.900249e+01 -6.701227e+01  1.057800e+03   \n",
              "\n",
              "             Number       ZipCode  \n",
              "count  1.388519e+07  3.133148e+07  \n",
              "mean   6.128311e+03  5.167362e+04  \n",
              "std    1.481554e+04  3.183471e+04  \n",
              "min    0.000000e+00  1.001000e+03  \n",
              "25%    8.000000e+02  2.215000e+04  \n",
              "50%    2.686000e+03  4.815400e+04  \n",
              "75%    7.138000e+03  8.320100e+04  \n",
              "max    9.909720e+05  9.940300e+04  "
            ]
          },
          "execution_count": 48,
          "metadata": {},
          "output_type": "execute_result"
        }
      ],
      "source": [
        "data.describe()"
      ]
    },
    {
      "cell_type": "code",
      "execution_count": null,
      "id": "0b24974c",
      "metadata": {
        "id": "0b24974c",
        "outputId": "26b4c8d8-2cc4-4cc0-c9ed-0b3b7f144177"
      },
      "outputs": [
        {
          "name": "stdout",
          "output_type": "stream",
          "text": [
            "<class 'pandas.core.frame.DataFrame'>\n",
            "RangeIndex: 31355575 entries, 0 to 31355574\n",
            "Data columns (total 19 columns):\n",
            " #   Column          Dtype  \n",
            "---  ------          -----  \n",
            " 0   EventId         object \n",
            " 1   Type            object \n",
            " 2   Severity        int64  \n",
            " 3   TMC             int64  \n",
            " 4   Description     object \n",
            " 5   StartTime(UTC)  object \n",
            " 6   EndTime(UTC)    object \n",
            " 7   TimeZone        object \n",
            " 8   LocationLat     float64\n",
            " 9   LocationLng     float64\n",
            " 10  Distance(mi)    float64\n",
            " 11  AirportCode     object \n",
            " 12  Number          float64\n",
            " 13  Street          object \n",
            " 14  Side            object \n",
            " 15  City            object \n",
            " 16  County          object \n",
            " 17  State           object \n",
            " 18  ZipCode         float64\n",
            "dtypes: float64(5), int64(2), object(12)\n",
            "memory usage: 4.4+ GB\n"
          ]
        }
      ],
      "source": [
        "data.info()"
      ]
    },
    {
      "cell_type": "code",
      "execution_count": null,
      "id": "bb98ed9d",
      "metadata": {
        "id": "bb98ed9d",
        "outputId": "1edc9107-3f16-41e8-961d-2ed5f9906dff"
      },
      "outputs": [
        {
          "data": {
            "text/html": [
              "<div>\n",
              "<style scoped>\n",
              "    .dataframe tbody tr th:only-of-type {\n",
              "        vertical-align: middle;\n",
              "    }\n",
              "\n",
              "    .dataframe tbody tr th {\n",
              "        vertical-align: top;\n",
              "    }\n",
              "\n",
              "    .dataframe thead th {\n",
              "        text-align: right;\n",
              "    }\n",
              "</style>\n",
              "<table border=\"1\" class=\"dataframe\">\n",
              "  <thead>\n",
              "    <tr style=\"text-align: right;\">\n",
              "      <th></th>\n",
              "      <th>EventId</th>\n",
              "      <th>Type</th>\n",
              "      <th>Severity</th>\n",
              "      <th>TMC</th>\n",
              "      <th>Description</th>\n",
              "      <th>StartTime(UTC)</th>\n",
              "      <th>EndTime(UTC)</th>\n",
              "      <th>TimeZone</th>\n",
              "      <th>LocationLat</th>\n",
              "      <th>LocationLng</th>\n",
              "      <th>Distance(mi)</th>\n",
              "      <th>AirportCode</th>\n",
              "      <th>Number</th>\n",
              "      <th>Street</th>\n",
              "      <th>Side</th>\n",
              "      <th>City</th>\n",
              "      <th>County</th>\n",
              "      <th>State</th>\n",
              "      <th>ZipCode</th>\n",
              "    </tr>\n",
              "  </thead>\n",
              "  <tbody>\n",
              "    <tr>\n",
              "      <th>31355570</th>\n",
              "      <td>T-31957558</td>\n",
              "      <td>Congestion</td>\n",
              "      <td>2</td>\n",
              "      <td>73</td>\n",
              "      <td>Delays of six minutes and delays easing on San...</td>\n",
              "      <td>2017-08-31 01:30:00</td>\n",
              "      <td>2017-08-31 03:39:15</td>\n",
              "      <td>US/Pacific</td>\n",
              "      <td>33.976925</td>\n",
              "      <td>-118.388062</td>\n",
              "      <td>5.80</td>\n",
              "      <td>KLAX</td>\n",
              "      <td>NaN</td>\n",
              "      <td>San Diego Fwy S</td>\n",
              "      <td>R</td>\n",
              "      <td>Los Angeles</td>\n",
              "      <td>Los Angeles</td>\n",
              "      <td>CA</td>\n",
              "      <td>90045.0</td>\n",
              "    </tr>\n",
              "    <tr>\n",
              "      <th>31355571</th>\n",
              "      <td>T-31957559</td>\n",
              "      <td>Flow-Incident</td>\n",
              "      <td>2</td>\n",
              "      <td>402</td>\n",
              "      <td>Road blocked due to large tire in the road on ...</td>\n",
              "      <td>2017-08-31 03:22:53</td>\n",
              "      <td>2017-08-31 03:52:12</td>\n",
              "      <td>US/Pacific</td>\n",
              "      <td>34.041412</td>\n",
              "      <td>-118.064323</td>\n",
              "      <td>0.00</td>\n",
              "      <td>KEMT</td>\n",
              "      <td>NaN</td>\n",
              "      <td>Pomona Fwy W</td>\n",
              "      <td>R</td>\n",
              "      <td>South El Monte</td>\n",
              "      <td>Los Angeles</td>\n",
              "      <td>CA</td>\n",
              "      <td>91733.0</td>\n",
              "    </tr>\n",
              "    <tr>\n",
              "      <th>31355572</th>\n",
              "      <td>T-31957560</td>\n",
              "      <td>Broken-Vehicle</td>\n",
              "      <td>3</td>\n",
              "      <td>211</td>\n",
              "      <td>Middle lane blocked due to stalled vehicle on ...</td>\n",
              "      <td>2017-08-31 03:24:16</td>\n",
              "      <td>2017-08-31 03:53:35</td>\n",
              "      <td>US/Pacific</td>\n",
              "      <td>34.106606</td>\n",
              "      <td>-118.255836</td>\n",
              "      <td>0.00</td>\n",
              "      <td>KCQT</td>\n",
              "      <td>2448.0</td>\n",
              "      <td>Fletcher Dr</td>\n",
              "      <td>R</td>\n",
              "      <td>Los Angeles</td>\n",
              "      <td>Los Angeles</td>\n",
              "      <td>CA</td>\n",
              "      <td>90039.0</td>\n",
              "    </tr>\n",
              "    <tr>\n",
              "      <th>31355573</th>\n",
              "      <td>T-31957561</td>\n",
              "      <td>Accident</td>\n",
              "      <td>2</td>\n",
              "      <td>201</td>\n",
              "      <td>Accident on Temescal Canyon Rd Eastbound in La...</td>\n",
              "      <td>2017-08-31 03:17:21</td>\n",
              "      <td>2017-08-31 03:47:21</td>\n",
              "      <td>US/Pacific</td>\n",
              "      <td>33.729469</td>\n",
              "      <td>-117.397354</td>\n",
              "      <td>0.00</td>\n",
              "      <td>KF70</td>\n",
              "      <td>14779.0</td>\n",
              "      <td>Temescal Canyon Rd</td>\n",
              "      <td>R</td>\n",
              "      <td>Lake Elsinore</td>\n",
              "      <td>Riverside</td>\n",
              "      <td>CA</td>\n",
              "      <td>92530.0</td>\n",
              "    </tr>\n",
              "    <tr>\n",
              "      <th>31355574</th>\n",
              "      <td>T-31957562</td>\n",
              "      <td>Congestion</td>\n",
              "      <td>3</td>\n",
              "      <td>72</td>\n",
              "      <td>Severe delays of 16 minutes and delays increas...</td>\n",
              "      <td>2017-08-31 02:32:00</td>\n",
              "      <td>2017-08-31 04:05:13</td>\n",
              "      <td>US/Pacific</td>\n",
              "      <td>34.087753</td>\n",
              "      <td>-118.475090</td>\n",
              "      <td>7.45</td>\n",
              "      <td>KSMO</td>\n",
              "      <td>NaN</td>\n",
              "      <td>I-405 N</td>\n",
              "      <td>R</td>\n",
              "      <td>Los Angeles</td>\n",
              "      <td>Los Angeles</td>\n",
              "      <td>CA</td>\n",
              "      <td>90049.0</td>\n",
              "    </tr>\n",
              "  </tbody>\n",
              "</table>\n",
              "</div>"
            ],
            "text/plain": [
              "             EventId            Type  Severity  TMC  \\\n",
              "31355570  T-31957558      Congestion         2   73   \n",
              "31355571  T-31957559   Flow-Incident         2  402   \n",
              "31355572  T-31957560  Broken-Vehicle         3  211   \n",
              "31355573  T-31957561        Accident         2  201   \n",
              "31355574  T-31957562      Congestion         3   72   \n",
              "\n",
              "                                                Description  \\\n",
              "31355570  Delays of six minutes and delays easing on San...   \n",
              "31355571  Road blocked due to large tire in the road on ...   \n",
              "31355572  Middle lane blocked due to stalled vehicle on ...   \n",
              "31355573  Accident on Temescal Canyon Rd Eastbound in La...   \n",
              "31355574  Severe delays of 16 minutes and delays increas...   \n",
              "\n",
              "               StartTime(UTC)         EndTime(UTC)    TimeZone  LocationLat  \\\n",
              "31355570  2017-08-31 01:30:00  2017-08-31 03:39:15  US/Pacific    33.976925   \n",
              "31355571  2017-08-31 03:22:53  2017-08-31 03:52:12  US/Pacific    34.041412   \n",
              "31355572  2017-08-31 03:24:16  2017-08-31 03:53:35  US/Pacific    34.106606   \n",
              "31355573  2017-08-31 03:17:21  2017-08-31 03:47:21  US/Pacific    33.729469   \n",
              "31355574  2017-08-31 02:32:00  2017-08-31 04:05:13  US/Pacific    34.087753   \n",
              "\n",
              "          LocationLng  Distance(mi) AirportCode   Number              Street  \\\n",
              "31355570  -118.388062          5.80        KLAX      NaN     San Diego Fwy S   \n",
              "31355571  -118.064323          0.00        KEMT      NaN        Pomona Fwy W   \n",
              "31355572  -118.255836          0.00        KCQT   2448.0         Fletcher Dr   \n",
              "31355573  -117.397354          0.00        KF70  14779.0  Temescal Canyon Rd   \n",
              "31355574  -118.475090          7.45        KSMO      NaN             I-405 N   \n",
              "\n",
              "         Side            City       County State  ZipCode  \n",
              "31355570    R     Los Angeles  Los Angeles    CA  90045.0  \n",
              "31355571    R  South El Monte  Los Angeles    CA  91733.0  \n",
              "31355572    R     Los Angeles  Los Angeles    CA  90039.0  \n",
              "31355573    R   Lake Elsinore    Riverside    CA  92530.0  \n",
              "31355574    R     Los Angeles  Los Angeles    CA  90049.0  "
            ]
          },
          "execution_count": 49,
          "metadata": {},
          "output_type": "execute_result"
        }
      ],
      "source": [
        "data.tail()"
      ]
    },
    {
      "cell_type": "code",
      "execution_count": null,
      "id": "b8d54a05",
      "metadata": {
        "tags": [],
        "id": "b8d54a05"
      },
      "outputs": [],
      "source": [
        "weather = pd.read_csv('s3://abhilasha-lstw-11102023/WeatherEvents_Aug16_Dec20_Publish.csv')"
      ]
    },
    {
      "cell_type": "code",
      "execution_count": null,
      "id": "c5d5f234",
      "metadata": {
        "tags": [],
        "id": "c5d5f234",
        "outputId": "0779dddc-13c9-44e1-d9be-2bf0ef52b4b8"
      },
      "outputs": [
        {
          "data": {
            "text/html": [
              "<div>\n",
              "<style scoped>\n",
              "    .dataframe tbody tr th:only-of-type {\n",
              "        vertical-align: middle;\n",
              "    }\n",
              "\n",
              "    .dataframe tbody tr th {\n",
              "        vertical-align: top;\n",
              "    }\n",
              "\n",
              "    .dataframe thead th {\n",
              "        text-align: right;\n",
              "    }\n",
              "</style>\n",
              "<table border=\"1\" class=\"dataframe\">\n",
              "  <thead>\n",
              "    <tr style=\"text-align: right;\">\n",
              "      <th></th>\n",
              "      <th>EventId</th>\n",
              "      <th>Type</th>\n",
              "      <th>Severity</th>\n",
              "      <th>StartTime(UTC)</th>\n",
              "      <th>EndTime(UTC)</th>\n",
              "      <th>TimeZone</th>\n",
              "      <th>LocationLat</th>\n",
              "      <th>LocationLng</th>\n",
              "      <th>AirportCode</th>\n",
              "      <th>City</th>\n",
              "      <th>County</th>\n",
              "      <th>State</th>\n",
              "      <th>ZipCode</th>\n",
              "    </tr>\n",
              "  </thead>\n",
              "  <tbody>\n",
              "    <tr>\n",
              "      <th>0</th>\n",
              "      <td>W-310</td>\n",
              "      <td>Rain</td>\n",
              "      <td>Light</td>\n",
              "      <td>2016-08-01 00:16:00</td>\n",
              "      <td>2016-08-01 00:56:00</td>\n",
              "      <td>US/Mountain</td>\n",
              "      <td>38.0972</td>\n",
              "      <td>-106.1689</td>\n",
              "      <td>K04V</td>\n",
              "      <td>Saguache</td>\n",
              "      <td>Saguache</td>\n",
              "      <td>CO</td>\n",
              "      <td>81149.0</td>\n",
              "    </tr>\n",
              "    <tr>\n",
              "      <th>1</th>\n",
              "      <td>W-311</td>\n",
              "      <td>Rain</td>\n",
              "      <td>Light</td>\n",
              "      <td>2016-08-01 01:16:00</td>\n",
              "      <td>2016-08-01 01:36:00</td>\n",
              "      <td>US/Mountain</td>\n",
              "      <td>38.0972</td>\n",
              "      <td>-106.1689</td>\n",
              "      <td>K04V</td>\n",
              "      <td>Saguache</td>\n",
              "      <td>Saguache</td>\n",
              "      <td>CO</td>\n",
              "      <td>81149.0</td>\n",
              "    </tr>\n",
              "    <tr>\n",
              "      <th>2</th>\n",
              "      <td>W-312</td>\n",
              "      <td>Rain</td>\n",
              "      <td>Light</td>\n",
              "      <td>2016-08-01 01:56:00</td>\n",
              "      <td>2016-08-01 02:16:00</td>\n",
              "      <td>US/Mountain</td>\n",
              "      <td>38.0972</td>\n",
              "      <td>-106.1689</td>\n",
              "      <td>K04V</td>\n",
              "      <td>Saguache</td>\n",
              "      <td>Saguache</td>\n",
              "      <td>CO</td>\n",
              "      <td>81149.0</td>\n",
              "    </tr>\n",
              "    <tr>\n",
              "      <th>3</th>\n",
              "      <td>W-313</td>\n",
              "      <td>Rain</td>\n",
              "      <td>Light</td>\n",
              "      <td>2016-08-01 02:36:00</td>\n",
              "      <td>2016-08-01 02:56:00</td>\n",
              "      <td>US/Mountain</td>\n",
              "      <td>38.0972</td>\n",
              "      <td>-106.1689</td>\n",
              "      <td>K04V</td>\n",
              "      <td>Saguache</td>\n",
              "      <td>Saguache</td>\n",
              "      <td>CO</td>\n",
              "      <td>81149.0</td>\n",
              "    </tr>\n",
              "    <tr>\n",
              "      <th>4</th>\n",
              "      <td>W-314</td>\n",
              "      <td>Rain</td>\n",
              "      <td>Light</td>\n",
              "      <td>2016-08-01 04:36:00</td>\n",
              "      <td>2016-08-01 04:56:00</td>\n",
              "      <td>US/Mountain</td>\n",
              "      <td>38.0972</td>\n",
              "      <td>-106.1689</td>\n",
              "      <td>K04V</td>\n",
              "      <td>Saguache</td>\n",
              "      <td>Saguache</td>\n",
              "      <td>CO</td>\n",
              "      <td>81149.0</td>\n",
              "    </tr>\n",
              "  </tbody>\n",
              "</table>\n",
              "</div>"
            ],
            "text/plain": [
              "  EventId  Type Severity       StartTime(UTC)         EndTime(UTC)  \\\n",
              "0   W-310  Rain    Light  2016-08-01 00:16:00  2016-08-01 00:56:00   \n",
              "1   W-311  Rain    Light  2016-08-01 01:16:00  2016-08-01 01:36:00   \n",
              "2   W-312  Rain    Light  2016-08-01 01:56:00  2016-08-01 02:16:00   \n",
              "3   W-313  Rain    Light  2016-08-01 02:36:00  2016-08-01 02:56:00   \n",
              "4   W-314  Rain    Light  2016-08-01 04:36:00  2016-08-01 04:56:00   \n",
              "\n",
              "      TimeZone  LocationLat  LocationLng AirportCode      City    County  \\\n",
              "0  US/Mountain      38.0972    -106.1689        K04V  Saguache  Saguache   \n",
              "1  US/Mountain      38.0972    -106.1689        K04V  Saguache  Saguache   \n",
              "2  US/Mountain      38.0972    -106.1689        K04V  Saguache  Saguache   \n",
              "3  US/Mountain      38.0972    -106.1689        K04V  Saguache  Saguache   \n",
              "4  US/Mountain      38.0972    -106.1689        K04V  Saguache  Saguache   \n",
              "\n",
              "  State  ZipCode  \n",
              "0    CO  81149.0  \n",
              "1    CO  81149.0  \n",
              "2    CO  81149.0  \n",
              "3    CO  81149.0  \n",
              "4    CO  81149.0  "
            ]
          },
          "execution_count": 16,
          "metadata": {},
          "output_type": "execute_result"
        }
      ],
      "source": [
        "weather.head()"
      ]
    },
    {
      "cell_type": "code",
      "execution_count": null,
      "id": "c89915ad",
      "metadata": {
        "tags": [],
        "id": "c89915ad",
        "outputId": "1aead382-2768-4ccf-e7d4-df28b5d97edb"
      },
      "outputs": [
        {
          "name": "stdout",
          "output_type": "stream",
          "text": [
            "<class 'pandas.core.frame.DataFrame'>\n",
            "RangeIndex: 5576434 entries, 0 to 5576433\n",
            "Data columns (total 13 columns):\n",
            " #   Column          Dtype  \n",
            "---  ------          -----  \n",
            " 0   EventId         object \n",
            " 1   Type            object \n",
            " 2   Severity        object \n",
            " 3   StartTime(UTC)  object \n",
            " 4   EndTime(UTC)    object \n",
            " 5   TimeZone        object \n",
            " 6   LocationLat     float64\n",
            " 7   LocationLng     float64\n",
            " 8   AirportCode     object \n",
            " 9   City            object \n",
            " 10  County          object \n",
            " 11  State           object \n",
            " 12  ZipCode         float64\n",
            "dtypes: float64(3), object(10)\n",
            "memory usage: 553.1+ MB\n"
          ]
        }
      ],
      "source": [
        "weather.info()"
      ]
    },
    {
      "cell_type": "code",
      "execution_count": null,
      "id": "647916c4",
      "metadata": {
        "id": "647916c4",
        "outputId": "6d9cd216-168e-439c-ebf9-7b0667d1434c"
      },
      "outputs": [
        {
          "data": {
            "text/html": [
              "<div>\n",
              "<style scoped>\n",
              "    .dataframe tbody tr th:only-of-type {\n",
              "        vertical-align: middle;\n",
              "    }\n",
              "\n",
              "    .dataframe tbody tr th {\n",
              "        vertical-align: top;\n",
              "    }\n",
              "\n",
              "    .dataframe thead th {\n",
              "        text-align: right;\n",
              "    }\n",
              "</style>\n",
              "<table border=\"1\" class=\"dataframe\">\n",
              "  <thead>\n",
              "    <tr style=\"text-align: right;\">\n",
              "      <th></th>\n",
              "      <th>EventId</th>\n",
              "      <th>Type</th>\n",
              "      <th>Severity</th>\n",
              "      <th>StartTime(UTC)</th>\n",
              "      <th>EndTime(UTC)</th>\n",
              "      <th>TimeZone</th>\n",
              "      <th>LocationLat</th>\n",
              "      <th>LocationLng</th>\n",
              "      <th>AirportCode</th>\n",
              "      <th>City</th>\n",
              "      <th>County</th>\n",
              "      <th>State</th>\n",
              "      <th>ZipCode</th>\n",
              "    </tr>\n",
              "  </thead>\n",
              "  <tbody>\n",
              "    <tr>\n",
              "      <th>5576429</th>\n",
              "      <td>W-6161088</td>\n",
              "      <td>Snow</td>\n",
              "      <td>Light</td>\n",
              "      <td>2020-12-14 17:30:00</td>\n",
              "      <td>2020-12-15 01:53:00</td>\n",
              "      <td>US/Mountain</td>\n",
              "      <td>42.5833</td>\n",
              "      <td>-108.2833</td>\n",
              "      <td>KBVR</td>\n",
              "      <td>Lander</td>\n",
              "      <td>Fremont</td>\n",
              "      <td>WY</td>\n",
              "      <td>82520.0</td>\n",
              "    </tr>\n",
              "    <tr>\n",
              "      <th>5576430</th>\n",
              "      <td>W-6161089</td>\n",
              "      <td>Snow</td>\n",
              "      <td>Moderate</td>\n",
              "      <td>2020-12-15 01:53:00</td>\n",
              "      <td>2020-12-15 03:19:00</td>\n",
              "      <td>US/Mountain</td>\n",
              "      <td>42.5833</td>\n",
              "      <td>-108.2833</td>\n",
              "      <td>KBVR</td>\n",
              "      <td>Lander</td>\n",
              "      <td>Fremont</td>\n",
              "      <td>WY</td>\n",
              "      <td>82520.0</td>\n",
              "    </tr>\n",
              "    <tr>\n",
              "      <th>5576431</th>\n",
              "      <td>W-6161090</td>\n",
              "      <td>Snow</td>\n",
              "      <td>Light</td>\n",
              "      <td>2020-12-15 03:19:00</td>\n",
              "      <td>2020-12-15 05:53:00</td>\n",
              "      <td>US/Mountain</td>\n",
              "      <td>42.5833</td>\n",
              "      <td>-108.2833</td>\n",
              "      <td>KBVR</td>\n",
              "      <td>Lander</td>\n",
              "      <td>Fremont</td>\n",
              "      <td>WY</td>\n",
              "      <td>82520.0</td>\n",
              "    </tr>\n",
              "    <tr>\n",
              "      <th>5576432</th>\n",
              "      <td>W-6161091</td>\n",
              "      <td>Snow</td>\n",
              "      <td>Light</td>\n",
              "      <td>2020-12-23 04:24:00</td>\n",
              "      <td>2020-12-23 05:53:00</td>\n",
              "      <td>US/Mountain</td>\n",
              "      <td>42.5833</td>\n",
              "      <td>-108.2833</td>\n",
              "      <td>KBVR</td>\n",
              "      <td>Lander</td>\n",
              "      <td>Fremont</td>\n",
              "      <td>WY</td>\n",
              "      <td>82520.0</td>\n",
              "    </tr>\n",
              "    <tr>\n",
              "      <th>5576433</th>\n",
              "      <td>W-6161092</td>\n",
              "      <td>Snow</td>\n",
              "      <td>Light</td>\n",
              "      <td>2020-12-23 10:53:00</td>\n",
              "      <td>2020-12-23 11:26:00</td>\n",
              "      <td>US/Mountain</td>\n",
              "      <td>42.5833</td>\n",
              "      <td>-108.2833</td>\n",
              "      <td>KBVR</td>\n",
              "      <td>Lander</td>\n",
              "      <td>Fremont</td>\n",
              "      <td>WY</td>\n",
              "      <td>82520.0</td>\n",
              "    </tr>\n",
              "  </tbody>\n",
              "</table>\n",
              "</div>"
            ],
            "text/plain": [
              "           EventId  Type  Severity       StartTime(UTC)         EndTime(UTC)  \\\n",
              "5576429  W-6161088  Snow     Light  2020-12-14 17:30:00  2020-12-15 01:53:00   \n",
              "5576430  W-6161089  Snow  Moderate  2020-12-15 01:53:00  2020-12-15 03:19:00   \n",
              "5576431  W-6161090  Snow     Light  2020-12-15 03:19:00  2020-12-15 05:53:00   \n",
              "5576432  W-6161091  Snow     Light  2020-12-23 04:24:00  2020-12-23 05:53:00   \n",
              "5576433  W-6161092  Snow     Light  2020-12-23 10:53:00  2020-12-23 11:26:00   \n",
              "\n",
              "            TimeZone  LocationLat  LocationLng AirportCode    City   County  \\\n",
              "5576429  US/Mountain      42.5833    -108.2833        KBVR  Lander  Fremont   \n",
              "5576430  US/Mountain      42.5833    -108.2833        KBVR  Lander  Fremont   \n",
              "5576431  US/Mountain      42.5833    -108.2833        KBVR  Lander  Fremont   \n",
              "5576432  US/Mountain      42.5833    -108.2833        KBVR  Lander  Fremont   \n",
              "5576433  US/Mountain      42.5833    -108.2833        KBVR  Lander  Fremont   \n",
              "\n",
              "        State  ZipCode  \n",
              "5576429    WY  82520.0  \n",
              "5576430    WY  82520.0  \n",
              "5576431    WY  82520.0  \n",
              "5576432    WY  82520.0  \n",
              "5576433    WY  82520.0  "
            ]
          },
          "execution_count": 46,
          "metadata": {},
          "output_type": "execute_result"
        }
      ],
      "source": [
        "weather.tail()"
      ]
    },
    {
      "cell_type": "code",
      "execution_count": null,
      "id": "e60af5f4",
      "metadata": {
        "id": "e60af5f4",
        "outputId": "4b80b5bc-f123-41ce-a4ee-2c50a5045979"
      },
      "outputs": [
        {
          "data": {
            "text/html": [
              "<div>\n",
              "<style scoped>\n",
              "    .dataframe tbody tr th:only-of-type {\n",
              "        vertical-align: middle;\n",
              "    }\n",
              "\n",
              "    .dataframe tbody tr th {\n",
              "        vertical-align: top;\n",
              "    }\n",
              "\n",
              "    .dataframe thead th {\n",
              "        text-align: right;\n",
              "    }\n",
              "</style>\n",
              "<table border=\"1\" class=\"dataframe\">\n",
              "  <thead>\n",
              "    <tr style=\"text-align: right;\">\n",
              "      <th></th>\n",
              "      <th>LocationLat</th>\n",
              "      <th>LocationLng</th>\n",
              "      <th>ZipCode</th>\n",
              "    </tr>\n",
              "  </thead>\n",
              "  <tbody>\n",
              "    <tr>\n",
              "      <th>count</th>\n",
              "      <td>5.576434e+06</td>\n",
              "      <td>5.576434e+06</td>\n",
              "      <td>5.532804e+06</td>\n",
              "    </tr>\n",
              "    <tr>\n",
              "      <th>mean</th>\n",
              "      <td>3.875765e+01</td>\n",
              "      <td>-9.185531e+01</td>\n",
              "      <td>5.236033e+04</td>\n",
              "    </tr>\n",
              "    <tr>\n",
              "      <th>std</th>\n",
              "      <td>5.466117e+00</td>\n",
              "      <td>1.344209e+01</td>\n",
              "      <td>2.569405e+04</td>\n",
              "    </tr>\n",
              "    <tr>\n",
              "      <th>min</th>\n",
              "      <td>2.455710e+01</td>\n",
              "      <td>-1.245550e+02</td>\n",
              "      <td>1.022000e+03</td>\n",
              "    </tr>\n",
              "    <tr>\n",
              "      <th>25%</th>\n",
              "      <td>3.455750e+01</td>\n",
              "      <td>-9.779700e+01</td>\n",
              "      <td>3.109800e+04</td>\n",
              "    </tr>\n",
              "    <tr>\n",
              "      <th>50%</th>\n",
              "      <td>3.932000e+01</td>\n",
              "      <td>-8.978690e+01</td>\n",
              "      <td>5.382100e+04</td>\n",
              "    </tr>\n",
              "    <tr>\n",
              "      <th>75%</th>\n",
              "      <td>4.301940e+01</td>\n",
              "      <td>-8.189210e+01</td>\n",
              "      <td>7.340100e+04</td>\n",
              "    </tr>\n",
              "    <tr>\n",
              "      <th>max</th>\n",
              "      <td>4.894020e+01</td>\n",
              "      <td>-6.779280e+01</td>\n",
              "      <td>9.936200e+04</td>\n",
              "    </tr>\n",
              "  </tbody>\n",
              "</table>\n",
              "</div>"
            ],
            "text/plain": [
              "        LocationLat   LocationLng       ZipCode\n",
              "count  5.576434e+06  5.576434e+06  5.532804e+06\n",
              "mean   3.875765e+01 -9.185531e+01  5.236033e+04\n",
              "std    5.466117e+00  1.344209e+01  2.569405e+04\n",
              "min    2.455710e+01 -1.245550e+02  1.022000e+03\n",
              "25%    3.455750e+01 -9.779700e+01  3.109800e+04\n",
              "50%    3.932000e+01 -8.978690e+01  5.382100e+04\n",
              "75%    4.301940e+01 -8.189210e+01  7.340100e+04\n",
              "max    4.894020e+01 -6.779280e+01  9.936200e+04"
            ]
          },
          "execution_count": 5,
          "metadata": {},
          "output_type": "execute_result"
        }
      ],
      "source": [
        "weather.describe()"
      ]
    },
    {
      "cell_type": "code",
      "execution_count": null,
      "id": "6f42ae4f",
      "metadata": {
        "id": "6f42ae4f",
        "outputId": "174fb431-c83a-4f54-83d3-1102e29b62f2"
      },
      "outputs": [
        {
          "data": {
            "text/plain": [
              "array(['Congestion', 'Flow-Incident', 'Accident', 'Lane-Blocked',\n",
              "       'Broken-Vehicle', 'Construction', 'Event'], dtype=object)"
            ]
          },
          "execution_count": 50,
          "metadata": {},
          "output_type": "execute_result"
        }
      ],
      "source": [
        "data.Type.unique()"
      ]
    },
    {
      "cell_type": "code",
      "execution_count": null,
      "id": "44b27c18",
      "metadata": {
        "id": "44b27c18",
        "outputId": "043d7e74-ab17-4e35-d941-d3fb17e97331"
      },
      "outputs": [
        {
          "data": {
            "text/plain": [
              "array(['KO69', 'KHAF', 'KWVI', ..., 'KAWH', 'KP69', 'KSHC'], dtype=object)"
            ]
          },
          "execution_count": 14,
          "metadata": {},
          "output_type": "execute_result"
        }
      ],
      "source": [
        "data.AirportCode.unique()"
      ]
    },
    {
      "cell_type": "code",
      "execution_count": null,
      "id": "667f2052",
      "metadata": {
        "id": "667f2052",
        "outputId": "c540db39-fb2d-4720-f5e4-38e23cb3728f"
      },
      "outputs": [
        {
          "data": {
            "text/plain": [
              "19"
            ]
          },
          "execution_count": 15,
          "metadata": {},
          "output_type": "execute_result"
        }
      ],
      "source": [
        "data.columns.nunique()"
      ]
    },
    {
      "cell_type": "code",
      "execution_count": null,
      "id": "36ec2b37",
      "metadata": {
        "id": "36ec2b37",
        "outputId": "21559c3f-f280-4828-8409-462c21957513"
      },
      "outputs": [
        {
          "name": "stdout",
          "output_type": "stream",
          "text": [
            "Unique values in EventId:\n",
            "['T-38768' 'T-38772' 'T-38775' ... 'T-31957560' 'T-31957561' 'T-31957562']\n",
            "------------------------------\n",
            "Unique values in Type:\n",
            "['Congestion' 'Flow-Incident' 'Accident' 'Lane-Blocked' 'Broken-Vehicle'\n",
            " 'Construction' 'Event']\n",
            "------------------------------\n",
            "Unique values in Description:\n",
            "['Severe delays of 18 minutes on US-101 Redwood Hwy Southbound between Stony Point Rd and US-101 / US-101 Redwood Hwy. Average speed 15 mph.'\n",
            " 'Delays of eight minutes on CA-92 San Mateo Rd Westbound between Mountain Dump Rd and CA-92 San Mateo Rd. Average speed five mph.'\n",
            " 'Severe delays of 20 minutes and delays increasing on State Highway 1 Northbound between La Selva Dr and Soquel Dr. Average speed 15 mph.'\n",
            " ...\n",
            " 'Middle lane blocked due to stalled vehicle on I-5 Southbound before Exit 140A Fletcher Dr.'\n",
            " 'Accident on Temescal Canyon Rd Eastbound in Lake Elsinore.'\n",
            " 'Severe delays of 16 minutes and delays increasing on San Diego Fwy Northbound between I-10 and I-405. Average speed 15 mph.']\n",
            "------------------------------\n",
            "Unique values in StartTime(UTC):\n",
            "['2016-08-01 00:03:00' '2016-08-01 00:07:00' '2016-08-01 00:00:00' ...\n",
            " '2017-08-31 03:22:53' '2017-08-31 03:24:16' '2017-08-31 03:17:21']\n",
            "------------------------------\n",
            "Unique values in EndTime(UTC):\n",
            "['2016-08-01 00:14:28' '2016-08-01 00:18:44' '2016-08-01 00:19:44' ...\n",
            " '2017-08-31 03:52:12' '2017-08-31 03:53:35' '2017-08-31 04:05:13']\n",
            "------------------------------\n",
            "Unique values in TimeZone:\n",
            "['US/Pacific' nan 'US/Eastern' 'US/Central' 'US/Mountain']\n",
            "------------------------------\n",
            "Unique values in AirportCode:\n",
            "['KO69' 'KHAF' 'KWVI' ... 'KAWH' 'KP69' 'KSHC']\n",
            "------------------------------\n",
            "Unique values in Street:\n",
            "['Redwood Hwy S' 'San Mateo Rd' 'State Highway 1' ... 'Cruzon Grade Rd'\n",
            " 'Vista del Paso' 'Hutchcroft St']\n",
            "------------------------------\n",
            "Unique values in Side:\n",
            "['R' 'L' ' ' 'N']\n",
            "------------------------------\n",
            "Unique values in City:\n",
            "['Petaluma' 'Half Moon Bay' 'Santa Cruz' ... 'Artemus' 'El Macero'\n",
            " 'Big Run']\n",
            "------------------------------\n",
            "Unique values in County:\n",
            "['Sonoma' 'San Mateo' 'Santa Cruz' ... 'Mckinley' 'Mccone' 'Saint Helena']\n",
            "------------------------------\n",
            "Unique values in State:\n",
            "['CA' 'FL' 'GA' 'SC' 'AL' 'IA' 'NE' 'SD' 'MO' 'IL' 'WI' 'IN' 'MI' 'OH'\n",
            " 'NY' 'NJ' 'CT' 'MA' 'RI' 'NH' 'PA' 'VT' 'KY' 'WV' 'MD' 'VA' 'DC' 'DE'\n",
            " 'TX' 'WA' 'OR' 'ME' 'TN' 'NC' 'ND' 'KS' 'MN' 'LA' 'AR' 'OK' 'MS' 'MT'\n",
            " 'CO' 'UT' 'ID' 'WY' 'AZ' 'NM' 'NV' nan]\n",
            "------------------------------\n"
          ]
        }
      ],
      "source": [
        "##Traffic Events Analysis\n",
        "# Get all categorical columns\n",
        "categorical_columns = data.select_dtypes(include=['object', 'category']).columns\n",
        "\n",
        "# Initialize an empty dictionary to store unique values\n",
        "unique_values_dict = {}\n",
        "\n",
        "# Iterate through each categorical column\n",
        "for col in categorical_columns:\n",
        "    unique_values = data[col].unique()\n",
        "    unique_values_dict[col] = unique_values\n",
        "\n",
        "# Print unique values\n",
        "for col, values in unique_values_dict.items():\n",
        "    print(f'Unique values in {col}:')\n",
        "    print(values)\n",
        "    print('-' * 30)\n"
      ]
    },
    {
      "cell_type": "code",
      "execution_count": null,
      "id": "1bea43ac",
      "metadata": {
        "id": "1bea43ac"
      },
      "outputs": [],
      "source": [
        "\n",
        "\n",
        "# Convert columns to categorical\n",
        "data.Type = data.Type.astype('category')\n",
        "data.TimeZone = data.TimeZone.astype('category')\n",
        "data.AirportCode = data.AirportCode.astype('category')\n",
        "data.State = data.State.astype('category')\n",
        "data.City = data.City.astype('category')\n",
        "data.County = data.County.astype('category')\n",
        "\n",
        "# Now the columns are converted to categorical type"
      ]
    },
    {
      "cell_type": "code",
      "execution_count": null,
      "id": "8028cca2",
      "metadata": {
        "id": "8028cca2",
        "outputId": "56c9b739-389b-46c4-cc7c-058d329d657b"
      },
      "outputs": [
        {
          "name": "stdout",
          "output_type": "stream",
          "text": [
            "Unique values in EventId:\n",
            "['W-310' 'W-311' 'W-312' ... 'W-6161090' 'W-6161091' 'W-6161092']\n",
            "------------------------------\n",
            "Unique values in Type:\n",
            "['Rain' 'Snow' 'Cold' 'Storm' 'Fog' 'Precipitation' 'Hail']\n",
            "------------------------------\n",
            "Unique values in Severity:\n",
            "['Light' 'Moderate' 'Heavy' 'Severe' 'UNK' 'Other']\n",
            "------------------------------\n",
            "Unique values in StartTime(UTC):\n",
            "['2016-08-01 00:16:00' '2016-08-01 01:16:00' '2016-08-01 01:56:00' ...\n",
            " '2019-03-29 09:13:00' '2019-03-29 20:17:00' '2019-03-29 20:33:00']\n",
            "------------------------------\n",
            "Unique values in EndTime(UTC):\n",
            "['2016-08-01 00:56:00' '2016-08-01 01:36:00' '2016-08-01 02:16:00' ...\n",
            " '2019-02-22 06:18:00' '2019-03-07 03:09:00' '2019-03-29 20:17:00']\n",
            "------------------------------\n",
            "Unique values in TimeZone:\n",
            "['US/Mountain' 'US/Central' 'US/Eastern' 'US/Pacific']\n",
            "------------------------------\n",
            "Unique values in AirportCode:\n",
            "['K04V' 'KAXS' 'KAEL' ... 'KB23' 'KARL' 'KBVR']\n",
            "------------------------------\n",
            "Unique values in City:\n",
            "['Saguache' 'Altus' 'Albert Lea' ... 'Camdenton' 'Battle Mountain'\n",
            " 'Rock River']\n",
            "------------------------------\n",
            "Unique values in County:\n",
            "['Saguache' 'Jackson' 'Freeborn' ... 'Flagler' 'Rio Arriba' 'Camden']\n",
            "------------------------------\n",
            "Unique values in State:\n",
            "['CO' 'OK' 'MN' 'LA' 'WI' 'ID' 'MI' 'KS' 'WY' 'MA' 'MO' 'NM' 'NC' 'SC'\n",
            " 'RI' 'VA' 'CT' 'OR' 'ND' 'CA' 'NY' 'OH' 'SD' 'AZ' 'NV' 'IA' 'TX' 'GA'\n",
            " 'NE' 'TN' 'AL' 'IL' 'AR' 'WA' 'IN' 'UT' 'FL' 'WV' 'MS' 'PA' 'ME' 'MD'\n",
            " 'NJ' 'KY' 'VT' 'MT' 'NH' 'DE']\n",
            "------------------------------\n"
          ]
        }
      ],
      "source": [
        "##Weather Events Analysis\n",
        "# Get all categorical columns\n",
        "categorical_columns = weather.select_dtypes(include=['object', 'category']).columns\n",
        "\n",
        "# Initialize an empty dictionary to store unique values\n",
        "unique_values_dict = {}\n",
        "\n",
        "# Iterate through each categorical column\n",
        "for col in categorical_columns:\n",
        "    unique_values = weather[col].unique()\n",
        "    unique_values_dict[col] = unique_values\n",
        "\n",
        "# Print unique values\n",
        "for col, values in unique_values_dict.items():\n",
        "    print(f'Unique values in {col}:')\n",
        "    print(values)\n",
        "    print('-' * 30)\n"
      ]
    },
    {
      "cell_type": "code",
      "execution_count": null,
      "id": "8019263e",
      "metadata": {
        "id": "8019263e"
      },
      "outputs": [],
      "source": [
        "# Convert columns to categorical\n",
        "weather.Type = weather.Type.astype('category')\n",
        "weather.TimeZone = weather.TimeZone.astype('category')\n",
        "weather.Severity = weather.Severity.astype('category')\n",
        "weather.AirportCode = weather.AirportCode.astype('category')\n",
        "weather.State = weather.State.astype('category')\n",
        "weather.City = weather.City.astype('category')\n",
        "weather.County = weather.County.astype('category')\n",
        "\n",
        "# Now the columns are converted to categorical type"
      ]
    },
    {
      "cell_type": "code",
      "execution_count": null,
      "id": "23af1294",
      "metadata": {
        "id": "23af1294",
        "outputId": "1d5d7cf4-2393-4046-8187-106d7378bd1c"
      },
      "outputs": [
        {
          "name": "stdout",
          "output_type": "stream",
          "text": [
            "<class 'pandas.core.frame.DataFrame'>\n",
            "RangeIndex: 31355575 entries, 0 to 31355574\n",
            "Data columns (total 19 columns):\n",
            " #   Column          Dtype   \n",
            "---  ------          -----   \n",
            " 0   EventId         object  \n",
            " 1   Type            category\n",
            " 2   Severity        int64   \n",
            " 3   TMC             int64   \n",
            " 4   Description     object  \n",
            " 5   StartTime(UTC)  object  \n",
            " 6   EndTime(UTC)    object  \n",
            " 7   TimeZone        category\n",
            " 8   LocationLat     float64 \n",
            " 9   LocationLng     float64 \n",
            " 10  Distance(mi)    float64 \n",
            " 11  AirportCode     category\n",
            " 12  Number          float64 \n",
            " 13  Street          object  \n",
            " 14  Side            object  \n",
            " 15  City            category\n",
            " 16  County          category\n",
            " 17  State           category\n",
            " 18  ZipCode         float64 \n",
            "dtypes: category(6), float64(5), int64(2), object(6)\n",
            "memory usage: 3.3+ GB\n"
          ]
        }
      ],
      "source": [
        "data.info()"
      ]
    },
    {
      "cell_type": "code",
      "execution_count": null,
      "id": "cc619ae9",
      "metadata": {
        "id": "cc619ae9",
        "outputId": "0f89474d-e7d4-4274-e05b-3cd4b9301ad4"
      },
      "outputs": [
        {
          "name": "stdout",
          "output_type": "stream",
          "text": [
            "<class 'pandas.core.frame.DataFrame'>\n",
            "RangeIndex: 5576434 entries, 0 to 5576433\n",
            "Data columns (total 13 columns):\n",
            " #   Column          Dtype   \n",
            "---  ------          -----   \n",
            " 0   EventId         object  \n",
            " 1   Type            category\n",
            " 2   Severity        category\n",
            " 3   StartTime(UTC)  object  \n",
            " 4   EndTime(UTC)    object  \n",
            " 5   TimeZone        category\n",
            " 6   LocationLat     float64 \n",
            " 7   LocationLng     float64 \n",
            " 8   AirportCode     category\n",
            " 9   City            category\n",
            " 10  County          category\n",
            " 11  State           category\n",
            " 12  ZipCode         float64 \n",
            "dtypes: category(7), float64(3), object(3)\n",
            "memory usage: 308.6+ MB\n"
          ]
        }
      ],
      "source": [
        "weather.info()"
      ]
    },
    {
      "cell_type": "code",
      "execution_count": null,
      "id": "bdaab485",
      "metadata": {
        "id": "bdaab485"
      },
      "outputs": [],
      "source": [
        "accident_count = len(data[data['Type'] == 'Accident'])"
      ]
    },
    {
      "cell_type": "code",
      "execution_count": null,
      "id": "836d5f45",
      "metadata": {
        "id": "836d5f45",
        "outputId": "1536b482-ca70-460f-827c-0f0c59386e68"
      },
      "outputs": [
        {
          "name": "stdout",
          "output_type": "stream",
          "text": [
            "2638575\n"
          ]
        }
      ],
      "source": [
        "print(accident_count)"
      ]
    },
    {
      "cell_type": "code",
      "execution_count": null,
      "id": "c562d996",
      "metadata": {
        "id": "c562d996"
      },
      "outputs": [],
      "source": [
        "accident_df = data[data['Type'] == 'Accident'].copy()"
      ]
    },
    {
      "cell_type": "code",
      "execution_count": null,
      "id": "f9170a88",
      "metadata": {
        "id": "f9170a88",
        "outputId": "bf15a5fc-d1b2-4670-bb3c-918110d62a57"
      },
      "outputs": [
        {
          "name": "stdout",
          "output_type": "stream",
          "text": [
            "<class 'pandas.core.frame.DataFrame'>\n",
            "Int64Index: 2638575 entries, 61 to 31355573\n",
            "Data columns (total 19 columns):\n",
            " #   Column          Dtype   \n",
            "---  ------          -----   \n",
            " 0   EventId         object  \n",
            " 1   Type            category\n",
            " 2   Severity        int64   \n",
            " 3   TMC             int64   \n",
            " 4   Description     object  \n",
            " 5   StartTime(UTC)  object  \n",
            " 6   EndTime(UTC)    object  \n",
            " 7   TimeZone        category\n",
            " 8   LocationLat     float64 \n",
            " 9   LocationLng     float64 \n",
            " 10  Distance(mi)    float64 \n",
            " 11  AirportCode     category\n",
            " 12  Number          float64 \n",
            " 13  Street          object  \n",
            " 14  Side            object  \n",
            " 15  City            category\n",
            " 16  County          category\n",
            " 17  State           category\n",
            " 18  ZipCode         float64 \n",
            "dtypes: category(6), float64(5), int64(2), object(6)\n",
            "memory usage: 305.3+ MB\n"
          ]
        }
      ],
      "source": [
        "accident_df.info()"
      ]
    },
    {
      "cell_type": "code",
      "execution_count": null,
      "id": "1be6aedc",
      "metadata": {
        "id": "1be6aedc"
      },
      "outputs": [],
      "source": [
        "accident_df.to_csv('accident_data.csv', index=False)"
      ]
    },
    {
      "cell_type": "code",
      "execution_count": null,
      "id": "a0223e58",
      "metadata": {
        "tags": [],
        "id": "a0223e58"
      },
      "outputs": [],
      "source": [
        "accident_data = pd.read_csv('s3://abhilasha-lstw-11102023/accident_data.csv')"
      ]
    },
    {
      "cell_type": "code",
      "execution_count": null,
      "id": "1af6cf70",
      "metadata": {
        "id": "1af6cf70",
        "outputId": "64f4966b-aa2a-486a-b041-ef7ec034f092"
      },
      "outputs": [
        {
          "data": {
            "text/html": [
              "<div>\n",
              "<style scoped>\n",
              "    .dataframe tbody tr th:only-of-type {\n",
              "        vertical-align: middle;\n",
              "    }\n",
              "\n",
              "    .dataframe tbody tr th {\n",
              "        vertical-align: top;\n",
              "    }\n",
              "\n",
              "    .dataframe thead th {\n",
              "        text-align: right;\n",
              "    }\n",
              "</style>\n",
              "<table border=\"1\" class=\"dataframe\">\n",
              "  <thead>\n",
              "    <tr style=\"text-align: right;\">\n",
              "      <th></th>\n",
              "      <th>Severity</th>\n",
              "      <th>TMC</th>\n",
              "      <th>LocationLat</th>\n",
              "      <th>LocationLng</th>\n",
              "      <th>Distance(mi)</th>\n",
              "      <th>Number</th>\n",
              "      <th>ZipCode</th>\n",
              "    </tr>\n",
              "  </thead>\n",
              "  <tbody>\n",
              "    <tr>\n",
              "      <th>count</th>\n",
              "      <td>2.638575e+06</td>\n",
              "      <td>2.638575e+06</td>\n",
              "      <td>2.638575e+06</td>\n",
              "      <td>2.638575e+06</td>\n",
              "      <td>2.638575e+06</td>\n",
              "      <td>1.049723e+06</td>\n",
              "      <td>2.638226e+06</td>\n",
              "    </tr>\n",
              "    <tr>\n",
              "      <th>mean</th>\n",
              "      <td>2.340344e+00</td>\n",
              "      <td>2.083166e+02</td>\n",
              "      <td>3.612236e+01</td>\n",
              "      <td>-9.336755e+01</td>\n",
              "      <td>2.007354e-01</td>\n",
              "      <td>4.913597e+03</td>\n",
              "      <td>5.422097e+04</td>\n",
              "    </tr>\n",
              "    <tr>\n",
              "      <th>std</th>\n",
              "      <td>4.822737e-01</td>\n",
              "      <td>2.126712e+01</td>\n",
              "      <td>4.841487e+00</td>\n",
              "      <td>1.625218e+01</td>\n",
              "      <td>1.588916e+00</td>\n",
              "      <td>9.810078e+03</td>\n",
              "      <td>2.955142e+04</td>\n",
              "    </tr>\n",
              "    <tr>\n",
              "      <th>min</th>\n",
              "      <td>0.000000e+00</td>\n",
              "      <td>2.000000e+02</td>\n",
              "      <td>2.455527e+01</td>\n",
              "      <td>-1.246238e+02</td>\n",
              "      <td>0.000000e+00</td>\n",
              "      <td>1.000000e+00</td>\n",
              "      <td>1.001000e+03</td>\n",
              "    </tr>\n",
              "    <tr>\n",
              "      <th>25%</th>\n",
              "      <td>2.000000e+00</td>\n",
              "      <td>2.010000e+02</td>\n",
              "      <td>3.318824e+01</td>\n",
              "      <td>-1.062966e+02</td>\n",
              "      <td>0.000000e+00</td>\n",
              "      <td>7.940000e+02</td>\n",
              "      <td>2.940600e+04</td>\n",
              "    </tr>\n",
              "    <tr>\n",
              "      <th>50%</th>\n",
              "      <td>2.000000e+00</td>\n",
              "      <td>2.010000e+02</td>\n",
              "      <td>3.541802e+01</td>\n",
              "      <td>-8.752540e+01</td>\n",
              "      <td>0.000000e+00</td>\n",
              "      <td>2.498000e+03</td>\n",
              "      <td>4.850600e+04</td>\n",
              "    </tr>\n",
              "    <tr>\n",
              "      <th>75%</th>\n",
              "      <td>3.000000e+00</td>\n",
              "      <td>2.010000e+02</td>\n",
              "      <td>3.999107e+01</td>\n",
              "      <td>-8.081963e+01</td>\n",
              "      <td>0.000000e+00</td>\n",
              "      <td>6.298000e+03</td>\n",
              "      <td>8.046500e+04</td>\n",
              "    </tr>\n",
              "    <tr>\n",
              "      <th>max</th>\n",
              "      <td>4.000000e+00</td>\n",
              "      <td>4.060000e+02</td>\n",
              "      <td>4.900220e+01</td>\n",
              "      <td>-6.783974e+01</td>\n",
              "      <td>4.417500e+02</td>\n",
              "      <td>9.904150e+05</td>\n",
              "      <td>9.940300e+04</td>\n",
              "    </tr>\n",
              "  </tbody>\n",
              "</table>\n",
              "</div>"
            ],
            "text/plain": [
              "           Severity           TMC   LocationLat   LocationLng  Distance(mi)  \\\n",
              "count  2.638575e+06  2.638575e+06  2.638575e+06  2.638575e+06  2.638575e+06   \n",
              "mean   2.340344e+00  2.083166e+02  3.612236e+01 -9.336755e+01  2.007354e-01   \n",
              "std    4.822737e-01  2.126712e+01  4.841487e+00  1.625218e+01  1.588916e+00   \n",
              "min    0.000000e+00  2.000000e+02  2.455527e+01 -1.246238e+02  0.000000e+00   \n",
              "25%    2.000000e+00  2.010000e+02  3.318824e+01 -1.062966e+02  0.000000e+00   \n",
              "50%    2.000000e+00  2.010000e+02  3.541802e+01 -8.752540e+01  0.000000e+00   \n",
              "75%    3.000000e+00  2.010000e+02  3.999107e+01 -8.081963e+01  0.000000e+00   \n",
              "max    4.000000e+00  4.060000e+02  4.900220e+01 -6.783974e+01  4.417500e+02   \n",
              "\n",
              "             Number       ZipCode  \n",
              "count  1.049723e+06  2.638226e+06  \n",
              "mean   4.913597e+03  5.422097e+04  \n",
              "std    9.810078e+03  2.955142e+04  \n",
              "min    1.000000e+00  1.001000e+03  \n",
              "25%    7.940000e+02  2.940600e+04  \n",
              "50%    2.498000e+03  4.850600e+04  \n",
              "75%    6.298000e+03  8.046500e+04  \n",
              "max    9.904150e+05  9.940300e+04  "
            ]
          },
          "execution_count": 11,
          "metadata": {},
          "output_type": "execute_result"
        }
      ],
      "source": [
        "accident_data.describe()"
      ]
    },
    {
      "cell_type": "code",
      "execution_count": null,
      "id": "ce0fb9e4",
      "metadata": {
        "id": "ce0fb9e4",
        "outputId": "fb2c0ee4-ede0-40bd-8d92-8aceb31b8631"
      },
      "outputs": [
        {
          "name": "stdout",
          "output_type": "stream",
          "text": [
            "<class 'pandas.core.frame.DataFrame'>\n",
            "RangeIndex: 2638575 entries, 0 to 2638574\n",
            "Data columns (total 19 columns):\n",
            " #   Column          Dtype  \n",
            "---  ------          -----  \n",
            " 0   EventId         object \n",
            " 1   Type            object \n",
            " 2   Severity        int64  \n",
            " 3   TMC             int64  \n",
            " 4   Description     object \n",
            " 5   StartTime(UTC)  object \n",
            " 6   EndTime(UTC)    object \n",
            " 7   TimeZone        object \n",
            " 8   LocationLat     float64\n",
            " 9   LocationLng     float64\n",
            " 10  Distance(mi)    float64\n",
            " 11  AirportCode     object \n",
            " 12  Number          float64\n",
            " 13  Street          object \n",
            " 14  Side            object \n",
            " 15  City            object \n",
            " 16  County          object \n",
            " 17  State           object \n",
            " 18  ZipCode         float64\n",
            "dtypes: float64(5), int64(2), object(12)\n",
            "memory usage: 382.5+ MB\n"
          ]
        }
      ],
      "source": [
        "accident_data.info()"
      ]
    },
    {
      "cell_type": "code",
      "execution_count": null,
      "id": "c0e4f689",
      "metadata": {
        "id": "c0e4f689",
        "outputId": "17a28dcf-669e-4bd7-d015-8ff0d2342fe9"
      },
      "outputs": [
        {
          "data": {
            "text/html": [
              "<div>\n",
              "<style scoped>\n",
              "    .dataframe tbody tr th:only-of-type {\n",
              "        vertical-align: middle;\n",
              "    }\n",
              "\n",
              "    .dataframe tbody tr th {\n",
              "        vertical-align: top;\n",
              "    }\n",
              "\n",
              "    .dataframe thead th {\n",
              "        text-align: right;\n",
              "    }\n",
              "</style>\n",
              "<table border=\"1\" class=\"dataframe\">\n",
              "  <thead>\n",
              "    <tr style=\"text-align: right;\">\n",
              "      <th></th>\n",
              "      <th>EventId</th>\n",
              "      <th>Type</th>\n",
              "      <th>Severity</th>\n",
              "      <th>TMC</th>\n",
              "      <th>Description</th>\n",
              "      <th>StartTime(UTC)</th>\n",
              "      <th>EndTime(UTC)</th>\n",
              "      <th>TimeZone</th>\n",
              "      <th>LocationLat</th>\n",
              "      <th>LocationLng</th>\n",
              "      <th>Distance(mi)</th>\n",
              "      <th>AirportCode</th>\n",
              "      <th>Number</th>\n",
              "      <th>Street</th>\n",
              "      <th>Side</th>\n",
              "      <th>City</th>\n",
              "      <th>County</th>\n",
              "      <th>State</th>\n",
              "      <th>ZipCode</th>\n",
              "    </tr>\n",
              "  </thead>\n",
              "  <tbody>\n",
              "    <tr>\n",
              "      <th>0</th>\n",
              "      <td>T-38844</td>\n",
              "      <td>Accident</td>\n",
              "      <td>3</td>\n",
              "      <td>201</td>\n",
              "      <td>Accident on I-80 Eastbound at Exits 47 47A 47B...</td>\n",
              "      <td>2016-08-01 01:05:41</td>\n",
              "      <td>2016-08-01 01:35:41</td>\n",
              "      <td>US/Pacific</td>\n",
              "      <td>38.275646</td>\n",
              "      <td>-122.047577</td>\n",
              "      <td>0.0</td>\n",
              "      <td>KSUU</td>\n",
              "      <td>NaN</td>\n",
              "      <td>I-80 E</td>\n",
              "      <td>R</td>\n",
              "      <td>Fairfield</td>\n",
              "      <td>Solano</td>\n",
              "      <td>CA</td>\n",
              "      <td>94533.0</td>\n",
              "    </tr>\n",
              "    <tr>\n",
              "      <th>1</th>\n",
              "      <td>T-38975</td>\n",
              "      <td>Accident</td>\n",
              "      <td>2</td>\n",
              "      <td>201</td>\n",
              "      <td>Accident on US-101 Southbound at Exit 483 Rohn...</td>\n",
              "      <td>2016-08-01 03:08:16</td>\n",
              "      <td>2016-08-01 03:38:16</td>\n",
              "      <td>US/Pacific</td>\n",
              "      <td>38.348320</td>\n",
              "      <td>-122.713165</td>\n",
              "      <td>0.0</td>\n",
              "      <td>KO69</td>\n",
              "      <td>NaN</td>\n",
              "      <td>Redwood Hwy S</td>\n",
              "      <td>R</td>\n",
              "      <td>Rohnert Park</td>\n",
              "      <td>Sonoma</td>\n",
              "      <td>CA</td>\n",
              "      <td>94928.0</td>\n",
              "    </tr>\n",
              "    <tr>\n",
              "      <th>2</th>\n",
              "      <td>T-38983</td>\n",
              "      <td>Accident</td>\n",
              "      <td>2</td>\n",
              "      <td>201</td>\n",
              "      <td>Accident on US-101 Southbound at Exits 430A 43...</td>\n",
              "      <td>2016-08-01 03:09:06</td>\n",
              "      <td>2016-08-01 03:39:06</td>\n",
              "      <td>US/Pacific</td>\n",
              "      <td>37.734898</td>\n",
              "      <td>-122.408661</td>\n",
              "      <td>0.0</td>\n",
              "      <td>KSFO</td>\n",
              "      <td>NaN</td>\n",
              "      <td>I-280 S</td>\n",
              "      <td>R</td>\n",
              "      <td>San Francisco</td>\n",
              "      <td>San Francisco</td>\n",
              "      <td>CA</td>\n",
              "      <td>94134.0</td>\n",
              "    </tr>\n",
              "    <tr>\n",
              "      <th>3</th>\n",
              "      <td>T-38994</td>\n",
              "      <td>Accident</td>\n",
              "      <td>2</td>\n",
              "      <td>201</td>\n",
              "      <td>Accident on Mays Canyon Rd both ways at CA-116...</td>\n",
              "      <td>2016-08-01 03:11:04</td>\n",
              "      <td>2016-08-01 03:41:04</td>\n",
              "      <td>US/Pacific</td>\n",
              "      <td>38.485943</td>\n",
              "      <td>-122.961952</td>\n",
              "      <td>0.0</td>\n",
              "      <td>KSTS</td>\n",
              "      <td>11181.0</td>\n",
              "      <td>Pocket Canyon Rd</td>\n",
              "      <td>L</td>\n",
              "      <td>Guerneville</td>\n",
              "      <td>Sonoma</td>\n",
              "      <td>CA</td>\n",
              "      <td>95446.0</td>\n",
              "    </tr>\n",
              "    <tr>\n",
              "      <th>4</th>\n",
              "      <td>T-39006</td>\n",
              "      <td>Accident</td>\n",
              "      <td>2</td>\n",
              "      <td>201</td>\n",
              "      <td>Accident on Highway Ave Westbound at Siino Ave...</td>\n",
              "      <td>2016-08-01 03:16:52</td>\n",
              "      <td>2016-08-01 03:46:52</td>\n",
              "      <td>US/Pacific</td>\n",
              "      <td>38.028072</td>\n",
              "      <td>-121.934494</td>\n",
              "      <td>0.0</td>\n",
              "      <td>KCCR</td>\n",
              "      <td>101.0</td>\n",
              "      <td>Highway Ave</td>\n",
              "      <td>L</td>\n",
              "      <td>Bay Point</td>\n",
              "      <td>Contra Costa</td>\n",
              "      <td>CA</td>\n",
              "      <td>94565.0</td>\n",
              "    </tr>\n",
              "  </tbody>\n",
              "</table>\n",
              "</div>"
            ],
            "text/plain": [
              "   EventId      Type  Severity  TMC  \\\n",
              "0  T-38844  Accident         3  201   \n",
              "1  T-38975  Accident         2  201   \n",
              "2  T-38983  Accident         2  201   \n",
              "3  T-38994  Accident         2  201   \n",
              "4  T-39006  Accident         2  201   \n",
              "\n",
              "                                         Description       StartTime(UTC)  \\\n",
              "0  Accident on I-80 Eastbound at Exits 47 47A 47B...  2016-08-01 01:05:41   \n",
              "1  Accident on US-101 Southbound at Exit 483 Rohn...  2016-08-01 03:08:16   \n",
              "2  Accident on US-101 Southbound at Exits 430A 43...  2016-08-01 03:09:06   \n",
              "3  Accident on Mays Canyon Rd both ways at CA-116...  2016-08-01 03:11:04   \n",
              "4  Accident on Highway Ave Westbound at Siino Ave...  2016-08-01 03:16:52   \n",
              "\n",
              "          EndTime(UTC)    TimeZone  LocationLat  LocationLng  Distance(mi)  \\\n",
              "0  2016-08-01 01:35:41  US/Pacific    38.275646  -122.047577           0.0   \n",
              "1  2016-08-01 03:38:16  US/Pacific    38.348320  -122.713165           0.0   \n",
              "2  2016-08-01 03:39:06  US/Pacific    37.734898  -122.408661           0.0   \n",
              "3  2016-08-01 03:41:04  US/Pacific    38.485943  -122.961952           0.0   \n",
              "4  2016-08-01 03:46:52  US/Pacific    38.028072  -121.934494           0.0   \n",
              "\n",
              "  AirportCode   Number            Street Side           City         County  \\\n",
              "0        KSUU      NaN            I-80 E    R      Fairfield         Solano   \n",
              "1        KO69      NaN     Redwood Hwy S    R   Rohnert Park         Sonoma   \n",
              "2        KSFO      NaN           I-280 S    R  San Francisco  San Francisco   \n",
              "3        KSTS  11181.0  Pocket Canyon Rd    L    Guerneville         Sonoma   \n",
              "4        KCCR    101.0       Highway Ave    L      Bay Point   Contra Costa   \n",
              "\n",
              "  State  ZipCode  \n",
              "0    CA  94533.0  \n",
              "1    CA  94928.0  \n",
              "2    CA  94134.0  \n",
              "3    CA  95446.0  \n",
              "4    CA  94565.0  "
            ]
          },
          "execution_count": 16,
          "metadata": {},
          "output_type": "execute_result"
        }
      ],
      "source": [
        "accident_data.head()"
      ]
    },
    {
      "cell_type": "markdown",
      "source": [
        "Handling Missing Values"
      ],
      "metadata": {
        "id": "R3YYGExACi1d"
      },
      "id": "R3YYGExACi1d"
    },
    {
      "cell_type": "code",
      "execution_count": null,
      "id": "28828753",
      "metadata": {
        "tags": [],
        "id": "28828753",
        "outputId": "3983ca36-23ac-45f8-bde1-9821cd0ddb10"
      },
      "outputs": [
        {
          "data": {
            "text/plain": [
              "EventId                 0\n",
              "Type                    0\n",
              "Severity                0\n",
              "TMC                     0\n",
              "Description             2\n",
              "StartTime(UTC)          0\n",
              "EndTime(UTC)            0\n",
              "TimeZone             2305\n",
              "LocationLat             0\n",
              "LocationLng             0\n",
              "Distance(mi)            0\n",
              "AirportCode          4716\n",
              "Number            1588852\n",
              "Street                  0\n",
              "Side                    0\n",
              "City                   51\n",
              "County                  0\n",
              "State                   0\n",
              "ZipCode               349\n",
              "dtype: int64"
            ]
          },
          "execution_count": 29,
          "metadata": {},
          "output_type": "execute_result"
        }
      ],
      "source": [
        "accident_data.isnull().sum()"
      ]
    },
    {
      "cell_type": "code",
      "execution_count": null,
      "id": "56eb1ab1",
      "metadata": {
        "tags": [],
        "id": "56eb1ab1",
        "outputId": "3e1ff3f6-f094-4719-c1f3-e5655763a3ac"
      },
      "outputs": [
        {
          "data": {
            "text/plain": [
              "<Axes: >"
            ]
          },
          "execution_count": 19,
          "metadata": {},
          "output_type": "execute_result"
        },
        {
          "data": {
            "image/png": "[encoded data removed]",
            "text/plain": [
              "<Figure size 640x480 with 1 Axes>"
            ]
          },
          "metadata": {},
          "output_type": "display_data"
        }
      ],
      "source": [
        "missing_percentage = accident_data.isna().sum().sort_values(ascending = False) / len(accident_data)\n",
        "missing_percentage[missing_percentage != 0].plot(kind = \"barh\")"
      ]
    },
    {
      "cell_type": "code",
      "execution_count": null,
      "id": "f1fda9d6-4aef-4468-be0a-d10a6a495c00",
      "metadata": {
        "tags": [],
        "id": "f1fda9d6-4aef-4468-be0a-d10a6a495c00"
      },
      "outputs": [],
      "source": [
        "accident_main = accident_data.drop(columns=['EventId','County','TMC','Description','Number','Side','Street'])"
      ]
    },
    {
      "cell_type": "code",
      "execution_count": null,
      "id": "3c0afa96-c4cc-4731-9d41-0d35f222cc3a",
      "metadata": {
        "tags": [],
        "id": "3c0afa96-c4cc-4731-9d41-0d35f222cc3a",
        "outputId": "3afe8665-5e65-4573-b3cd-35c614d095e3"
      },
      "outputs": [
        {
          "data": {
            "text/plain": [
              "Type              0\n",
              "Severity          0\n",
              "StartTime(UTC)    0\n",
              "EndTime(UTC)      0\n",
              "TimeZone          0\n",
              "LocationLat       0\n",
              "LocationLng       0\n",
              "Distance(mi)      0\n",
              "AirportCode       0\n",
              "City              0\n",
              "State             0\n",
              "ZipCode           0\n",
              "dtype: int64"
            ]
          },
          "execution_count": 55,
          "metadata": {},
          "output_type": "execute_result"
        }
      ],
      "source": [
        "accident_main.isnull().sum()"
      ]
    },
    {
      "cell_type": "code",
      "execution_count": null,
      "id": "b4fa7fb3-e7a9-49f4-b329-c5fbfacbfc0e",
      "metadata": {
        "tags": [],
        "id": "b4fa7fb3-e7a9-49f4-b329-c5fbfacbfc0e",
        "outputId": "73386b73-fdad-4b8c-b3b3-c63da985e08a"
      },
      "outputs": [
        {
          "data": {
            "text/html": [
              "<div>\n",
              "<style scoped>\n",
              "    .dataframe tbody tr th:only-of-type {\n",
              "        vertical-align: middle;\n",
              "    }\n",
              "\n",
              "    .dataframe tbody tr th {\n",
              "        vertical-align: top;\n",
              "    }\n",
              "\n",
              "    .dataframe thead th {\n",
              "        text-align: right;\n",
              "    }\n",
              "</style>\n",
              "<table border=\"1\" class=\"dataframe\">\n",
              "  <thead>\n",
              "    <tr style=\"text-align: right;\">\n",
              "      <th></th>\n",
              "      <th>Type</th>\n",
              "      <th>Severity</th>\n",
              "      <th>StartTime(UTC)</th>\n",
              "      <th>EndTime(UTC)</th>\n",
              "      <th>TimeZone</th>\n",
              "      <th>LocationLat</th>\n",
              "      <th>LocationLng</th>\n",
              "      <th>Distance(mi)</th>\n",
              "      <th>AirportCode</th>\n",
              "      <th>City</th>\n",
              "      <th>State</th>\n",
              "      <th>ZipCode</th>\n",
              "    </tr>\n",
              "  </thead>\n",
              "  <tbody>\n",
              "    <tr>\n",
              "      <th>0</th>\n",
              "      <td>Accident</td>\n",
              "      <td>3</td>\n",
              "      <td>2016-08-01 01:05:41</td>\n",
              "      <td>2016-08-01 01:35:41</td>\n",
              "      <td>US/Pacific</td>\n",
              "      <td>38.275646</td>\n",
              "      <td>-122.047577</td>\n",
              "      <td>0.0</td>\n",
              "      <td>KSUU</td>\n",
              "      <td>Fairfield</td>\n",
              "      <td>CA</td>\n",
              "      <td>94533.0</td>\n",
              "    </tr>\n",
              "    <tr>\n",
              "      <th>1</th>\n",
              "      <td>Accident</td>\n",
              "      <td>2</td>\n",
              "      <td>2016-08-01 03:08:16</td>\n",
              "      <td>2016-08-01 03:38:16</td>\n",
              "      <td>US/Pacific</td>\n",
              "      <td>38.348320</td>\n",
              "      <td>-122.713165</td>\n",
              "      <td>0.0</td>\n",
              "      <td>KO69</td>\n",
              "      <td>Rohnert Park</td>\n",
              "      <td>CA</td>\n",
              "      <td>94928.0</td>\n",
              "    </tr>\n",
              "    <tr>\n",
              "      <th>2</th>\n",
              "      <td>Accident</td>\n",
              "      <td>2</td>\n",
              "      <td>2016-08-01 03:09:06</td>\n",
              "      <td>2016-08-01 03:39:06</td>\n",
              "      <td>US/Pacific</td>\n",
              "      <td>37.734898</td>\n",
              "      <td>-122.408661</td>\n",
              "      <td>0.0</td>\n",
              "      <td>KSFO</td>\n",
              "      <td>San Francisco</td>\n",
              "      <td>CA</td>\n",
              "      <td>94134.0</td>\n",
              "    </tr>\n",
              "    <tr>\n",
              "      <th>3</th>\n",
              "      <td>Accident</td>\n",
              "      <td>2</td>\n",
              "      <td>2016-08-01 03:11:04</td>\n",
              "      <td>2016-08-01 03:41:04</td>\n",
              "      <td>US/Pacific</td>\n",
              "      <td>38.485943</td>\n",
              "      <td>-122.961952</td>\n",
              "      <td>0.0</td>\n",
              "      <td>KSTS</td>\n",
              "      <td>Guerneville</td>\n",
              "      <td>CA</td>\n",
              "      <td>95446.0</td>\n",
              "    </tr>\n",
              "    <tr>\n",
              "      <th>4</th>\n",
              "      <td>Accident</td>\n",
              "      <td>2</td>\n",
              "      <td>2016-08-01 03:16:52</td>\n",
              "      <td>2016-08-01 03:46:52</td>\n",
              "      <td>US/Pacific</td>\n",
              "      <td>38.028072</td>\n",
              "      <td>-121.934494</td>\n",
              "      <td>0.0</td>\n",
              "      <td>KCCR</td>\n",
              "      <td>Bay Point</td>\n",
              "      <td>CA</td>\n",
              "      <td>94565.0</td>\n",
              "    </tr>\n",
              "  </tbody>\n",
              "</table>\n",
              "</div>"
            ],
            "text/plain": [
              "       Type  Severity       StartTime(UTC)         EndTime(UTC)    TimeZone  \\\n",
              "0  Accident         3  2016-08-01 01:05:41  2016-08-01 01:35:41  US/Pacific   \n",
              "1  Accident         2  2016-08-01 03:08:16  2016-08-01 03:38:16  US/Pacific   \n",
              "2  Accident         2  2016-08-01 03:09:06  2016-08-01 03:39:06  US/Pacific   \n",
              "3  Accident         2  2016-08-01 03:11:04  2016-08-01 03:41:04  US/Pacific   \n",
              "4  Accident         2  2016-08-01 03:16:52  2016-08-01 03:46:52  US/Pacific   \n",
              "\n",
              "   LocationLat  LocationLng  Distance(mi) AirportCode           City State  \\\n",
              "0    38.275646  -122.047577           0.0        KSUU      Fairfield    CA   \n",
              "1    38.348320  -122.713165           0.0        KO69   Rohnert Park    CA   \n",
              "2    37.734898  -122.408661           0.0        KSFO  San Francisco    CA   \n",
              "3    38.485943  -122.961952           0.0        KSTS    Guerneville    CA   \n",
              "4    38.028072  -121.934494           0.0        KCCR      Bay Point    CA   \n",
              "\n",
              "   ZipCode  \n",
              "0  94533.0  \n",
              "1  94928.0  \n",
              "2  94134.0  \n",
              "3  95446.0  \n",
              "4  94565.0  "
            ]
          },
          "execution_count": 52,
          "metadata": {},
          "output_type": "execute_result"
        }
      ],
      "source": [
        "accident_main = accident_main[accident_main['ZipCode'].notnull()]\n",
        "accident_main.head()"
      ]
    },
    {
      "cell_type": "code",
      "execution_count": null,
      "id": "3f0970ae-eb23-4c0e-afff-7c2f6cbfd5fb",
      "metadata": {
        "tags": [],
        "id": "3f0970ae-eb23-4c0e-afff-7c2f6cbfd5fb"
      },
      "outputs": [],
      "source": [
        "accident_main = accident_main[accident_main['AirportCode'].notnull()]"
      ]
    },
    {
      "cell_type": "code",
      "execution_count": null,
      "id": "438a684a-5452-4fa8-9d25-46220f5025e5",
      "metadata": {
        "tags": [],
        "id": "438a684a-5452-4fa8-9d25-46220f5025e5"
      },
      "outputs": [],
      "source": [
        "accident_main = accident_main[accident_main['City'].notnull()]"
      ]
    },
    {
      "cell_type": "code",
      "execution_count": null,
      "id": "96a654bf",
      "metadata": {
        "id": "96a654bf",
        "outputId": "2cff8813-39f7-4d90-91b1-63016e72682f"
      },
      "outputs": [
        {
          "data": {
            "text/plain": [
              "EventId               0\n",
              "Type                  0\n",
              "Severity              0\n",
              "StartTime(UTC)        0\n",
              "EndTime(UTC)          0\n",
              "TimeZone              0\n",
              "LocationLat           0\n",
              "LocationLng           0\n",
              "AirportCode           0\n",
              "City              10784\n",
              "County                0\n",
              "State                 0\n",
              "ZipCode           43630\n",
              "dtype: int64"
            ]
          },
          "execution_count": 69,
          "metadata": {},
          "output_type": "execute_result"
        }
      ],
      "source": [
        "weather.isnull().sum()"
      ]
    },
    {
      "cell_type": "code",
      "execution_count": null,
      "id": "f5fa8dcd",
      "metadata": {
        "id": "f5fa8dcd",
        "outputId": "96b41481-e209-42e7-e4e5-924a5702290f"
      },
      "outputs": [
        {
          "data": {
            "text/plain": [
              "<AxesSubplot:>"
            ]
          },
          "execution_count": 23,
          "metadata": {},
          "output_type": "execute_result"
        },
        {
          "data": {
            "image/png": "[encoded data removed]",
            "text/plain": [
              "<Figure size 432x288 with 1 Axes>"
            ]
          },
          "metadata": {
            "needs_background": "light"
          },
          "output_type": "display_data"
        }
      ],
      "source": [
        "missing_percentage = weather.isna().sum().sort_values(ascending = False) / len(weather)\n",
        "missing_percentage[missing_percentage != 0].plot(kind = \"barh\")"
      ]
    },
    {
      "cell_type": "code",
      "execution_count": null,
      "id": "54824843",
      "metadata": {
        "id": "54824843",
        "outputId": "6b5f50b2-ea6f-4c4a-bddd-449fe35e2a2e"
      },
      "outputs": [
        {
          "data": {
            "text/plain": [
              "<AxesSubplot:>"
            ]
          },
          "execution_count": 36,
          "metadata": {},
          "output_type": "execute_result"
        },
        {
          "data": {
            "image/png": "[encoded data removed]",
            "text/plain": [
              "<Figure size 432x288 with 1 Axes>"
            ]
          },
          "metadata": {
            "needs_background": "light"
          },
          "output_type": "display_data"
        }
      ],
      "source": [
        "missing_percentage = accident_main.isna().sum().sort_values(ascending = False) / len(accident_main)\n",
        "missing_percentage[missing_percentage != 0].plot(kind = \"barh\")"
      ]
    },
    {
      "cell_type": "code",
      "execution_count": null,
      "id": "6637f566",
      "metadata": {
        "tags": [],
        "id": "6637f566"
      },
      "outputs": [],
      "source": [
        "weather_main = weather.drop(columns=['EventId','County'])"
      ]
    },
    {
      "cell_type": "code",
      "execution_count": null,
      "id": "a93bb19f",
      "metadata": {
        "tags": [],
        "id": "a93bb19f",
        "outputId": "77f889a7-304a-491f-b455-e6c541accaff"
      },
      "outputs": [
        {
          "data": {
            "text/plain": [
              "Type              0\n",
              "Severity          0\n",
              "StartTime(UTC)    0\n",
              "EndTime(UTC)      0\n",
              "TimeZone          0\n",
              "LocationLat       0\n",
              "LocationLng       0\n",
              "AirportCode       0\n",
              "City              0\n",
              "State             0\n",
              "ZipCode           0\n",
              "dtype: int64"
            ]
          },
          "execution_count": 23,
          "metadata": {},
          "output_type": "execute_result"
        }
      ],
      "source": [
        "weather_main.isnull().sum()"
      ]
    },
    {
      "cell_type": "code",
      "execution_count": null,
      "id": "5df943a6",
      "metadata": {
        "tags": [],
        "id": "5df943a6",
        "outputId": "55c90ee8-0342-471e-af76-5fff17d00765"
      },
      "outputs": [
        {
          "data": {
            "text/html": [
              "<div>\n",
              "<style scoped>\n",
              "    .dataframe tbody tr th:only-of-type {\n",
              "        vertical-align: middle;\n",
              "    }\n",
              "\n",
              "    .dataframe tbody tr th {\n",
              "        vertical-align: top;\n",
              "    }\n",
              "\n",
              "    .dataframe thead th {\n",
              "        text-align: right;\n",
              "    }\n",
              "</style>\n",
              "<table border=\"1\" class=\"dataframe\">\n",
              "  <thead>\n",
              "    <tr style=\"text-align: right;\">\n",
              "      <th></th>\n",
              "      <th>Type</th>\n",
              "      <th>Severity</th>\n",
              "      <th>StartTime(UTC)</th>\n",
              "      <th>EndTime(UTC)</th>\n",
              "      <th>TimeZone</th>\n",
              "      <th>LocationLat</th>\n",
              "      <th>LocationLng</th>\n",
              "      <th>AirportCode</th>\n",
              "      <th>City</th>\n",
              "      <th>State</th>\n",
              "      <th>ZipCode</th>\n",
              "    </tr>\n",
              "  </thead>\n",
              "  <tbody>\n",
              "    <tr>\n",
              "      <th>0</th>\n",
              "      <td>Rain</td>\n",
              "      <td>Light</td>\n",
              "      <td>2016-08-01 00:16:00</td>\n",
              "      <td>2016-08-01 00:56:00</td>\n",
              "      <td>US/Mountain</td>\n",
              "      <td>38.0972</td>\n",
              "      <td>-106.1689</td>\n",
              "      <td>K04V</td>\n",
              "      <td>Saguache</td>\n",
              "      <td>CO</td>\n",
              "      <td>81149.0</td>\n",
              "    </tr>\n",
              "    <tr>\n",
              "      <th>1</th>\n",
              "      <td>Rain</td>\n",
              "      <td>Light</td>\n",
              "      <td>2016-08-01 01:16:00</td>\n",
              "      <td>2016-08-01 01:36:00</td>\n",
              "      <td>US/Mountain</td>\n",
              "      <td>38.0972</td>\n",
              "      <td>-106.1689</td>\n",
              "      <td>K04V</td>\n",
              "      <td>Saguache</td>\n",
              "      <td>CO</td>\n",
              "      <td>81149.0</td>\n",
              "    </tr>\n",
              "    <tr>\n",
              "      <th>2</th>\n",
              "      <td>Rain</td>\n",
              "      <td>Light</td>\n",
              "      <td>2016-08-01 01:56:00</td>\n",
              "      <td>2016-08-01 02:16:00</td>\n",
              "      <td>US/Mountain</td>\n",
              "      <td>38.0972</td>\n",
              "      <td>-106.1689</td>\n",
              "      <td>K04V</td>\n",
              "      <td>Saguache</td>\n",
              "      <td>CO</td>\n",
              "      <td>81149.0</td>\n",
              "    </tr>\n",
              "    <tr>\n",
              "      <th>3</th>\n",
              "      <td>Rain</td>\n",
              "      <td>Light</td>\n",
              "      <td>2016-08-01 02:36:00</td>\n",
              "      <td>2016-08-01 02:56:00</td>\n",
              "      <td>US/Mountain</td>\n",
              "      <td>38.0972</td>\n",
              "      <td>-106.1689</td>\n",
              "      <td>K04V</td>\n",
              "      <td>Saguache</td>\n",
              "      <td>CO</td>\n",
              "      <td>81149.0</td>\n",
              "    </tr>\n",
              "    <tr>\n",
              "      <th>4</th>\n",
              "      <td>Rain</td>\n",
              "      <td>Light</td>\n",
              "      <td>2016-08-01 04:36:00</td>\n",
              "      <td>2016-08-01 04:56:00</td>\n",
              "      <td>US/Mountain</td>\n",
              "      <td>38.0972</td>\n",
              "      <td>-106.1689</td>\n",
              "      <td>K04V</td>\n",
              "      <td>Saguache</td>\n",
              "      <td>CO</td>\n",
              "      <td>81149.0</td>\n",
              "    </tr>\n",
              "  </tbody>\n",
              "</table>\n",
              "</div>"
            ],
            "text/plain": [
              "   Type Severity       StartTime(UTC)         EndTime(UTC)     TimeZone  \\\n",
              "0  Rain    Light  2016-08-01 00:16:00  2016-08-01 00:56:00  US/Mountain   \n",
              "1  Rain    Light  2016-08-01 01:16:00  2016-08-01 01:36:00  US/Mountain   \n",
              "2  Rain    Light  2016-08-01 01:56:00  2016-08-01 02:16:00  US/Mountain   \n",
              "3  Rain    Light  2016-08-01 02:36:00  2016-08-01 02:56:00  US/Mountain   \n",
              "4  Rain    Light  2016-08-01 04:36:00  2016-08-01 04:56:00  US/Mountain   \n",
              "\n",
              "   LocationLat  LocationLng AirportCode      City State  ZipCode  \n",
              "0      38.0972    -106.1689        K04V  Saguache    CO  81149.0  \n",
              "1      38.0972    -106.1689        K04V  Saguache    CO  81149.0  \n",
              "2      38.0972    -106.1689        K04V  Saguache    CO  81149.0  \n",
              "3      38.0972    -106.1689        K04V  Saguache    CO  81149.0  \n",
              "4      38.0972    -106.1689        K04V  Saguache    CO  81149.0  "
            ]
          },
          "execution_count": 22,
          "metadata": {},
          "output_type": "execute_result"
        }
      ],
      "source": [
        "weather_main = weather_main[weather_main['ZipCode'].notnull()]\n",
        "weather_main.head()"
      ]
    },
    {
      "cell_type": "code",
      "execution_count": null,
      "id": "62dddb31",
      "metadata": {
        "tags": [],
        "id": "62dddb31"
      },
      "outputs": [],
      "source": [
        "weather_main['ZipCode'] = weather_main['ZipCode'].astype(int)"
      ]
    },
    {
      "cell_type": "code",
      "execution_count": null,
      "id": "23b57a0a",
      "metadata": {
        "tags": [],
        "id": "23b57a0a",
        "outputId": "24aef015-d0ec-429c-8f85-a85a7c088e67"
      },
      "outputs": [
        {
          "data": {
            "text/html": [
              "<div>\n",
              "<style scoped>\n",
              "    .dataframe tbody tr th:only-of-type {\n",
              "        vertical-align: middle;\n",
              "    }\n",
              "\n",
              "    .dataframe tbody tr th {\n",
              "        vertical-align: top;\n",
              "    }\n",
              "\n",
              "    .dataframe thead th {\n",
              "        text-align: right;\n",
              "    }\n",
              "</style>\n",
              "<table border=\"1\" class=\"dataframe\">\n",
              "  <thead>\n",
              "    <tr style=\"text-align: right;\">\n",
              "      <th></th>\n",
              "      <th>Type</th>\n",
              "      <th>Severity</th>\n",
              "      <th>StartTime(UTC)</th>\n",
              "      <th>EndTime(UTC)</th>\n",
              "      <th>TimeZone</th>\n",
              "      <th>LocationLat</th>\n",
              "      <th>LocationLng</th>\n",
              "      <th>AirportCode</th>\n",
              "      <th>City</th>\n",
              "      <th>State</th>\n",
              "      <th>ZipCode</th>\n",
              "    </tr>\n",
              "  </thead>\n",
              "  <tbody>\n",
              "    <tr>\n",
              "      <th>0</th>\n",
              "      <td>Rain</td>\n",
              "      <td>Light</td>\n",
              "      <td>2016-08-01 00:16:00</td>\n",
              "      <td>2016-08-01 00:56:00</td>\n",
              "      <td>US/Mountain</td>\n",
              "      <td>38.0972</td>\n",
              "      <td>-106.1689</td>\n",
              "      <td>K04V</td>\n",
              "      <td>Saguache</td>\n",
              "      <td>CO</td>\n",
              "      <td>81149</td>\n",
              "    </tr>\n",
              "    <tr>\n",
              "      <th>1</th>\n",
              "      <td>Rain</td>\n",
              "      <td>Light</td>\n",
              "      <td>2016-08-01 01:16:00</td>\n",
              "      <td>2016-08-01 01:36:00</td>\n",
              "      <td>US/Mountain</td>\n",
              "      <td>38.0972</td>\n",
              "      <td>-106.1689</td>\n",
              "      <td>K04V</td>\n",
              "      <td>Saguache</td>\n",
              "      <td>CO</td>\n",
              "      <td>81149</td>\n",
              "    </tr>\n",
              "    <tr>\n",
              "      <th>2</th>\n",
              "      <td>Rain</td>\n",
              "      <td>Light</td>\n",
              "      <td>2016-08-01 01:56:00</td>\n",
              "      <td>2016-08-01 02:16:00</td>\n",
              "      <td>US/Mountain</td>\n",
              "      <td>38.0972</td>\n",
              "      <td>-106.1689</td>\n",
              "      <td>K04V</td>\n",
              "      <td>Saguache</td>\n",
              "      <td>CO</td>\n",
              "      <td>81149</td>\n",
              "    </tr>\n",
              "    <tr>\n",
              "      <th>3</th>\n",
              "      <td>Rain</td>\n",
              "      <td>Light</td>\n",
              "      <td>2016-08-01 02:36:00</td>\n",
              "      <td>2016-08-01 02:56:00</td>\n",
              "      <td>US/Mountain</td>\n",
              "      <td>38.0972</td>\n",
              "      <td>-106.1689</td>\n",
              "      <td>K04V</td>\n",
              "      <td>Saguache</td>\n",
              "      <td>CO</td>\n",
              "      <td>81149</td>\n",
              "    </tr>\n",
              "    <tr>\n",
              "      <th>4</th>\n",
              "      <td>Rain</td>\n",
              "      <td>Light</td>\n",
              "      <td>2016-08-01 04:36:00</td>\n",
              "      <td>2016-08-01 04:56:00</td>\n",
              "      <td>US/Mountain</td>\n",
              "      <td>38.0972</td>\n",
              "      <td>-106.1689</td>\n",
              "      <td>K04V</td>\n",
              "      <td>Saguache</td>\n",
              "      <td>CO</td>\n",
              "      <td>81149</td>\n",
              "    </tr>\n",
              "  </tbody>\n",
              "</table>\n",
              "</div>"
            ],
            "text/plain": [
              "   Type Severity       StartTime(UTC)         EndTime(UTC)     TimeZone  \\\n",
              "0  Rain    Light  2016-08-01 00:16:00  2016-08-01 00:56:00  US/Mountain   \n",
              "1  Rain    Light  2016-08-01 01:16:00  2016-08-01 01:36:00  US/Mountain   \n",
              "2  Rain    Light  2016-08-01 01:56:00  2016-08-01 02:16:00  US/Mountain   \n",
              "3  Rain    Light  2016-08-01 02:36:00  2016-08-01 02:56:00  US/Mountain   \n",
              "4  Rain    Light  2016-08-01 04:36:00  2016-08-01 04:56:00  US/Mountain   \n",
              "\n",
              "   LocationLat  LocationLng AirportCode      City State  ZipCode  \n",
              "0      38.0972    -106.1689        K04V  Saguache    CO    81149  \n",
              "1      38.0972    -106.1689        K04V  Saguache    CO    81149  \n",
              "2      38.0972    -106.1689        K04V  Saguache    CO    81149  \n",
              "3      38.0972    -106.1689        K04V  Saguache    CO    81149  \n",
              "4      38.0972    -106.1689        K04V  Saguache    CO    81149  "
            ]
          },
          "execution_count": 26,
          "metadata": {},
          "output_type": "execute_result"
        }
      ],
      "source": [
        "weather_main.head()"
      ]
    },
    {
      "cell_type": "code",
      "execution_count": null,
      "id": "24525aae",
      "metadata": {
        "tags": [],
        "id": "24525aae",
        "outputId": "510f77d0-fe0d-4516-c734-ca129af4528d"
      },
      "outputs": [
        {
          "data": {
            "image/png": "[encoded data removed]",
            "text/plain": [
              "<Figure size 640x480 with 1 Axes>"
            ]
          },
          "metadata": {},
          "output_type": "display_data"
        }
      ],
      "source": [
        "accident_main.Severity.value_counts(normalize=True).sort_index().plot.bar()\n",
        "plt.grid()\n",
        "plt.title('Severity')\n",
        "plt.xlabel('Severity')\n",
        "plt.ylabel('Fraction');"
      ]
    },
    {
      "cell_type": "code",
      "execution_count": null,
      "id": "58dd6be1",
      "metadata": {
        "tags": [],
        "id": "58dd6be1",
        "outputId": "f46add16-556d-4216-bef1-b53c265d8feb"
      },
      "outputs": [
        {
          "data": {
            "image/png": "[encoded data removed]",
            "text/plain": [
              "<Figure size 640x480 with 1 Axes>"
            ]
          },
          "metadata": {},
          "output_type": "display_data"
        }
      ],
      "source": [
        "weather_main.Severity.value_counts(normalize=True).sort_index().plot.bar()\n",
        "plt.grid()\n",
        "plt.title('Severity')\n",
        "plt.xlabel('Severity')\n",
        "plt.ylabel('Fraction');"
      ]
    },
    {
      "cell_type": "code",
      "execution_count": null,
      "id": "439694d8",
      "metadata": {
        "tags": [],
        "id": "439694d8"
      },
      "outputs": [],
      "source": [
        "st = pd.to_datetime(accident_main['StartTime(UTC)'], format='%Y-%m-%d %H:%M:%S')\n",
        "end = pd.to_datetime(accident_main['EndTime(UTC)'], format='%Y-%m-%d %H:%M:%S')"
      ]
    },
    {
      "cell_type": "code",
      "execution_count": null,
      "id": "38812cf3",
      "metadata": {
        "tags": [],
        "id": "38812cf3",
        "outputId": "ab67aa19-5a85-4637-8760-46724d53dcd3"
      },
      "outputs": [
        {
          "name": "stdout",
          "output_type": "stream",
          "text": [
            "top 20 accident durations correspond to 28.1% of the data\n"
          ]
        },
        {
          "data": {
            "image/png": "[encoded data removed]",
            "text/plain": [
              "<Figure size 1400x1400 with 1 Axes>"
            ]
          },
          "metadata": {},
          "output_type": "display_data"
        }
      ],
      "source": [
        "diff = (end-st)\n",
        "top20 = diff.astype('timedelta64[s]').value_counts().nlargest(20)\n",
        "print('top 20 accident durations correspond to {:.1f}% of the data'.format(top20.sum()*100/len(diff)))\n",
        "(top20/top20.sum()).plot.bar(figsize=(14,14))\n",
        "plt.title('Accident Duration [Minutes]')\n",
        "plt.xlabel('Duration [seconds]')\n",
        "plt.ylabel('Fraction');"
      ]
    },
    {
      "cell_type": "code",
      "execution_count": null,
      "id": "db1635b2",
      "metadata": {
        "tags": [],
        "id": "db1635b2"
      },
      "outputs": [],
      "source": [
        "accident_main = accident_main.drop(columns=['Type'])"
      ]
    },
    {
      "cell_type": "code",
      "execution_count": null,
      "id": "9897aefe-c326-4952-855b-e9f94bebea36",
      "metadata": {
        "tags": [],
        "id": "9897aefe-c326-4952-855b-e9f94bebea36"
      },
      "outputs": [],
      "source": [
        "accident_main = accident_main.drop(columns=['Distance(mi)'])"
      ]
    },
    {
      "cell_type": "code",
      "execution_count": null,
      "id": "353aa987",
      "metadata": {
        "tags": [],
        "id": "353aa987",
        "outputId": "9d14a265-6dd9-4cc9-c77e-c9abbf483d1f"
      },
      "outputs": [
        {
          "data": {
            "text/html": [
              "<div>\n",
              "<style scoped>\n",
              "    .dataframe tbody tr th:only-of-type {\n",
              "        vertical-align: middle;\n",
              "    }\n",
              "\n",
              "    .dataframe tbody tr th {\n",
              "        vertical-align: top;\n",
              "    }\n",
              "\n",
              "    .dataframe thead th {\n",
              "        text-align: right;\n",
              "    }\n",
              "</style>\n",
              "<table border=\"1\" class=\"dataframe\">\n",
              "  <thead>\n",
              "    <tr style=\"text-align: right;\">\n",
              "      <th></th>\n",
              "      <th>Severity</th>\n",
              "      <th>StartTime(UTC)</th>\n",
              "      <th>EndTime(UTC)</th>\n",
              "      <th>TimeZone</th>\n",
              "      <th>LocationLat</th>\n",
              "      <th>LocationLng</th>\n",
              "      <th>AirportCode</th>\n",
              "      <th>City</th>\n",
              "      <th>State</th>\n",
              "      <th>ZipCode</th>\n",
              "    </tr>\n",
              "  </thead>\n",
              "  <tbody>\n",
              "    <tr>\n",
              "      <th>0</th>\n",
              "      <td>3</td>\n",
              "      <td>2016-08-01 01:05:41</td>\n",
              "      <td>2016-08-01 01:35:41</td>\n",
              "      <td>US/Pacific</td>\n",
              "      <td>38.275646</td>\n",
              "      <td>-122.047577</td>\n",
              "      <td>KSUU</td>\n",
              "      <td>Fairfield</td>\n",
              "      <td>CA</td>\n",
              "      <td>94533.0</td>\n",
              "    </tr>\n",
              "    <tr>\n",
              "      <th>1</th>\n",
              "      <td>2</td>\n",
              "      <td>2016-08-01 03:08:16</td>\n",
              "      <td>2016-08-01 03:38:16</td>\n",
              "      <td>US/Pacific</td>\n",
              "      <td>38.348320</td>\n",
              "      <td>-122.713165</td>\n",
              "      <td>KO69</td>\n",
              "      <td>Rohnert Park</td>\n",
              "      <td>CA</td>\n",
              "      <td>94928.0</td>\n",
              "    </tr>\n",
              "    <tr>\n",
              "      <th>2</th>\n",
              "      <td>2</td>\n",
              "      <td>2016-08-01 03:09:06</td>\n",
              "      <td>2016-08-01 03:39:06</td>\n",
              "      <td>US/Pacific</td>\n",
              "      <td>37.734898</td>\n",
              "      <td>-122.408661</td>\n",
              "      <td>KSFO</td>\n",
              "      <td>San Francisco</td>\n",
              "      <td>CA</td>\n",
              "      <td>94134.0</td>\n",
              "    </tr>\n",
              "    <tr>\n",
              "      <th>3</th>\n",
              "      <td>2</td>\n",
              "      <td>2016-08-01 03:11:04</td>\n",
              "      <td>2016-08-01 03:41:04</td>\n",
              "      <td>US/Pacific</td>\n",
              "      <td>38.485943</td>\n",
              "      <td>-122.961952</td>\n",
              "      <td>KSTS</td>\n",
              "      <td>Guerneville</td>\n",
              "      <td>CA</td>\n",
              "      <td>95446.0</td>\n",
              "    </tr>\n",
              "    <tr>\n",
              "      <th>4</th>\n",
              "      <td>2</td>\n",
              "      <td>2016-08-01 03:16:52</td>\n",
              "      <td>2016-08-01 03:46:52</td>\n",
              "      <td>US/Pacific</td>\n",
              "      <td>38.028072</td>\n",
              "      <td>-121.934494</td>\n",
              "      <td>KCCR</td>\n",
              "      <td>Bay Point</td>\n",
              "      <td>CA</td>\n",
              "      <td>94565.0</td>\n",
              "    </tr>\n",
              "  </tbody>\n",
              "</table>\n",
              "</div>"
            ],
            "text/plain": [
              "   Severity       StartTime(UTC)         EndTime(UTC)    TimeZone  \\\n",
              "0         3  2016-08-01 01:05:41  2016-08-01 01:35:41  US/Pacific   \n",
              "1         2  2016-08-01 03:08:16  2016-08-01 03:38:16  US/Pacific   \n",
              "2         2  2016-08-01 03:09:06  2016-08-01 03:39:06  US/Pacific   \n",
              "3         2  2016-08-01 03:11:04  2016-08-01 03:41:04  US/Pacific   \n",
              "4         2  2016-08-01 03:16:52  2016-08-01 03:46:52  US/Pacific   \n",
              "\n",
              "   LocationLat  LocationLng AirportCode           City State  ZipCode  \n",
              "0    38.275646  -122.047577        KSUU      Fairfield    CA  94533.0  \n",
              "1    38.348320  -122.713165        KO69   Rohnert Park    CA  94928.0  \n",
              "2    37.734898  -122.408661        KSFO  San Francisco    CA  94134.0  \n",
              "3    38.485943  -122.961952        KSTS    Guerneville    CA  95446.0  \n",
              "4    38.028072  -121.934494        KCCR      Bay Point    CA  94565.0  "
            ]
          },
          "execution_count": 62,
          "metadata": {},
          "output_type": "execute_result"
        }
      ],
      "source": [
        "accident_main.head()"
      ]
    },
    {
      "cell_type": "code",
      "execution_count": null,
      "id": "44044b9d",
      "metadata": {
        "id": "44044b9d",
        "outputId": "1796f03d-6455-4c0e-d185-b4d69843916f"
      },
      "outputs": [
        {
          "name": "stdout",
          "output_type": "stream",
          "text": [
            "<class 'pandas.core.frame.DataFrame'>\n",
            "DatetimeIndex: 2633808 entries, 2016-08-01 01:05:41 to 2017-08-31 03:17:21\n",
            "Data columns (total 13 columns):\n",
            " #   Column          Dtype  \n",
            "---  ------          -----  \n",
            " 0   Severity        int64  \n",
            " 1   Description     object \n",
            " 2   StartTime(UTC)  object \n",
            " 3   EndTime(UTC)    object \n",
            " 4   TimeZone        object \n",
            " 5   LocationLat     float64\n",
            " 6   LocationLng     float64\n",
            " 7   Distance(mi)    float64\n",
            " 8   AirportCode     object \n",
            " 9   City            object \n",
            " 10  County          object \n",
            " 11  State           object \n",
            " 12  ZipCode         float64\n",
            "dtypes: float64(4), int64(1), object(8)\n",
            "memory usage: 281.3+ MB\n"
          ]
        }
      ],
      "source": [
        "accident_main.info()"
      ]
    },
    {
      "cell_type": "code",
      "execution_count": null,
      "id": "5073a198",
      "metadata": {
        "id": "5073a198",
        "outputId": "52ab3c92-83bc-434a-f8bf-688e552be8e1"
      },
      "outputs": [
        {
          "data": {
            "text/html": [
              "<div>\n",
              "<style scoped>\n",
              "    .dataframe tbody tr th:only-of-type {\n",
              "        vertical-align: middle;\n",
              "    }\n",
              "\n",
              "    .dataframe tbody tr th {\n",
              "        vertical-align: top;\n",
              "    }\n",
              "\n",
              "    .dataframe thead th {\n",
              "        text-align: right;\n",
              "    }\n",
              "</style>\n",
              "<table border=\"1\" class=\"dataframe\">\n",
              "  <thead>\n",
              "    <tr style=\"text-align: right;\">\n",
              "      <th></th>\n",
              "      <th>Severity</th>\n",
              "      <th>Description</th>\n",
              "      <th>StartTime(UTC)</th>\n",
              "      <th>EndTime(UTC)</th>\n",
              "      <th>TimeZone</th>\n",
              "      <th>LocationLat</th>\n",
              "      <th>LocationLng</th>\n",
              "      <th>Distance(mi)</th>\n",
              "      <th>AirportCode</th>\n",
              "      <th>City</th>\n",
              "      <th>County</th>\n",
              "      <th>State</th>\n",
              "      <th>ZipCode</th>\n",
              "    </tr>\n",
              "  </thead>\n",
              "  <tbody>\n",
              "    <tr>\n",
              "      <th>0</th>\n",
              "      <td>3</td>\n",
              "      <td>Accident on I-80 Eastbound at Exits 47 47A 47B...</td>\n",
              "      <td>2016-08-01 01:05:41</td>\n",
              "      <td>2016-08-01 01:35:41</td>\n",
              "      <td>US/Pacific</td>\n",
              "      <td>38.275646</td>\n",
              "      <td>-122.047577</td>\n",
              "      <td>0.0</td>\n",
              "      <td>KSUU</td>\n",
              "      <td>Fairfield</td>\n",
              "      <td>Solano</td>\n",
              "      <td>CA</td>\n",
              "      <td>94533.0</td>\n",
              "    </tr>\n",
              "    <tr>\n",
              "      <th>1</th>\n",
              "      <td>2</td>\n",
              "      <td>Accident on US-101 Southbound at Exit 483 Rohn...</td>\n",
              "      <td>2016-08-01 03:08:16</td>\n",
              "      <td>2016-08-01 03:38:16</td>\n",
              "      <td>US/Pacific</td>\n",
              "      <td>38.348320</td>\n",
              "      <td>-122.713165</td>\n",
              "      <td>0.0</td>\n",
              "      <td>KO69</td>\n",
              "      <td>Rohnert Park</td>\n",
              "      <td>Sonoma</td>\n",
              "      <td>CA</td>\n",
              "      <td>94928.0</td>\n",
              "    </tr>\n",
              "    <tr>\n",
              "      <th>2</th>\n",
              "      <td>2</td>\n",
              "      <td>Accident on US-101 Southbound at Exits 430A 43...</td>\n",
              "      <td>2016-08-01 03:09:06</td>\n",
              "      <td>2016-08-01 03:39:06</td>\n",
              "      <td>US/Pacific</td>\n",
              "      <td>37.734898</td>\n",
              "      <td>-122.408661</td>\n",
              "      <td>0.0</td>\n",
              "      <td>KSFO</td>\n",
              "      <td>San Francisco</td>\n",
              "      <td>San Francisco</td>\n",
              "      <td>CA</td>\n",
              "      <td>94134.0</td>\n",
              "    </tr>\n",
              "    <tr>\n",
              "      <th>3</th>\n",
              "      <td>2</td>\n",
              "      <td>Accident on Mays Canyon Rd both ways at CA-116...</td>\n",
              "      <td>2016-08-01 03:11:04</td>\n",
              "      <td>2016-08-01 03:41:04</td>\n",
              "      <td>US/Pacific</td>\n",
              "      <td>38.485943</td>\n",
              "      <td>-122.961952</td>\n",
              "      <td>0.0</td>\n",
              "      <td>KSTS</td>\n",
              "      <td>Guerneville</td>\n",
              "      <td>Sonoma</td>\n",
              "      <td>CA</td>\n",
              "      <td>95446.0</td>\n",
              "    </tr>\n",
              "    <tr>\n",
              "      <th>4</th>\n",
              "      <td>2</td>\n",
              "      <td>Accident on Highway Ave Westbound at Siino Ave...</td>\n",
              "      <td>2016-08-01 03:16:52</td>\n",
              "      <td>2016-08-01 03:46:52</td>\n",
              "      <td>US/Pacific</td>\n",
              "      <td>38.028072</td>\n",
              "      <td>-121.934494</td>\n",
              "      <td>0.0</td>\n",
              "      <td>KCCR</td>\n",
              "      <td>Bay Point</td>\n",
              "      <td>Contra Costa</td>\n",
              "      <td>CA</td>\n",
              "      <td>94565.0</td>\n",
              "    </tr>\n",
              "  </tbody>\n",
              "</table>\n",
              "</div>"
            ],
            "text/plain": [
              "   Severity                                        Description  \\\n",
              "0         3  Accident on I-80 Eastbound at Exits 47 47A 47B...   \n",
              "1         2  Accident on US-101 Southbound at Exit 483 Rohn...   \n",
              "2         2  Accident on US-101 Southbound at Exits 430A 43...   \n",
              "3         2  Accident on Mays Canyon Rd both ways at CA-116...   \n",
              "4         2  Accident on Highway Ave Westbound at Siino Ave...   \n",
              "\n",
              "        StartTime(UTC)         EndTime(UTC)    TimeZone  LocationLat  \\\n",
              "0  2016-08-01 01:05:41  2016-08-01 01:35:41  US/Pacific    38.275646   \n",
              "1  2016-08-01 03:08:16  2016-08-01 03:38:16  US/Pacific    38.348320   \n",
              "2  2016-08-01 03:09:06  2016-08-01 03:39:06  US/Pacific    37.734898   \n",
              "3  2016-08-01 03:11:04  2016-08-01 03:41:04  US/Pacific    38.485943   \n",
              "4  2016-08-01 03:16:52  2016-08-01 03:46:52  US/Pacific    38.028072   \n",
              "\n",
              "   LocationLng  Distance(mi) AirportCode           City         County State  \\\n",
              "0  -122.047577           0.0        KSUU      Fairfield         Solano    CA   \n",
              "1  -122.713165           0.0        KO69   Rohnert Park         Sonoma    CA   \n",
              "2  -122.408661           0.0        KSFO  San Francisco  San Francisco    CA   \n",
              "3  -122.961952           0.0        KSTS    Guerneville         Sonoma    CA   \n",
              "4  -121.934494           0.0        KCCR      Bay Point   Contra Costa    CA   \n",
              "\n",
              "   ZipCode  \n",
              "0  94533.0  \n",
              "1  94928.0  \n",
              "2  94134.0  \n",
              "3  95446.0  \n",
              "4  94565.0  "
            ]
          },
          "execution_count": 53,
          "metadata": {},
          "output_type": "execute_result"
        }
      ],
      "source": [
        "accident_main.head()"
      ]
    },
    {
      "cell_type": "markdown",
      "source": [
        "Data Preparation"
      ],
      "metadata": {
        "id": "vx_i9YIzCx6e"
      },
      "id": "vx_i9YIzCx6e"
    },
    {
      "cell_type": "code",
      "execution_count": null,
      "id": "e5e6e53e",
      "metadata": {
        "tags": [],
        "id": "e5e6e53e",
        "outputId": "a5ce73a9-77d6-47a2-efa0-c32f031d6e54"
      },
      "outputs": [
        {
          "data": {
            "text/html": [
              "<div>\n",
              "<style scoped>\n",
              "    .dataframe tbody tr th:only-of-type {\n",
              "        vertical-align: middle;\n",
              "    }\n",
              "\n",
              "    .dataframe tbody tr th {\n",
              "        vertical-align: top;\n",
              "    }\n",
              "\n",
              "    .dataframe thead th {\n",
              "        text-align: right;\n",
              "    }\n",
              "</style>\n",
              "<table border=\"1\" class=\"dataframe\">\n",
              "  <thead>\n",
              "    <tr style=\"text-align: right;\">\n",
              "      <th></th>\n",
              "      <th>Severity</th>\n",
              "      <th>StartTime(UTC)</th>\n",
              "      <th>EndTime(UTC)</th>\n",
              "      <th>TimeZone</th>\n",
              "      <th>LocationLat</th>\n",
              "      <th>LocationLng</th>\n",
              "      <th>AirportCode</th>\n",
              "      <th>City</th>\n",
              "      <th>State</th>\n",
              "      <th>ZipCode</th>\n",
              "    </tr>\n",
              "    <tr>\n",
              "      <th>time</th>\n",
              "      <th></th>\n",
              "      <th></th>\n",
              "      <th></th>\n",
              "      <th></th>\n",
              "      <th></th>\n",
              "      <th></th>\n",
              "      <th></th>\n",
              "      <th></th>\n",
              "      <th></th>\n",
              "      <th></th>\n",
              "    </tr>\n",
              "  </thead>\n",
              "  <tbody>\n",
              "    <tr>\n",
              "      <th>2016-08-01 01:05:41</th>\n",
              "      <td>3</td>\n",
              "      <td>2016-08-01 01:05:41</td>\n",
              "      <td>2016-08-01 01:35:41</td>\n",
              "      <td>US/Pacific</td>\n",
              "      <td>38.275646</td>\n",
              "      <td>-122.047577</td>\n",
              "      <td>KSUU</td>\n",
              "      <td>Fairfield</td>\n",
              "      <td>CA</td>\n",
              "      <td>94533.0</td>\n",
              "    </tr>\n",
              "    <tr>\n",
              "      <th>2016-08-01 03:08:16</th>\n",
              "      <td>2</td>\n",
              "      <td>2016-08-01 03:08:16</td>\n",
              "      <td>2016-08-01 03:38:16</td>\n",
              "      <td>US/Pacific</td>\n",
              "      <td>38.348320</td>\n",
              "      <td>-122.713165</td>\n",
              "      <td>KO69</td>\n",
              "      <td>Rohnert Park</td>\n",
              "      <td>CA</td>\n",
              "      <td>94928.0</td>\n",
              "    </tr>\n",
              "    <tr>\n",
              "      <th>2016-08-01 03:09:06</th>\n",
              "      <td>2</td>\n",
              "      <td>2016-08-01 03:09:06</td>\n",
              "      <td>2016-08-01 03:39:06</td>\n",
              "      <td>US/Pacific</td>\n",
              "      <td>37.734898</td>\n",
              "      <td>-122.408661</td>\n",
              "      <td>KSFO</td>\n",
              "      <td>San Francisco</td>\n",
              "      <td>CA</td>\n",
              "      <td>94134.0</td>\n",
              "    </tr>\n",
              "    <tr>\n",
              "      <th>2016-08-01 03:11:04</th>\n",
              "      <td>2</td>\n",
              "      <td>2016-08-01 03:11:04</td>\n",
              "      <td>2016-08-01 03:41:04</td>\n",
              "      <td>US/Pacific</td>\n",
              "      <td>38.485943</td>\n",
              "      <td>-122.961952</td>\n",
              "      <td>KSTS</td>\n",
              "      <td>Guerneville</td>\n",
              "      <td>CA</td>\n",
              "      <td>95446.0</td>\n",
              "    </tr>\n",
              "    <tr>\n",
              "      <th>2016-08-01 03:16:52</th>\n",
              "      <td>2</td>\n",
              "      <td>2016-08-01 03:16:52</td>\n",
              "      <td>2016-08-01 03:46:52</td>\n",
              "      <td>US/Pacific</td>\n",
              "      <td>38.028072</td>\n",
              "      <td>-121.934494</td>\n",
              "      <td>KCCR</td>\n",
              "      <td>Bay Point</td>\n",
              "      <td>CA</td>\n",
              "      <td>94565.0</td>\n",
              "    </tr>\n",
              "  </tbody>\n",
              "</table>\n",
              "</div>"
            ],
            "text/plain": [
              "                     Severity       StartTime(UTC)         EndTime(UTC)  \\\n",
              "time                                                                      \n",
              "2016-08-01 01:05:41         3  2016-08-01 01:05:41  2016-08-01 01:35:41   \n",
              "2016-08-01 03:08:16         2  2016-08-01 03:08:16  2016-08-01 03:38:16   \n",
              "2016-08-01 03:09:06         2  2016-08-01 03:09:06  2016-08-01 03:39:06   \n",
              "2016-08-01 03:11:04         2  2016-08-01 03:11:04  2016-08-01 03:41:04   \n",
              "2016-08-01 03:16:52         2  2016-08-01 03:16:52  2016-08-01 03:46:52   \n",
              "\n",
              "                       TimeZone  LocationLat  LocationLng AirportCode  \\\n",
              "time                                                                    \n",
              "2016-08-01 01:05:41  US/Pacific    38.275646  -122.047577        KSUU   \n",
              "2016-08-01 03:08:16  US/Pacific    38.348320  -122.713165        KO69   \n",
              "2016-08-01 03:09:06  US/Pacific    37.734898  -122.408661        KSFO   \n",
              "2016-08-01 03:11:04  US/Pacific    38.485943  -122.961952        KSTS   \n",
              "2016-08-01 03:16:52  US/Pacific    38.028072  -121.934494        KCCR   \n",
              "\n",
              "                              City State  ZipCode  \n",
              "time                                               \n",
              "2016-08-01 01:05:41      Fairfield    CA  94533.0  \n",
              "2016-08-01 03:08:16   Rohnert Park    CA  94928.0  \n",
              "2016-08-01 03:09:06  San Francisco    CA  94134.0  \n",
              "2016-08-01 03:11:04    Guerneville    CA  95446.0  \n",
              "2016-08-01 03:16:52      Bay Point    CA  94565.0  "
            ]
          },
          "execution_count": 63,
          "metadata": {},
          "output_type": "execute_result"
        }
      ],
      "source": [
        "accident_main['time'] = pd.to_datetime(accident_main['StartTime(UTC)'], format='%Y-%m-%d %H:%M:%S')\n",
        "accident_main = accident_main.set_index('time')\n",
        "accident_main.head()"
      ]
    },
    {
      "cell_type": "code",
      "execution_count": null,
      "id": "a432c56f",
      "metadata": {
        "tags": [],
        "id": "a432c56f"
      },
      "outputs": [],
      "source": [
        "accident_main['StartTime(UTC)'] = pd.to_datetime(accident_main['StartTime(UTC)'], format='%Y-%m-%d %H:%M:%S')\n",
        "\n",
        "# Create an empty list to store weekdays\n",
        "weekdays = []\n",
        "\n",
        "# Iterate through rows\n",
        "for index, row in accident_main.iterrows():\n",
        "    weekday = row['StartTime(UTC)'].strftime('%A')\n",
        "    weekdays.append(weekday)\n",
        "\n",
        "# Add the list of weekdays as a new column in the DataFrame\n",
        "accident_main['Weekday'] = weekdays"
      ]
    },
    {
      "cell_type": "code",
      "execution_count": null,
      "id": "6f897883-3293-45d7-a445-73bfda7faef7",
      "metadata": {
        "tags": [],
        "id": "6f897883-3293-45d7-a445-73bfda7faef7"
      },
      "outputs": [],
      "source": [
        "# Example: Convert int64 columns to int32\n",
        "accident_main['Severity'] = accident_main['Severity'].astype('int32')\n",
        "accident_main['ID'] = accident_main['ID'].astype('int32')\n",
        "accident_main['ZipCode'] = accident_main['ZipCode'].astype('int32')\n",
        "# Convert float64 to float32\n",
        "float64_columns = accident_main.select_dtypes(include=['float64']).columns\n",
        "accident_main[float64_columns] = accident_main[float64_columns].astype('float32')\n",
        "\n",
        "# Convert float64 to float32\n",
        "float64_columns = weather_main.select_dtypes(include=['float64']).columns\n",
        "weather_main[float64_columns] = weather_main[float64_columns].astype('float32')\n",
        "\n",
        "# Convert object to category\n",
        "object_columns = accident_main.select_dtypes(include=['object']).columns\n",
        "accident_main[object_columns] = accident_main[object_columns].astype('category')\n",
        "\n",
        "object_columns = weather_main.select_dtypes(include=['object']).columns\n",
        "weather_main[object_columns] = weather_main[object_columns].astype('category')\n",
        "# Example: Convert int64 columns to int32\n",
        "weather_main['ZipCode'] = weather_main['ZipCode'].astype('int32')"
      ]
    },
    {
      "cell_type": "code",
      "execution_count": null,
      "id": "608a9fab",
      "metadata": {
        "tags": [],
        "id": "608a9fab",
        "outputId": "a2bde47d-7a97-4595-bb69-5413613c6203"
      },
      "outputs": [
        {
          "data": {
            "text/html": [
              "<div>\n",
              "<style scoped>\n",
              "    .dataframe tbody tr th:only-of-type {\n",
              "        vertical-align: middle;\n",
              "    }\n",
              "\n",
              "    .dataframe tbody tr th {\n",
              "        vertical-align: top;\n",
              "    }\n",
              "\n",
              "    .dataframe thead th {\n",
              "        text-align: right;\n",
              "    }\n",
              "</style>\n",
              "<table border=\"1\" class=\"dataframe\">\n",
              "  <thead>\n",
              "    <tr style=\"text-align: right;\">\n",
              "      <th></th>\n",
              "      <th>Severity</th>\n",
              "      <th>StartTime(UTC)</th>\n",
              "      <th>EndTime(UTC)</th>\n",
              "      <th>TimeZone</th>\n",
              "      <th>LocationLat</th>\n",
              "      <th>LocationLng</th>\n",
              "      <th>AirportCode</th>\n",
              "      <th>City</th>\n",
              "      <th>State</th>\n",
              "      <th>ZipCode</th>\n",
              "      <th>ID</th>\n",
              "      <th>Weekday</th>\n",
              "      <th>month</th>\n",
              "      <th>year</th>\n",
              "    </tr>\n",
              "    <tr>\n",
              "      <th>time</th>\n",
              "      <th></th>\n",
              "      <th></th>\n",
              "      <th></th>\n",
              "      <th></th>\n",
              "      <th></th>\n",
              "      <th></th>\n",
              "      <th></th>\n",
              "      <th></th>\n",
              "      <th></th>\n",
              "      <th></th>\n",
              "      <th></th>\n",
              "      <th></th>\n",
              "      <th></th>\n",
              "      <th></th>\n",
              "    </tr>\n",
              "  </thead>\n",
              "  <tbody>\n",
              "    <tr>\n",
              "      <th>2016-08-01 01:05:41</th>\n",
              "      <td>3</td>\n",
              "      <td>2016-08-01 01:05:41</td>\n",
              "      <td>2016-08-01 01:35:41</td>\n",
              "      <td>US/Pacific</td>\n",
              "      <td>38.275646</td>\n",
              "      <td>-122.047577</td>\n",
              "      <td>KSUU</td>\n",
              "      <td>Fairfield</td>\n",
              "      <td>CA</td>\n",
              "      <td>94533</td>\n",
              "      <td>0</td>\n",
              "      <td>Monday</td>\n",
              "      <td>8</td>\n",
              "      <td>2016</td>\n",
              "    </tr>\n",
              "    <tr>\n",
              "      <th>2016-08-01 03:08:16</th>\n",
              "      <td>2</td>\n",
              "      <td>2016-08-01 03:08:16</td>\n",
              "      <td>2016-08-01 03:38:16</td>\n",
              "      <td>US/Pacific</td>\n",
              "      <td>38.348320</td>\n",
              "      <td>-122.713165</td>\n",
              "      <td>KO69</td>\n",
              "      <td>Rohnert Park</td>\n",
              "      <td>CA</td>\n",
              "      <td>94928</td>\n",
              "      <td>1</td>\n",
              "      <td>Monday</td>\n",
              "      <td>8</td>\n",
              "      <td>2016</td>\n",
              "    </tr>\n",
              "    <tr>\n",
              "      <th>2016-08-01 03:09:06</th>\n",
              "      <td>2</td>\n",
              "      <td>2016-08-01 03:09:06</td>\n",
              "      <td>2016-08-01 03:39:06</td>\n",
              "      <td>US/Pacific</td>\n",
              "      <td>37.734898</td>\n",
              "      <td>-122.408661</td>\n",
              "      <td>KSFO</td>\n",
              "      <td>San Francisco</td>\n",
              "      <td>CA</td>\n",
              "      <td>94134</td>\n",
              "      <td>2</td>\n",
              "      <td>Monday</td>\n",
              "      <td>8</td>\n",
              "      <td>2016</td>\n",
              "    </tr>\n",
              "    <tr>\n",
              "      <th>2016-08-01 03:11:04</th>\n",
              "      <td>2</td>\n",
              "      <td>2016-08-01 03:11:04</td>\n",
              "      <td>2016-08-01 03:41:04</td>\n",
              "      <td>US/Pacific</td>\n",
              "      <td>38.485943</td>\n",
              "      <td>-122.961952</td>\n",
              "      <td>KSTS</td>\n",
              "      <td>Guerneville</td>\n",
              "      <td>CA</td>\n",
              "      <td>95446</td>\n",
              "      <td>3</td>\n",
              "      <td>Monday</td>\n",
              "      <td>8</td>\n",
              "      <td>2016</td>\n",
              "    </tr>\n",
              "    <tr>\n",
              "      <th>2016-08-01 03:16:52</th>\n",
              "      <td>2</td>\n",
              "      <td>2016-08-01 03:16:52</td>\n",
              "      <td>2016-08-01 03:46:52</td>\n",
              "      <td>US/Pacific</td>\n",
              "      <td>38.028072</td>\n",
              "      <td>-121.934494</td>\n",
              "      <td>KCCR</td>\n",
              "      <td>Bay Point</td>\n",
              "      <td>CA</td>\n",
              "      <td>94565</td>\n",
              "      <td>4</td>\n",
              "      <td>Monday</td>\n",
              "      <td>8</td>\n",
              "      <td>2016</td>\n",
              "    </tr>\n",
              "  </tbody>\n",
              "</table>\n",
              "</div>"
            ],
            "text/plain": [
              "                     Severity      StartTime(UTC)         EndTime(UTC)  \\\n",
              "time                                                                     \n",
              "2016-08-01 01:05:41         3 2016-08-01 01:05:41  2016-08-01 01:35:41   \n",
              "2016-08-01 03:08:16         2 2016-08-01 03:08:16  2016-08-01 03:38:16   \n",
              "2016-08-01 03:09:06         2 2016-08-01 03:09:06  2016-08-01 03:39:06   \n",
              "2016-08-01 03:11:04         2 2016-08-01 03:11:04  2016-08-01 03:41:04   \n",
              "2016-08-01 03:16:52         2 2016-08-01 03:16:52  2016-08-01 03:46:52   \n",
              "\n",
              "                       TimeZone  LocationLat  LocationLng AirportCode  \\\n",
              "time                                                                    \n",
              "2016-08-01 01:05:41  US/Pacific    38.275646  -122.047577        KSUU   \n",
              "2016-08-01 03:08:16  US/Pacific    38.348320  -122.713165        KO69   \n",
              "2016-08-01 03:09:06  US/Pacific    37.734898  -122.408661        KSFO   \n",
              "2016-08-01 03:11:04  US/Pacific    38.485943  -122.961952        KSTS   \n",
              "2016-08-01 03:16:52  US/Pacific    38.028072  -121.934494        KCCR   \n",
              "\n",
              "                              City State  ZipCode  ID Weekday  month  year  \n",
              "time                                                                        \n",
              "2016-08-01 01:05:41      Fairfield    CA    94533   0  Monday      8  2016  \n",
              "2016-08-01 03:08:16   Rohnert Park    CA    94928   1  Monday      8  2016  \n",
              "2016-08-01 03:09:06  San Francisco    CA    94134   2  Monday      8  2016  \n",
              "2016-08-01 03:11:04    Guerneville    CA    95446   3  Monday      8  2016  \n",
              "2016-08-01 03:16:52      Bay Point    CA    94565   4  Monday      8  2016  "
            ]
          },
          "execution_count": 76,
          "metadata": {},
          "output_type": "execute_result"
        }
      ],
      "source": [
        "accident_main.head()"
      ]
    },
    {
      "cell_type": "code",
      "execution_count": null,
      "id": "135fa22f",
      "metadata": {
        "tags": [],
        "id": "135fa22f",
        "outputId": "7977c0a7-9bec-4666-8d2d-ac6dec747fe3"
      },
      "outputs": [
        {
          "data": {
            "image/png": "[encoded data removed]",
            "text/plain": [
              "<Figure size 640x480 with 1 Axes>"
            ]
          },
          "metadata": {},
          "output_type": "display_data"
        }
      ],
      "source": [
        "weekday = accident_main.groupby('Weekday').Severity.count()\n",
        "weekday = weekday/weekday.sum()\n",
        "dayOfWeek=['Monday','Tuesday','Wednesday','Thursday','Friday','Saturday','Sunday']\n",
        "weekday[dayOfWeek].plot.bar()\n",
        "plt.title('Accidents by Weekday')\n",
        "plt.xlabel('Weekday')\n",
        "plt.ylabel('Accidents');"
      ]
    },
    {
      "cell_type": "code",
      "execution_count": null,
      "id": "ab6a0474",
      "metadata": {
        "tags": [],
        "id": "ab6a0474",
        "outputId": "d9c644f4-b3a0-4671-d594-866bd7dc8518"
      },
      "outputs": [
        {
          "data": {
            "image/png": "[encoded data removed]",
            "text/plain": [
              "<Figure size 2100x700 with 3 Axes>"
            ]
          },
          "metadata": {},
          "output_type": "display_data"
        }
      ],
      "source": [
        "freq_text = {'D':'Daily','W':'Weekly','Y':'Yearly'}\n",
        "plt.subplots(1,3,figsize=(21,7))\n",
        "for i, (fr,text) in enumerate(freq_text.items(),1):\n",
        "    plt.subplot(1,3,i)\n",
        "    sample = accident_main.year.resample(fr).count()\n",
        "    sample.plot(style='.')\n",
        "    plt.title('Accidents, {} count'.format(text))\n",
        "    plt.xlabel('Date')\n",
        "    plt.ylabel('Accident Count');"
      ]
    },
    {
      "cell_type": "code",
      "execution_count": null,
      "id": "7617d369-2054-4694-ae71-2e2594c56f16",
      "metadata": {
        "tags": [],
        "id": "7617d369-2054-4694-ae71-2e2594c56f16"
      },
      "outputs": [],
      "source": [
        "# Create a month column\n",
        "accident_main['month'] = accident_main['StartTime(UTC)'].dt.month\n",
        "\n",
        "# Create a year column\n",
        "accident_main['year'] = accident_main['StartTime(UTC)'].dt.year"
      ]
    },
    {
      "cell_type": "code",
      "execution_count": null,
      "id": "559e7646-8769-405f-95fd-36afc76cdb28",
      "metadata": {
        "tags": [],
        "id": "559e7646-8769-405f-95fd-36afc76cdb28"
      },
      "outputs": [],
      "source": [
        "weather_main['StartTime(UTC)'] = pd.to_datetime(weather_main['StartTime(UTC)'], format='%Y-%m-%d %H:%M:%S')\n",
        "\n",
        "# Create an empty list to store weekdays\n",
        "weekdays = []\n",
        "\n",
        "# Iterate through rows\n",
        "for index, row in weather_main.iterrows():\n",
        "    weekday = row['StartTime(UTC)'].strftime('%A')\n",
        "    weekdays.append(weekday)\n",
        "\n",
        "# Add the list of weekdays as a new column in the DataFrame\n",
        "weather_main['Weekday'] = weekdays"
      ]
    },
    {
      "cell_type": "code",
      "execution_count": null,
      "id": "85269d63-e00c-4531-a368-d0316a1018b8",
      "metadata": {
        "tags": [],
        "id": "85269d63-e00c-4531-a368-d0316a1018b8"
      },
      "outputs": [],
      "source": [
        "# Create a month column\n",
        "weather_main['month'] = weather_main['StartTime(UTC)'].dt.month\n",
        "\n",
        "# Create a year column\n",
        "weather_main['year'] = weather_main['StartTime(UTC)'].dt.year"
      ]
    },
    {
      "cell_type": "code",
      "execution_count": null,
      "id": "4fd40fd9-d230-4561-8452-533c40e0e7c7",
      "metadata": {
        "tags": [],
        "id": "4fd40fd9-d230-4561-8452-533c40e0e7c7",
        "outputId": "4416d0ff-3567-45d0-d4da-994a4962d2de"
      },
      "outputs": [
        {
          "data": {
            "text/plain": [
              "array([2016, 2017, 2020, 2019, 2018], dtype=int32)"
            ]
          },
          "execution_count": 83,
          "metadata": {},
          "output_type": "execute_result"
        }
      ],
      "source": [
        "accident_main['year'].unique()"
      ]
    },
    {
      "cell_type": "code",
      "execution_count": null,
      "id": "1d6d2efa-2f94-4fad-bf1f-00825d5608be",
      "metadata": {
        "tags": [],
        "id": "1d6d2efa-2f94-4fad-bf1f-00825d5608be",
        "outputId": "c527cd42-522e-4f0b-8e1c-c152be421998"
      },
      "outputs": [
        {
          "data": {
            "text/plain": [
              "array([2016, 2017, 2018, 2019, 2020], dtype=int32)"
            ]
          },
          "execution_count": 84,
          "metadata": {},
          "output_type": "execute_result"
        }
      ],
      "source": [
        "weather_main['year'].unique()"
      ]
    },
    {
      "cell_type": "code",
      "execution_count": null,
      "id": "3a936267",
      "metadata": {
        "tags": [],
        "id": "3a936267",
        "outputId": "11faeeac-9789-4e9a-82fa-44458b32f18e"
      },
      "outputs": [
        {
          "data": {
            "image/png": "[encoded data removed]",
            "text/plain": [
              "<Figure size 2100x700 with 5 Axes>"
            ]
          },
          "metadata": {},
          "output_type": "display_data"
        }
      ],
      "source": [
        "years = ['2016','2017','2018','2019','2020']\n",
        "fig, _ = plt.subplots(1,5,figsize=(21,7), sharex='all', sharey='all')\n",
        "\n",
        "fig.suptitle('Acccidents by month for Different Years')\n",
        "plt.xlabel('month')\n",
        "plt.ylabel('Accidents')\n",
        "for i, year in enumerate(years,1):\n",
        "    plt.subplot(1,5,i)\n",
        "    sample = accident_main.loc[year].ID.resample('M').count()\n",
        "    sample.plot()\n",
        "    plt.ylim(0,100000)\n",
        "    plt.title('Accidents, {} count'.format(text))\n",
        "    plt.xlabel('Date')\n",
        "    plt.ylabel('Accident Count');"
      ]
    },
    {
      "cell_type": "code",
      "execution_count": null,
      "id": "9bf21f2f",
      "metadata": {
        "tags": [],
        "id": "9bf21f2f",
        "outputId": "110f7308-2a7b-4add-fdd5-df5ae05395eb"
      },
      "outputs": [
        {
          "data": {
            "image/png": "[encoded data removed]",
            "text/plain": [
              "<Figure size 2100x700 with 5 Axes>"
            ]
          },
          "metadata": {},
          "output_type": "display_data"
        }
      ],
      "source": [
        "years = ['2016','2017','2018','2019','2020']\n",
        "fig, _ = plt.subplots(1,5,figsize=(21,7), sharex='all', sharey='all')\n",
        "\n",
        "fig.suptitle('Acccidents by Weekday for Different Years')\n",
        "plt.xlabel('Weekday')\n",
        "plt.ylabel('Accidents')\n",
        "for i, year in enumerate(years,1):\n",
        "    weekday = accident_main.loc[year].groupby('Weekday').ID.count()\n",
        "    weekday = weekday/weekday.sum()\n",
        "    dayOfWeek=['Monday','Tuesday','Wednesday','Thursday','Friday','Saturday','Sunday']\n",
        "    plt.subplot(1,5,i)\n",
        "    plt.title(year)\n",
        "    weekday[dayOfWeek].plot.bar()"
      ]
    },
    {
      "cell_type": "code",
      "execution_count": null,
      "id": "b2cd3023",
      "metadata": {
        "tags": [],
        "id": "b2cd3023",
        "outputId": "df07ff72-544c-4701-8d7a-27bcfe388ac8"
      },
      "outputs": [
        {
          "name": "stdout",
          "output_type": "stream",
          "text": [
            "<class 'pandas.core.frame.DataFrame'>\n",
            "DatetimeIndex: 2633808 entries, 2016-08-01 01:05:41 to 2017-08-31 03:17:21\n",
            "Data columns (total 14 columns):\n",
            " #   Column          Dtype         \n",
            "---  ------          -----         \n",
            " 0   Severity        int32         \n",
            " 1   StartTime(UTC)  datetime64[ns]\n",
            " 2   EndTime(UTC)    datetime64[ns]\n",
            " 3   TimeZone        category      \n",
            " 4   LocationLat     float32       \n",
            " 5   LocationLng     float32       \n",
            " 6   AirportCode     category      \n",
            " 7   City            category      \n",
            " 8   State           category      \n",
            " 9   ZipCode         int32         \n",
            " 10  ID              int32         \n",
            " 11  Weekday         category      \n",
            " 12  month           int32         \n",
            " 13  year            int32         \n",
            "dtypes: category(5), datetime64[ns](2), float32(2), int32(5)\n",
            "memory usage: 148.6 MB\n"
          ]
        }
      ],
      "source": [
        "accident_main.info()"
      ]
    },
    {
      "cell_type": "code",
      "execution_count": null,
      "id": "5d113257",
      "metadata": {
        "tags": [],
        "id": "5d113257",
        "outputId": "2f31f3a2-9151-4da2-d825-9797fe8203aa"
      },
      "outputs": [
        {
          "name": "stdout",
          "output_type": "stream",
          "text": [
            "<class 'pandas.core.frame.DataFrame'>\n",
            "Index: 5532804 entries, 0 to 5576433\n",
            "Data columns (total 14 columns):\n",
            " #   Column          Dtype         \n",
            "---  ------          -----         \n",
            " 0   Type            category      \n",
            " 1   Severity        category      \n",
            " 2   StartTime(UTC)  datetime64[ns]\n",
            " 3   EndTime(UTC)    datetime64[ns]\n",
            " 4   TimeZone        category      \n",
            " 5   LocationLat     float32       \n",
            " 6   LocationLng     float32       \n",
            " 7   AirportCode     category      \n",
            " 8   City            category      \n",
            " 9   State           category      \n",
            " 10  ZipCode         int32         \n",
            " 11  Weekday         category      \n",
            " 12  month           int32         \n",
            " 13  year            int32         \n",
            "dtypes: category(7), datetime64[ns](2), float32(2), int32(3)\n",
            "memory usage: 408.8 MB\n"
          ]
        }
      ],
      "source": [
        "weather_main.info()"
      ]
    },
    {
      "cell_type": "code",
      "execution_count": null,
      "id": "547de5c3-6075-4c2b-9ba6-16ecf2ad34dd",
      "metadata": {
        "tags": [],
        "id": "547de5c3-6075-4c2b-9ba6-16ecf2ad34dd"
      },
      "outputs": [],
      "source": [
        "accident_main['EndTime(UTC)'] = pd.to_datetime(accident_main['EndTime(UTC)'], format='%Y-%m-%d %H:%M:%S')\n",
        "weather_main['EndTime(UTC)'] = pd.to_datetime(weather_main['EndTime(UTC)'], format='%Y-%m-%d %H:%M:%S')"
      ]
    },
    {
      "cell_type": "code",
      "execution_count": null,
      "id": "d699e9e4-5ee0-4431-aafc-6c52f606b5d8",
      "metadata": {
        "tags": [],
        "id": "d699e9e4-5ee0-4431-aafc-6c52f606b5d8"
      },
      "outputs": [],
      "source": [
        "weather_main['Weekday'] = weather_main['Weekday'].astype('category')"
      ]
    },
    {
      "cell_type": "code",
      "execution_count": null,
      "id": "188114fe",
      "metadata": {
        "tags": [],
        "id": "188114fe"
      },
      "outputs": [],
      "source": [
        "accident_main.to_csv('s3://abhilasha-lstw-11102023/accident_cleaned.csv', index=False)"
      ]
    },
    {
      "cell_type": "code",
      "execution_count": null,
      "id": "086d663f",
      "metadata": {
        "tags": [],
        "id": "086d663f"
      },
      "outputs": [],
      "source": [
        "weather_main.to_csv('s3://abhilasha-lstw-11102023/weather_cleaned.csv', index=False)"
      ]
    },
    {
      "cell_type": "code",
      "execution_count": null,
      "id": "a798b138",
      "metadata": {
        "id": "a798b138"
      },
      "outputs": [],
      "source": [
        "accident_main = pd.read_csv('/content/drive/MyDrive/Colab Notebooks/accident_cleaned.csv')"
      ]
    },
    {
      "cell_type": "code",
      "execution_count": null,
      "id": "93f15d20-270c-49b0-8114-8cbe4c7e9be9",
      "metadata": {
        "id": "93f15d20-270c-49b0-8114-8cbe4c7e9be9"
      },
      "outputs": [],
      "source": [
        "weather_main = pd.read_csv('/content/drive/MyDrive/Colab Notebooks/weather_cleaned.csv')"
      ]
    },
    {
      "cell_type": "code",
      "execution_count": null,
      "id": "21d39528-5464-4b18-ae2e-c7c1d29b0a5c",
      "metadata": {
        "tags": [],
        "colab": {
          "base_uri": "https://localhost:8080/"
        },
        "id": "21d39528-5464-4b18-ae2e-c7c1d29b0a5c",
        "outputId": "682f650f-a3a9-4f45-8506-33d0a5158de9"
      },
      "outputs": [
        {
          "output_type": "stream",
          "name": "stdout",
          "text": [
            "Collecting pyspark\n",
            "  Downloading pyspark-3.5.0.tar.gz (316.9 MB)\n",
            "\u001b[2K     \u001b[90m━━━━━━━━━━━━━━━━━━━━━━━━━━━━━━━━━━━━━━━━\u001b[0m \u001b[32m316.9/316.9 MB\u001b[0m \u001b[31m4.6 MB/s\u001b[0m eta \u001b[36m0:00:00\u001b[0m\n",
            "\u001b[?25h  Preparing metadata (setup.py) ... \u001b[?25l\u001b[?25hdone\n",
            "Requirement already satisfied: py4j==0.10.9.7 in /usr/local/lib/python3.10/dist-packages (from pyspark) (0.10.9.7)\n",
            "Building wheels for collected packages: pyspark\n",
            "  Building wheel for pyspark (setup.py) ... \u001b[?25l\u001b[?25hdone\n",
            "  Created wheel for pyspark: filename=pyspark-3.5.0-py2.py3-none-any.whl size=317425344 sha256=a4d5e0eaeb37bb6f283c80147446e24fd49b05e63202beeab2d1375317ecb793\n",
            "  Stored in directory: /root/.cache/pip/wheels/41/4e/10/c2cf2467f71c678cfc8a6b9ac9241e5e44a01940da8fbb17fc\n",
            "Successfully built pyspark\n",
            "Installing collected packages: pyspark\n",
            "Successfully installed pyspark-3.5.0\n"
          ]
        }
      ],
      "source": [
        "pip install pyspark"
      ]
    },
    {
      "cell_type": "code",
      "execution_count": null,
      "id": "7b70e5c6",
      "metadata": {
        "colab": {
          "base_uri": "https://localhost:8080/"
        },
        "id": "7b70e5c6",
        "outputId": "144428d7-b401-461f-abcb-59d28281215e"
      },
      "outputs": [
        {
          "output_type": "stream",
          "name": "stdout",
          "text": [
            "<class 'pandas.core.frame.DataFrame'>\n",
            "RangeIndex: 2633808 entries, 0 to 2633807\n",
            "Data columns (total 14 columns):\n",
            " #   Column          Dtype   \n",
            "---  ------          -----   \n",
            " 0   Severity        int32   \n",
            " 1   StartTime(UTC)  category\n",
            " 2   EndTime(UTC)    category\n",
            " 3   TimeZone        category\n",
            " 4   LocationLat     float32 \n",
            " 5   LocationLng     float32 \n",
            " 6   AirportCode     category\n",
            " 7   City            category\n",
            " 8   State           category\n",
            " 9   ZipCode         int32   \n",
            " 10  ID              int32   \n",
            " 11  Weekday         category\n",
            " 12  month           int32   \n",
            " 13  year            int32   \n",
            "dtypes: category(7), float32(2), int32(5)\n",
            "memory usage: 276.6 MB\n",
            "<class 'pandas.core.frame.DataFrame'>\n",
            "RangeIndex: 5532804 entries, 0 to 5532803\n",
            "Data columns (total 14 columns):\n",
            " #   Column          Dtype   \n",
            "---  ------          -----   \n",
            " 0   Type            category\n",
            " 1   Severity        category\n",
            " 2   StartTime(UTC)  category\n",
            " 3   EndTime(UTC)    category\n",
            " 4   TimeZone        category\n",
            " 5   LocationLat     float32 \n",
            " 6   LocationLng     float32 \n",
            " 7   AirportCode     category\n",
            " 8   City            category\n",
            " 9   State           category\n",
            " 10  ZipCode         int32   \n",
            " 11  Weekday         category\n",
            " 12  month           int32   \n",
            " 13  year            int32   \n",
            "dtypes: category(9), float32(2), int32(3)\n",
            "memory usage: 282.1 MB\n"
          ]
        }
      ],
      "source": [
        "accident_main.info()\n",
        "weather_main.info()"
      ]
    },
    {
      "cell_type": "code",
      "execution_count": null,
      "id": "c7aea2ba",
      "metadata": {
        "id": "c7aea2ba"
      },
      "outputs": [],
      "source": [
        "# Example: Convert int64 columns to int32\n",
        "accident_main['Severity'] = accident_main['Severity'].astype('int32')\n",
        "accident_main['ID'] = accident_main['ID'].astype('int32')\n",
        "accident_main['ZipCode'] = accident_main['ZipCode'].astype('int32')\n",
        "accident_main['month'] = accident_main['month'].astype('int32')\n",
        "accident_main['year'] = accident_main['year'].astype('int32')\n",
        "weather_main['ZipCode'] = weather_main['ZipCode'].astype('int32')\n",
        "weather_main['month'] = weather_main['month'].astype('int32')\n",
        "weather_main['year'] = weather_main['year'].astype('int32')\n",
        "\n",
        "# Convert float64 to float32\n",
        "float64_columns = accident_main.select_dtypes(include=['float64']).columns\n",
        "accident_main[float64_columns] = accident_main[float64_columns].astype('float32')\n",
        "float64_columns = weather_main.select_dtypes(include=['float64']).columns\n",
        "weather_main[float64_columns] = weather_main[float64_columns].astype('float32')\n",
        "\n",
        "# Convert object to category\n",
        "object_columns = accident_main.select_dtypes(include=['object']).columns\n",
        "accident_main[object_columns] = accident_main[object_columns].astype('category')\n",
        "object_columns = weather_main.select_dtypes(include=['object']).columns\n",
        "weather_main[object_columns] = weather_main[object_columns].astype('category')\n"
      ]
    },
    {
      "cell_type": "code",
      "execution_count": null,
      "id": "7714bb6e",
      "metadata": {
        "id": "7714bb6e",
        "outputId": "388f60ad-ddfe-4fc0-f6d6-864da217d02b"
      },
      "outputs": [
        {
          "data": {
            "text/plain": [
              "1080"
            ]
          },
          "execution_count": 13,
          "metadata": {},
          "output_type": "execute_result"
        }
      ],
      "source": [
        "len(accident_main[accident_main['Severity'] == 1])"
      ]
    },
    {
      "cell_type": "markdown",
      "source": [
        "Checking length of data yearwise"
      ],
      "metadata": {
        "id": "kCB_Z7QxEKek"
      },
      "id": "kCB_Z7QxEKek"
    },
    {
      "cell_type": "code",
      "source": [
        "len(accident_main[accident_main['year'] == 2016])"
      ],
      "metadata": {
        "colab": {
          "base_uri": "https://localhost:8080/"
        },
        "id": "_roIrZR_NQ4m",
        "outputId": "a01de23c-a537-47bc-eae8-f289e4faf0a2"
      },
      "id": "_roIrZR_NQ4m",
      "execution_count": null,
      "outputs": [
        {
          "output_type": "execute_result",
          "data": {
            "text/plain": [
              "203448"
            ]
          },
          "metadata": {},
          "execution_count": 15
        }
      ]
    },
    {
      "cell_type": "code",
      "source": [
        "len(accident_main[accident_main['year'] == 2017])"
      ],
      "metadata": {
        "colab": {
          "base_uri": "https://localhost:8080/"
        },
        "id": "mqPeEiboNr8A",
        "outputId": "1d95676a-2358-4513-abd6-0d0a2dfff326"
      },
      "id": "mqPeEiboNr8A",
      "execution_count": null,
      "outputs": [
        {
          "output_type": "execute_result",
          "data": {
            "text/plain": [
              "546650"
            ]
          },
          "metadata": {},
          "execution_count": 13
        }
      ]
    },
    {
      "cell_type": "code",
      "source": [
        "len(accident_main[accident_main['year'] == 2018])"
      ],
      "metadata": {
        "colab": {
          "base_uri": "https://localhost:8080/"
        },
        "id": "DatYlXBQNsIo",
        "outputId": "b0ae8620-cc8d-4121-8ae9-ec862d97f9ff"
      },
      "id": "DatYlXBQNsIo",
      "execution_count": null,
      "outputs": [
        {
          "output_type": "execute_result",
          "data": {
            "text/plain": [
              "723936"
            ]
          },
          "metadata": {},
          "execution_count": 14
        }
      ]
    },
    {
      "cell_type": "code",
      "source": [
        "len(accident_main[accident_main['year'] == 2019])"
      ],
      "metadata": {
        "colab": {
          "base_uri": "https://localhost:8080/"
        },
        "id": "DGoUW9erNw_Q",
        "outputId": "6ea79a4d-b038-4c66-ae36-4dea97d0bbcb"
      },
      "id": "DGoUW9erNw_Q",
      "execution_count": null,
      "outputs": [
        {
          "output_type": "execute_result",
          "data": {
            "text/plain": [
              "690655"
            ]
          },
          "metadata": {},
          "execution_count": 16
        }
      ]
    },
    {
      "cell_type": "code",
      "source": [
        "len(accident_main[accident_main['year'] == 2020])"
      ],
      "metadata": {
        "colab": {
          "base_uri": "https://localhost:8080/"
        },
        "id": "2mBq8mzmNxXk",
        "outputId": "ed2f7119-72bb-49c1-b7fc-6b3abee0b527"
      },
      "id": "2mBq8mzmNxXk",
      "execution_count": null,
      "outputs": [
        {
          "output_type": "execute_result",
          "data": {
            "text/plain": [
              "469119"
            ]
          },
          "metadata": {},
          "execution_count": 17
        }
      ]
    },
    {
      "cell_type": "code",
      "source": [
        "len(weather_main[weather_main['year'] == 2016])"
      ],
      "metadata": {
        "colab": {
          "base_uri": "https://localhost:8080/"
        },
        "id": "XynBMxQPNSnp",
        "outputId": "ab5bf522-f799-431b-fc6a-e104befce66f"
      },
      "id": "XynBMxQPNSnp",
      "execution_count": null,
      "outputs": [
        {
          "output_type": "execute_result",
          "data": {
            "text/plain": [
              "484814"
            ]
          },
          "metadata": {},
          "execution_count": 18
        }
      ]
    },
    {
      "cell_type": "code",
      "source": [
        "len(weather_main[weather_main['year'] == 2017])"
      ],
      "metadata": {
        "colab": {
          "base_uri": "https://localhost:8080/"
        },
        "id": "zgHzRTulN3r5",
        "outputId": "ce261ce3-9fef-4c24-9725-c3131d914ae3"
      },
      "id": "zgHzRTulN3r5",
      "execution_count": null,
      "outputs": [
        {
          "output_type": "execute_result",
          "data": {
            "text/plain": [
              "1217795"
            ]
          },
          "metadata": {},
          "execution_count": 19
        }
      ]
    },
    {
      "cell_type": "code",
      "source": [
        "len(weather_main[weather_main['year'] == 2018])"
      ],
      "metadata": {
        "colab": {
          "base_uri": "https://localhost:8080/"
        },
        "id": "-D-sB-VdN3ze",
        "outputId": "01f78abd-6202-4b43-f9de-3acbd7024af9"
      },
      "id": "-D-sB-VdN3ze",
      "execution_count": null,
      "outputs": [
        {
          "output_type": "execute_result",
          "data": {
            "text/plain": [
              "1318505"
            ]
          },
          "metadata": {},
          "execution_count": 20
        }
      ]
    },
    {
      "cell_type": "code",
      "source": [
        "len(weather_main[weather_main['year'] == 2019])"
      ],
      "metadata": {
        "colab": {
          "base_uri": "https://localhost:8080/"
        },
        "id": "DGlsl9mwN36i",
        "outputId": "1fdcdb0f-c5ed-461c-c8ce-054bb0c48381"
      },
      "id": "DGlsl9mwN36i",
      "execution_count": null,
      "outputs": [
        {
          "output_type": "execute_result",
          "data": {
            "text/plain": [
              "1307472"
            ]
          },
          "metadata": {},
          "execution_count": 21
        }
      ]
    },
    {
      "cell_type": "code",
      "source": [
        "len(weather_main[weather_main['year'] == 2020])"
      ],
      "metadata": {
        "colab": {
          "base_uri": "https://localhost:8080/"
        },
        "id": "ge3TWwn-N4C3",
        "outputId": "e77dc2a7-fa6e-4205-933f-4899fbe57e01"
      },
      "id": "ge3TWwn-N4C3",
      "execution_count": null,
      "outputs": [
        {
          "output_type": "execute_result",
          "data": {
            "text/plain": [
              "1204218"
            ]
          },
          "metadata": {},
          "execution_count": 22
        }
      ]
    },
    {
      "cell_type": "markdown",
      "source": [
        "Checking for any duplicated rows"
      ],
      "metadata": {
        "id": "xjS4gj9VEQKc"
      },
      "id": "xjS4gj9VEQKc"
    },
    {
      "cell_type": "code",
      "execution_count": null,
      "id": "611551af",
      "metadata": {
        "id": "611551af",
        "outputId": "201bd2b4-1ed3-4ba3-b0c1-a05c8a2a7736"
      },
      "outputs": [
        {
          "name": "stdout",
          "output_type": "stream",
          "text": [
            "\n",
            "Duplicate Rows:\n",
            "Empty DataFrame\n",
            "Columns: [Severity, StartTime(UTC), EndTime(UTC), TimeZone, LocationLat, LocationLng, AirportCode, City, State, ZipCode, ID, Weekday, month, year]\n",
            "Index: []\n"
          ]
        }
      ],
      "source": [
        "duplicate_rows = accident_main[accident_main.duplicated()]\n",
        "\n",
        "\n",
        "print(\"\\nDuplicate Rows:\")\n",
        "print(duplicate_rows)\n"
      ]
    },
    {
      "cell_type": "code",
      "execution_count": null,
      "id": "65534a60",
      "metadata": {
        "id": "65534a60",
        "outputId": "7b0a2001-68c3-49c8-e135-61ad5261558d"
      },
      "outputs": [
        {
          "name": "stdout",
          "output_type": "stream",
          "text": [
            "\n",
            "Duplicate Rows:\n",
            "Empty DataFrame\n",
            "Columns: [Type, Severity, StartTime(UTC), EndTime(UTC), TimeZone, LocationLat, LocationLng, AirportCode, City, State, ZipCode, Weekday, month, year]\n",
            "Index: []\n"
          ]
        }
      ],
      "source": [
        "duplicate_rows_1 = weather_main[weather_main.duplicated()]\n",
        "\n",
        "\n",
        "print(\"\\nDuplicate Rows:\")\n",
        "print(duplicate_rows_1)"
      ]
    },
    {
      "cell_type": "markdown",
      "source": [
        "Splitting the data yearwise"
      ],
      "metadata": {
        "id": "hXbIAjTnETOP"
      },
      "id": "hXbIAjTnETOP"
    },
    {
      "cell_type": "code",
      "source": [
        "\n",
        "# Get the unique years\n",
        "years = accident_main['year'].unique()\n",
        "\n",
        "# Create a list to store the dataframes for each year\n",
        "yearly_dataframes = []\n",
        "\n",
        "# Iterate over the years and create a dataframe for each year with no duplicates\n",
        "for year in years:\n",
        "    year_dataframe = accident_main[accident_main['year'] == year]\n",
        "    year_dataframe.drop_duplicates(inplace=True)\n",
        "    yearly_dataframes.append(year_dataframe)\n",
        "\n",
        "# Save the yearly dataframes to separate CSV files\n",
        "for i in range(len(yearly_dataframes)):\n",
        "    yearly_dataframes[i].to_csv('accident_' + str(years[i]) + '.csv', index=False)\n"
      ],
      "metadata": {
        "id": "tDp5aS0COASN"
      },
      "id": "tDp5aS0COASN",
      "execution_count": null,
      "outputs": []
    },
    {
      "cell_type": "code",
      "source": [
        "\n",
        "# Get the unique years\n",
        "years = weather_main['year'].unique()\n",
        "\n",
        "# Create a list to store the dataframes for each year\n",
        "yearly_dataframes = []\n",
        "\n",
        "# Iterate over the years and create a dataframe for each year with no duplicates\n",
        "for year in years:\n",
        "    year_dataframe = weather_main[weather_main['year'] == year]\n",
        "    year_dataframe.drop_duplicates(inplace=True)\n",
        "    yearly_dataframes.append(year_dataframe)\n",
        "\n",
        "# Save the yearly dataframes to separate CSV files\n",
        "for i in range(len(yearly_dataframes)):\n",
        "    yearly_dataframes[i].to_csv('weather_' + str(years[i]) + '.csv', index=False)\n"
      ],
      "metadata": {
        "id": "NYNZIp9yOAVV"
      },
      "id": "NYNZIp9yOAVV",
      "execution_count": null,
      "outputs": []
    },
    {
      "cell_type": "code",
      "source": [
        "accident_2016 = pd.read_csv('/content/accident_2016.csv')\n",
        "accident_2017 = pd.read_csv('/content/accident_2017.csv')\n",
        "accident_2018 = pd.read_csv('/content/accident_2018.csv')\n",
        "accident_2019 = pd.read_csv('/content/accident_2019.csv')\n",
        "accident_2020 = pd.read_csv('/content/accident_2020.csv')"
      ],
      "metadata": {
        "id": "RIX1QhydR3yx"
      },
      "id": "RIX1QhydR3yx",
      "execution_count": null,
      "outputs": []
    },
    {
      "cell_type": "code",
      "source": [
        "weather_2016 = pd.read_csv('/content/weather_2016.csv')\n",
        "weather_2017 = pd.read_csv('/content/weather_2017.csv')\n",
        "weather_2018 = pd.read_csv('/content/weather_2018.csv')\n",
        "weather_2019 = pd.read_csv('/content/weather_2019.csv')\n",
        "weather_2020 = pd.read_csv('/content/weather_2020.csv')"
      ],
      "metadata": {
        "id": "FJr6PjwyR31t"
      },
      "id": "FJr6PjwyR31t",
      "execution_count": null,
      "outputs": []
    },
    {
      "cell_type": "code",
      "source": [
        "accident_2016.info()"
      ],
      "metadata": {
        "colab": {
          "base_uri": "https://localhost:8080/"
        },
        "id": "P__lJehSSbD0",
        "outputId": "08b6629c-0ed4-4909-b636-0ab7820d7eb5"
      },
      "id": "P__lJehSSbD0",
      "execution_count": null,
      "outputs": [
        {
          "output_type": "stream",
          "name": "stdout",
          "text": [
            "<class 'pandas.core.frame.DataFrame'>\n",
            "RangeIndex: 203448 entries, 0 to 203447\n",
            "Data columns (total 14 columns):\n",
            " #   Column          Non-Null Count   Dtype  \n",
            "---  ------          --------------   -----  \n",
            " 0   Severity        203448 non-null  int64  \n",
            " 1   StartTime(UTC)  203448 non-null  object \n",
            " 2   EndTime(UTC)    203448 non-null  object \n",
            " 3   TimeZone        203448 non-null  object \n",
            " 4   LocationLat     203448 non-null  float64\n",
            " 5   LocationLng     203448 non-null  float64\n",
            " 6   AirportCode     203448 non-null  object \n",
            " 7   City            203448 non-null  object \n",
            " 8   State           203448 non-null  object \n",
            " 9   ZipCode         203448 non-null  int64  \n",
            " 10  ID              203448 non-null  int64  \n",
            " 11  Weekday         203448 non-null  object \n",
            " 12  month           203448 non-null  int64  \n",
            " 13  year            203448 non-null  int64  \n",
            "dtypes: float64(2), int64(5), object(7)\n",
            "memory usage: 21.7+ MB\n"
          ]
        }
      ]
    },
    {
      "cell_type": "code",
      "source": [
        "weather_2016.info()"
      ],
      "metadata": {
        "colab": {
          "base_uri": "https://localhost:8080/"
        },
        "id": "0A2hBuQFR34-",
        "outputId": "45c42b32-bc99-4398-c364-52de7bba9511"
      },
      "id": "0A2hBuQFR34-",
      "execution_count": null,
      "outputs": [
        {
          "output_type": "stream",
          "name": "stdout",
          "text": [
            "<class 'pandas.core.frame.DataFrame'>\n",
            "RangeIndex: 484814 entries, 0 to 484813\n",
            "Data columns (total 14 columns):\n",
            " #   Column          Non-Null Count   Dtype  \n",
            "---  ------          --------------   -----  \n",
            " 0   Type            484814 non-null  object \n",
            " 1   Severity        484814 non-null  object \n",
            " 2   StartTime(UTC)  484814 non-null  object \n",
            " 3   EndTime(UTC)    484814 non-null  object \n",
            " 4   TimeZone        484814 non-null  object \n",
            " 5   LocationLat     484814 non-null  float64\n",
            " 6   LocationLng     484814 non-null  float64\n",
            " 7   AirportCode     484814 non-null  object \n",
            " 8   City            484814 non-null  object \n",
            " 9   State           484814 non-null  object \n",
            " 10  ZipCode         484814 non-null  int64  \n",
            " 11  Weekday         484814 non-null  object \n",
            " 12  month           484814 non-null  int64  \n",
            " 13  year            484814 non-null  int64  \n",
            "dtypes: float64(2), int64(3), object(9)\n",
            "memory usage: 51.8+ MB\n"
          ]
        }
      ]
    },
    {
      "cell_type": "code",
      "source": [
        "# Convert the date time column to datetime64 type\n",
        "accident_2016['date_time'] = pd.to_datetime(accident_2016['StartTime(UTC)'])\n",
        "\n",
        "# Get the date from the date time column\n",
        "accident_2016['date'] = accident_2016['date_time'].dt.date"
      ],
      "metadata": {
        "id": "GevHihSbUdP9"
      },
      "id": "GevHihSbUdP9",
      "execution_count": null,
      "outputs": []
    },
    {
      "cell_type": "code",
      "source": [
        "# Convert the date time column to datetime64 type\n",
        "weather_2016['date_time'] = pd.to_datetime(weather_2016['StartTime(UTC)'])\n",
        "\n",
        "# Get the date from the date time column\n",
        "weather_2016['date'] = weather_2016['date_time'].dt.date"
      ],
      "metadata": {
        "id": "hjor9DlMUdau"
      },
      "id": "hjor9DlMUdau",
      "execution_count": null,
      "outputs": []
    },
    {
      "cell_type": "code",
      "source": [
        "accident_2016.head()"
      ],
      "metadata": {
        "colab": {
          "base_uri": "https://localhost:8080/",
          "height": 400
        },
        "id": "kcdb1uB6U4cq",
        "outputId": "55c73116-a2ec-4ac9-bc0b-a2a4a9e930e4"
      },
      "id": "kcdb1uB6U4cq",
      "execution_count": null,
      "outputs": [
        {
          "output_type": "execute_result",
          "data": {
            "text/plain": [
              "   Severity       StartTime(UTC)         EndTime(UTC)    TimeZone  \\\n",
              "0         3  2016-08-01 01:05:41  2016-08-01 01:35:41  US/Pacific   \n",
              "1         2  2016-08-01 03:08:16  2016-08-01 03:38:16  US/Pacific   \n",
              "2         2  2016-08-01 03:09:06  2016-08-01 03:39:06  US/Pacific   \n",
              "3         2  2016-08-01 03:11:04  2016-08-01 03:41:04  US/Pacific   \n",
              "4         2  2016-08-01 03:16:52  2016-08-01 03:46:52  US/Pacific   \n",
              "\n",
              "   LocationLat  LocationLng AirportCode           City State  ZipCode  ID  \\\n",
              "0    38.275646  -122.047580        KSUU      Fairfield    CA    94533   0   \n",
              "1    38.348320  -122.713165        KO69   Rohnert Park    CA    94928   1   \n",
              "2    37.734898  -122.408660        KSFO  San Francisco    CA    94134   2   \n",
              "3    38.485943  -122.961950        KSTS    Guerneville    CA    95446   3   \n",
              "4    38.028072  -121.934494        KCCR      Bay Point    CA    94565   4   \n",
              "\n",
              "  Weekday  month  year           date_time        date  \n",
              "0  Monday      8  2016 2016-08-01 01:05:41  2016-08-01  \n",
              "1  Monday      8  2016 2016-08-01 03:08:16  2016-08-01  \n",
              "2  Monday      8  2016 2016-08-01 03:09:06  2016-08-01  \n",
              "3  Monday      8  2016 2016-08-01 03:11:04  2016-08-01  \n",
              "4  Monday      8  2016 2016-08-01 03:16:52  2016-08-01  "
            ],
            "text/html": [
              "\n",
              "  <div id=\"df-e7d1efbd-d43a-4695-af7e-d0e8a5d830f7\" class=\"colab-df-container\">\n",
              "    <div>\n",
              "<style scoped>\n",
              "    .dataframe tbody tr th:only-of-type {\n",
              "        vertical-align: middle;\n",
              "    }\n",
              "\n",
              "    .dataframe tbody tr th {\n",
              "        vertical-align: top;\n",
              "    }\n",
              "\n",
              "    .dataframe thead th {\n",
              "        text-align: right;\n",
              "    }\n",
              "</style>\n",
              "<table border=\"1\" class=\"dataframe\">\n",
              "  <thead>\n",
              "    <tr style=\"text-align: right;\">\n",
              "      <th></th>\n",
              "      <th>Severity</th>\n",
              "      <th>StartTime(UTC)</th>\n",
              "      <th>EndTime(UTC)</th>\n",
              "      <th>TimeZone</th>\n",
              "      <th>LocationLat</th>\n",
              "      <th>LocationLng</th>\n",
              "      <th>AirportCode</th>\n",
              "      <th>City</th>\n",
              "      <th>State</th>\n",
              "      <th>ZipCode</th>\n",
              "      <th>ID</th>\n",
              "      <th>Weekday</th>\n",
              "      <th>month</th>\n",
              "      <th>year</th>\n",
              "      <th>date_time</th>\n",
              "      <th>date</th>\n",
              "    </tr>\n",
              "  </thead>\n",
              "  <tbody>\n",
              "    <tr>\n",
              "      <th>0</th>\n",
              "      <td>3</td>\n",
              "      <td>2016-08-01 01:05:41</td>\n",
              "      <td>2016-08-01 01:35:41</td>\n",
              "      <td>US/Pacific</td>\n",
              "      <td>38.275646</td>\n",
              "      <td>-122.047580</td>\n",
              "      <td>KSUU</td>\n",
              "      <td>Fairfield</td>\n",
              "      <td>CA</td>\n",
              "      <td>94533</td>\n",
              "      <td>0</td>\n",
              "      <td>Monday</td>\n",
              "      <td>8</td>\n",
              "      <td>2016</td>\n",
              "      <td>2016-08-01 01:05:41</td>\n",
              "      <td>2016-08-01</td>\n",
              "    </tr>\n",
              "    <tr>\n",
              "      <th>1</th>\n",
              "      <td>2</td>\n",
              "      <td>2016-08-01 03:08:16</td>\n",
              "      <td>2016-08-01 03:38:16</td>\n",
              "      <td>US/Pacific</td>\n",
              "      <td>38.348320</td>\n",
              "      <td>-122.713165</td>\n",
              "      <td>KO69</td>\n",
              "      <td>Rohnert Park</td>\n",
              "      <td>CA</td>\n",
              "      <td>94928</td>\n",
              "      <td>1</td>\n",
              "      <td>Monday</td>\n",
              "      <td>8</td>\n",
              "      <td>2016</td>\n",
              "      <td>2016-08-01 03:08:16</td>\n",
              "      <td>2016-08-01</td>\n",
              "    </tr>\n",
              "    <tr>\n",
              "      <th>2</th>\n",
              "      <td>2</td>\n",
              "      <td>2016-08-01 03:09:06</td>\n",
              "      <td>2016-08-01 03:39:06</td>\n",
              "      <td>US/Pacific</td>\n",
              "      <td>37.734898</td>\n",
              "      <td>-122.408660</td>\n",
              "      <td>KSFO</td>\n",
              "      <td>San Francisco</td>\n",
              "      <td>CA</td>\n",
              "      <td>94134</td>\n",
              "      <td>2</td>\n",
              "      <td>Monday</td>\n",
              "      <td>8</td>\n",
              "      <td>2016</td>\n",
              "      <td>2016-08-01 03:09:06</td>\n",
              "      <td>2016-08-01</td>\n",
              "    </tr>\n",
              "    <tr>\n",
              "      <th>3</th>\n",
              "      <td>2</td>\n",
              "      <td>2016-08-01 03:11:04</td>\n",
              "      <td>2016-08-01 03:41:04</td>\n",
              "      <td>US/Pacific</td>\n",
              "      <td>38.485943</td>\n",
              "      <td>-122.961950</td>\n",
              "      <td>KSTS</td>\n",
              "      <td>Guerneville</td>\n",
              "      <td>CA</td>\n",
              "      <td>95446</td>\n",
              "      <td>3</td>\n",
              "      <td>Monday</td>\n",
              "      <td>8</td>\n",
              "      <td>2016</td>\n",
              "      <td>2016-08-01 03:11:04</td>\n",
              "      <td>2016-08-01</td>\n",
              "    </tr>\n",
              "    <tr>\n",
              "      <th>4</th>\n",
              "      <td>2</td>\n",
              "      <td>2016-08-01 03:16:52</td>\n",
              "      <td>2016-08-01 03:46:52</td>\n",
              "      <td>US/Pacific</td>\n",
              "      <td>38.028072</td>\n",
              "      <td>-121.934494</td>\n",
              "      <td>KCCR</td>\n",
              "      <td>Bay Point</td>\n",
              "      <td>CA</td>\n",
              "      <td>94565</td>\n",
              "      <td>4</td>\n",
              "      <td>Monday</td>\n",
              "      <td>8</td>\n",
              "      <td>2016</td>\n",
              "      <td>2016-08-01 03:16:52</td>\n",
              "      <td>2016-08-01</td>\n",
              "    </tr>\n",
              "  </tbody>\n",
              "</table>\n",
              "</div>\n",
              "    <div class=\"colab-df-buttons\">\n",
              "\n",
              "  <div class=\"colab-df-container\">\n",
              "    <button class=\"colab-df-convert\" onclick=\"convertToInteractive('df-e7d1efbd-d43a-4695-af7e-d0e8a5d830f7')\"\n",
              "            title=\"Convert this dataframe to an interactive table.\"\n",
              "            style=\"display:none;\">\n",
              "\n",
              "  <svg xmlns=\"http://www.w3.org/2000/svg\" height=\"24px\" viewBox=\"0 -960 960 960\">\n",
              "    <path d=\"M120-120v-720h720v720H120Zm60-500h600v-160H180v160Zm220 220h160v-160H400v160Zm0 220h160v-160H400v160ZM180-400h160v-160H180v160Zm440 0h160v-160H620v160ZM180-180h160v-160H180v160Zm440 0h160v-160H620v160Z\"/>\n",
              "  </svg>\n",
              "    </button>\n",
              "\n",
              "  <style>\n",
              "    .colab-df-container {\n",
              "      display:flex;\n",
              "      gap: 12px;\n",
              "    }\n",
              "\n",
              "    .colab-df-convert {\n",
              "      background-color: #E8F0FE;\n",
              "      border: none;\n",
              "      border-radius: 50%;\n",
              "      cursor: pointer;\n",
              "      display: none;\n",
              "      fill: #1967D2;\n",
              "      height: 32px;\n",
              "      padding: 0 0 0 0;\n",
              "      width: 32px;\n",
              "    }\n",
              "\n",
              "    .colab-df-convert:hover {\n",
              "      background-color: #E2EBFA;\n",
              "      box-shadow: 0px 1px 2px rgba(60, 64, 67, 0.3), 0px 1px 3px 1px rgba(60, 64, 67, 0.15);\n",
              "      fill: #174EA6;\n",
              "    }\n",
              "\n",
              "    .colab-df-buttons div {\n",
              "      margin-bottom: 4px;\n",
              "    }\n",
              "\n",
              "    [theme=dark] .colab-df-convert {\n",
              "      background-color: #3B4455;\n",
              "      fill: #D2E3FC;\n",
              "    }\n",
              "\n",
              "    [theme=dark] .colab-df-convert:hover {\n",
              "      background-color: #434B5C;\n",
              "      box-shadow: 0px 1px 3px 1px rgba(0, 0, 0, 0.15);\n",
              "      filter: drop-shadow(0px 1px 2px rgba(0, 0, 0, 0.3));\n",
              "      fill: #FFFFFF;\n",
              "    }\n",
              "  </style>\n",
              "\n",
              "    <script>\n",
              "      const buttonEl =\n",
              "        document.querySelector('#df-e7d1efbd-d43a-4695-af7e-d0e8a5d830f7 button.colab-df-convert');\n",
              "      buttonEl.style.display =\n",
              "        google.colab.kernel.accessAllowed ? 'block' : 'none';\n",
              "\n",
              "      async function convertToInteractive(key) {\n",
              "        const element = document.querySelector('#df-e7d1efbd-d43a-4695-af7e-d0e8a5d830f7');\n",
              "        const dataTable =\n",
              "          await google.colab.kernel.invokeFunction('convertToInteractive',\n",
              "                                                    [key], {});\n",
              "        if (!dataTable) return;\n",
              "\n",
              "        const docLinkHtml = 'Like what you see? Visit the ' +\n",
              "          '<a target=\"_blank\" href=https://colab.research.google.com/notebooks/data_table.ipynb>data table notebook</a>'\n",
              "          + ' to learn more about interactive tables.';\n",
              "        element.innerHTML = '';\n",
              "        dataTable['output_type'] = 'display_data';\n",
              "        await google.colab.output.renderOutput(dataTable, element);\n",
              "        const docLink = document.createElement('div');\n",
              "        docLink.innerHTML = docLinkHtml;\n",
              "        element.appendChild(docLink);\n",
              "      }\n",
              "    </script>\n",
              "  </div>\n",
              "\n",
              "\n",
              "<div id=\"df-89c6553d-5564-4ce7-b626-d553a5a758a9\">\n",
              "  <button class=\"colab-df-quickchart\" onclick=\"quickchart('df-89c6553d-5564-4ce7-b626-d553a5a758a9')\"\n",
              "            title=\"Suggest charts.\"\n",
              "            style=\"display:none;\">\n",
              "\n",
              "<svg xmlns=\"http://www.w3.org/2000/svg\" height=\"24px\"viewBox=\"0 0 24 24\"\n",
              "     width=\"24px\">\n",
              "    <g>\n",
              "        <path d=\"M19 3H5c-1.1 0-2 .9-2 2v14c0 1.1.9 2 2 2h14c1.1 0 2-.9 2-2V5c0-1.1-.9-2-2-2zM9 17H7v-7h2v7zm4 0h-2V7h2v10zm4 0h-2v-4h2v4z\"/>\n",
              "    </g>\n",
              "</svg>\n",
              "  </button>\n",
              "\n",
              "<style>\n",
              "  .colab-df-quickchart {\n",
              "      --bg-color: #E8F0FE;\n",
              "      --fill-color: #1967D2;\n",
              "      --hover-bg-color: #E2EBFA;\n",
              "      --hover-fill-color: #174EA6;\n",
              "      --disabled-fill-color: #AAA;\n",
              "      --disabled-bg-color: #DDD;\n",
              "  }\n",
              "\n",
              "  [theme=dark] .colab-df-quickchart {\n",
              "      --bg-color: #3B4455;\n",
              "      --fill-color: #D2E3FC;\n",
              "      --hover-bg-color: #434B5C;\n",
              "      --hover-fill-color: #FFFFFF;\n",
              "      --disabled-bg-color: #3B4455;\n",
              "      --disabled-fill-color: #666;\n",
              "  }\n",
              "\n",
              "  .colab-df-quickchart {\n",
              "    background-color: var(--bg-color);\n",
              "    border: none;\n",
              "    border-radius: 50%;\n",
              "    cursor: pointer;\n",
              "    display: none;\n",
              "    fill: var(--fill-color);\n",
              "    height: 32px;\n",
              "    padding: 0;\n",
              "    width: 32px;\n",
              "  }\n",
              "\n",
              "  .colab-df-quickchart:hover {\n",
              "    background-color: var(--hover-bg-color);\n",
              "    box-shadow: 0 1px 2px rgba(60, 64, 67, 0.3), 0 1px 3px 1px rgba(60, 64, 67, 0.15);\n",
              "    fill: var(--button-hover-fill-color);\n",
              "  }\n",
              "\n",
              "  .colab-df-quickchart-complete:disabled,\n",
              "  .colab-df-quickchart-complete:disabled:hover {\n",
              "    background-color: var(--disabled-bg-color);\n",
              "    fill: var(--disabled-fill-color);\n",
              "    box-shadow: none;\n",
              "  }\n",
              "\n",
              "  .colab-df-spinner {\n",
              "    border: 2px solid var(--fill-color);\n",
              "    border-color: transparent;\n",
              "    border-bottom-color: var(--fill-color);\n",
              "    animation:\n",
              "      spin 1s steps(1) infinite;\n",
              "  }\n",
              "\n",
              "  @keyframes spin {\n",
              "    0% {\n",
              "      border-color: transparent;\n",
              "      border-bottom-color: var(--fill-color);\n",
              "      border-left-color: var(--fill-color);\n",
              "    }\n",
              "    20% {\n",
              "      border-color: transparent;\n",
              "      border-left-color: var(--fill-color);\n",
              "      border-top-color: var(--fill-color);\n",
              "    }\n",
              "    30% {\n",
              "      border-color: transparent;\n",
              "      border-left-color: var(--fill-color);\n",
              "      border-top-color: var(--fill-color);\n",
              "      border-right-color: var(--fill-color);\n",
              "    }\n",
              "    40% {\n",
              "      border-color: transparent;\n",
              "      border-right-color: var(--fill-color);\n",
              "      border-top-color: var(--fill-color);\n",
              "    }\n",
              "    60% {\n",
              "      border-color: transparent;\n",
              "      border-right-color: var(--fill-color);\n",
              "    }\n",
              "    80% {\n",
              "      border-color: transparent;\n",
              "      border-right-color: var(--fill-color);\n",
              "      border-bottom-color: var(--fill-color);\n",
              "    }\n",
              "    90% {\n",
              "      border-color: transparent;\n",
              "      border-bottom-color: var(--fill-color);\n",
              "    }\n",
              "  }\n",
              "</style>\n",
              "\n",
              "  <script>\n",
              "    async function quickchart(key) {\n",
              "      const quickchartButtonEl =\n",
              "        document.querySelector('#' + key + ' button');\n",
              "      quickchartButtonEl.disabled = true;  // To prevent multiple clicks.\n",
              "      quickchartButtonEl.classList.add('colab-df-spinner');\n",
              "      try {\n",
              "        const charts = await google.colab.kernel.invokeFunction(\n",
              "            'suggestCharts', [key], {});\n",
              "      } catch (error) {\n",
              "        console.error('Error during call to suggestCharts:', error);\n",
              "      }\n",
              "      quickchartButtonEl.classList.remove('colab-df-spinner');\n",
              "      quickchartButtonEl.classList.add('colab-df-quickchart-complete');\n",
              "    }\n",
              "    (() => {\n",
              "      let quickchartButtonEl =\n",
              "        document.querySelector('#df-89c6553d-5564-4ce7-b626-d553a5a758a9 button');\n",
              "      quickchartButtonEl.style.display =\n",
              "        google.colab.kernel.accessAllowed ? 'block' : 'none';\n",
              "    })();\n",
              "  </script>\n",
              "</div>\n",
              "\n",
              "    </div>\n",
              "  </div>\n"
            ]
          },
          "metadata": {},
          "execution_count": 142
        }
      ]
    },
    {
      "cell_type": "code",
      "source": [
        "weather_2016.head()"
      ],
      "metadata": {
        "colab": {
          "base_uri": "https://localhost:8080/",
          "height": 400
        },
        "id": "HChzs9ypU5Fg",
        "outputId": "3aa1d0d9-5d89-4a39-c454-f20a17af6efa"
      },
      "id": "HChzs9ypU5Fg",
      "execution_count": null,
      "outputs": [
        {
          "output_type": "execute_result",
          "data": {
            "text/plain": [
              "   Type Severity       StartTime(UTC)         EndTime(UTC)     TimeZone  \\\n",
              "0  Rain    Light  2016-08-01 00:16:00  2016-08-01 00:56:00  US/Mountain   \n",
              "1  Rain    Light  2016-08-01 01:16:00  2016-08-01 01:36:00  US/Mountain   \n",
              "2  Rain    Light  2016-08-01 01:56:00  2016-08-01 02:16:00  US/Mountain   \n",
              "3  Rain    Light  2016-08-01 02:36:00  2016-08-01 02:56:00  US/Mountain   \n",
              "4  Rain    Light  2016-08-01 04:36:00  2016-08-01 04:56:00  US/Mountain   \n",
              "\n",
              "   LocationLat  LocationLng AirportCode      City State  ZipCode Weekday  \\\n",
              "0      38.0972    -106.1689        K04V  Saguache    CO    81149  Monday   \n",
              "1      38.0972    -106.1689        K04V  Saguache    CO    81149  Monday   \n",
              "2      38.0972    -106.1689        K04V  Saguache    CO    81149  Monday   \n",
              "3      38.0972    -106.1689        K04V  Saguache    CO    81149  Monday   \n",
              "4      38.0972    -106.1689        K04V  Saguache    CO    81149  Monday   \n",
              "\n",
              "   month  year           date_time        date  \n",
              "0      8  2016 2016-08-01 00:16:00  2016-08-01  \n",
              "1      8  2016 2016-08-01 01:16:00  2016-08-01  \n",
              "2      8  2016 2016-08-01 01:56:00  2016-08-01  \n",
              "3      8  2016 2016-08-01 02:36:00  2016-08-01  \n",
              "4      8  2016 2016-08-01 04:36:00  2016-08-01  "
            ],
            "text/html": [
              "\n",
              "  <div id=\"df-b0e95fbe-c94f-4602-b8b0-6752dc1b3b08\" class=\"colab-df-container\">\n",
              "    <div>\n",
              "<style scoped>\n",
              "    .dataframe tbody tr th:only-of-type {\n",
              "        vertical-align: middle;\n",
              "    }\n",
              "\n",
              "    .dataframe tbody tr th {\n",
              "        vertical-align: top;\n",
              "    }\n",
              "\n",
              "    .dataframe thead th {\n",
              "        text-align: right;\n",
              "    }\n",
              "</style>\n",
              "<table border=\"1\" class=\"dataframe\">\n",
              "  <thead>\n",
              "    <tr style=\"text-align: right;\">\n",
              "      <th></th>\n",
              "      <th>Type</th>\n",
              "      <th>Severity</th>\n",
              "      <th>StartTime(UTC)</th>\n",
              "      <th>EndTime(UTC)</th>\n",
              "      <th>TimeZone</th>\n",
              "      <th>LocationLat</th>\n",
              "      <th>LocationLng</th>\n",
              "      <th>AirportCode</th>\n",
              "      <th>City</th>\n",
              "      <th>State</th>\n",
              "      <th>ZipCode</th>\n",
              "      <th>Weekday</th>\n",
              "      <th>month</th>\n",
              "      <th>year</th>\n",
              "      <th>date_time</th>\n",
              "      <th>date</th>\n",
              "    </tr>\n",
              "  </thead>\n",
              "  <tbody>\n",
              "    <tr>\n",
              "      <th>0</th>\n",
              "      <td>Rain</td>\n",
              "      <td>Light</td>\n",
              "      <td>2016-08-01 00:16:00</td>\n",
              "      <td>2016-08-01 00:56:00</td>\n",
              "      <td>US/Mountain</td>\n",
              "      <td>38.0972</td>\n",
              "      <td>-106.1689</td>\n",
              "      <td>K04V</td>\n",
              "      <td>Saguache</td>\n",
              "      <td>CO</td>\n",
              "      <td>81149</td>\n",
              "      <td>Monday</td>\n",
              "      <td>8</td>\n",
              "      <td>2016</td>\n",
              "      <td>2016-08-01 00:16:00</td>\n",
              "      <td>2016-08-01</td>\n",
              "    </tr>\n",
              "    <tr>\n",
              "      <th>1</th>\n",
              "      <td>Rain</td>\n",
              "      <td>Light</td>\n",
              "      <td>2016-08-01 01:16:00</td>\n",
              "      <td>2016-08-01 01:36:00</td>\n",
              "      <td>US/Mountain</td>\n",
              "      <td>38.0972</td>\n",
              "      <td>-106.1689</td>\n",
              "      <td>K04V</td>\n",
              "      <td>Saguache</td>\n",
              "      <td>CO</td>\n",
              "      <td>81149</td>\n",
              "      <td>Monday</td>\n",
              "      <td>8</td>\n",
              "      <td>2016</td>\n",
              "      <td>2016-08-01 01:16:00</td>\n",
              "      <td>2016-08-01</td>\n",
              "    </tr>\n",
              "    <tr>\n",
              "      <th>2</th>\n",
              "      <td>Rain</td>\n",
              "      <td>Light</td>\n",
              "      <td>2016-08-01 01:56:00</td>\n",
              "      <td>2016-08-01 02:16:00</td>\n",
              "      <td>US/Mountain</td>\n",
              "      <td>38.0972</td>\n",
              "      <td>-106.1689</td>\n",
              "      <td>K04V</td>\n",
              "      <td>Saguache</td>\n",
              "      <td>CO</td>\n",
              "      <td>81149</td>\n",
              "      <td>Monday</td>\n",
              "      <td>8</td>\n",
              "      <td>2016</td>\n",
              "      <td>2016-08-01 01:56:00</td>\n",
              "      <td>2016-08-01</td>\n",
              "    </tr>\n",
              "    <tr>\n",
              "      <th>3</th>\n",
              "      <td>Rain</td>\n",
              "      <td>Light</td>\n",
              "      <td>2016-08-01 02:36:00</td>\n",
              "      <td>2016-08-01 02:56:00</td>\n",
              "      <td>US/Mountain</td>\n",
              "      <td>38.0972</td>\n",
              "      <td>-106.1689</td>\n",
              "      <td>K04V</td>\n",
              "      <td>Saguache</td>\n",
              "      <td>CO</td>\n",
              "      <td>81149</td>\n",
              "      <td>Monday</td>\n",
              "      <td>8</td>\n",
              "      <td>2016</td>\n",
              "      <td>2016-08-01 02:36:00</td>\n",
              "      <td>2016-08-01</td>\n",
              "    </tr>\n",
              "    <tr>\n",
              "      <th>4</th>\n",
              "      <td>Rain</td>\n",
              "      <td>Light</td>\n",
              "      <td>2016-08-01 04:36:00</td>\n",
              "      <td>2016-08-01 04:56:00</td>\n",
              "      <td>US/Mountain</td>\n",
              "      <td>38.0972</td>\n",
              "      <td>-106.1689</td>\n",
              "      <td>K04V</td>\n",
              "      <td>Saguache</td>\n",
              "      <td>CO</td>\n",
              "      <td>81149</td>\n",
              "      <td>Monday</td>\n",
              "      <td>8</td>\n",
              "      <td>2016</td>\n",
              "      <td>2016-08-01 04:36:00</td>\n",
              "      <td>2016-08-01</td>\n",
              "    </tr>\n",
              "  </tbody>\n",
              "</table>\n",
              "</div>\n",
              "    <div class=\"colab-df-buttons\">\n",
              "\n",
              "  <div class=\"colab-df-container\">\n",
              "    <button class=\"colab-df-convert\" onclick=\"convertToInteractive('df-b0e95fbe-c94f-4602-b8b0-6752dc1b3b08')\"\n",
              "            title=\"Convert this dataframe to an interactive table.\"\n",
              "            style=\"display:none;\">\n",
              "\n",
              "  <svg xmlns=\"http://www.w3.org/2000/svg\" height=\"24px\" viewBox=\"0 -960 960 960\">\n",
              "    <path d=\"M120-120v-720h720v720H120Zm60-500h600v-160H180v160Zm220 220h160v-160H400v160Zm0 220h160v-160H400v160ZM180-400h160v-160H180v160Zm440 0h160v-160H620v160ZM180-180h160v-160H180v160Zm440 0h160v-160H620v160Z\"/>\n",
              "  </svg>\n",
              "    </button>\n",
              "\n",
              "  <style>\n",
              "    .colab-df-container {\n",
              "      display:flex;\n",
              "      gap: 12px;\n",
              "    }\n",
              "\n",
              "    .colab-df-convert {\n",
              "      background-color: #E8F0FE;\n",
              "      border: none;\n",
              "      border-radius: 50%;\n",
              "      cursor: pointer;\n",
              "      display: none;\n",
              "      fill: #1967D2;\n",
              "      height: 32px;\n",
              "      padding: 0 0 0 0;\n",
              "      width: 32px;\n",
              "    }\n",
              "\n",
              "    .colab-df-convert:hover {\n",
              "      background-color: #E2EBFA;\n",
              "      box-shadow: 0px 1px 2px rgba(60, 64, 67, 0.3), 0px 1px 3px 1px rgba(60, 64, 67, 0.15);\n",
              "      fill: #174EA6;\n",
              "    }\n",
              "\n",
              "    .colab-df-buttons div {\n",
              "      margin-bottom: 4px;\n",
              "    }\n",
              "\n",
              "    [theme=dark] .colab-df-convert {\n",
              "      background-color: #3B4455;\n",
              "      fill: #D2E3FC;\n",
              "    }\n",
              "\n",
              "    [theme=dark] .colab-df-convert:hover {\n",
              "      background-color: #434B5C;\n",
              "      box-shadow: 0px 1px 3px 1px rgba(0, 0, 0, 0.15);\n",
              "      filter: drop-shadow(0px 1px 2px rgba(0, 0, 0, 0.3));\n",
              "      fill: #FFFFFF;\n",
              "    }\n",
              "  </style>\n",
              "\n",
              "    <script>\n",
              "      const buttonEl =\n",
              "        document.querySelector('#df-b0e95fbe-c94f-4602-b8b0-6752dc1b3b08 button.colab-df-convert');\n",
              "      buttonEl.style.display =\n",
              "        google.colab.kernel.accessAllowed ? 'block' : 'none';\n",
              "\n",
              "      async function convertToInteractive(key) {\n",
              "        const element = document.querySelector('#df-b0e95fbe-c94f-4602-b8b0-6752dc1b3b08');\n",
              "        const dataTable =\n",
              "          await google.colab.kernel.invokeFunction('convertToInteractive',\n",
              "                                                    [key], {});\n",
              "        if (!dataTable) return;\n",
              "\n",
              "        const docLinkHtml = 'Like what you see? Visit the ' +\n",
              "          '<a target=\"_blank\" href=https://colab.research.google.com/notebooks/data_table.ipynb>data table notebook</a>'\n",
              "          + ' to learn more about interactive tables.';\n",
              "        element.innerHTML = '';\n",
              "        dataTable['output_type'] = 'display_data';\n",
              "        await google.colab.output.renderOutput(dataTable, element);\n",
              "        const docLink = document.createElement('div');\n",
              "        docLink.innerHTML = docLinkHtml;\n",
              "        element.appendChild(docLink);\n",
              "      }\n",
              "    </script>\n",
              "  </div>\n",
              "\n",
              "\n",
              "<div id=\"df-f1f7d3a0-d093-445d-861a-e80ff049883f\">\n",
              "  <button class=\"colab-df-quickchart\" onclick=\"quickchart('df-f1f7d3a0-d093-445d-861a-e80ff049883f')\"\n",
              "            title=\"Suggest charts.\"\n",
              "            style=\"display:none;\">\n",
              "\n",
              "<svg xmlns=\"http://www.w3.org/2000/svg\" height=\"24px\"viewBox=\"0 0 24 24\"\n",
              "     width=\"24px\">\n",
              "    <g>\n",
              "        <path d=\"M19 3H5c-1.1 0-2 .9-2 2v14c0 1.1.9 2 2 2h14c1.1 0 2-.9 2-2V5c0-1.1-.9-2-2-2zM9 17H7v-7h2v7zm4 0h-2V7h2v10zm4 0h-2v-4h2v4z\"/>\n",
              "    </g>\n",
              "</svg>\n",
              "  </button>\n",
              "\n",
              "<style>\n",
              "  .colab-df-quickchart {\n",
              "      --bg-color: #E8F0FE;\n",
              "      --fill-color: #1967D2;\n",
              "      --hover-bg-color: #E2EBFA;\n",
              "      --hover-fill-color: #174EA6;\n",
              "      --disabled-fill-color: #AAA;\n",
              "      --disabled-bg-color: #DDD;\n",
              "  }\n",
              "\n",
              "  [theme=dark] .colab-df-quickchart {\n",
              "      --bg-color: #3B4455;\n",
              "      --fill-color: #D2E3FC;\n",
              "      --hover-bg-color: #434B5C;\n",
              "      --hover-fill-color: #FFFFFF;\n",
              "      --disabled-bg-color: #3B4455;\n",
              "      --disabled-fill-color: #666;\n",
              "  }\n",
              "\n",
              "  .colab-df-quickchart {\n",
              "    background-color: var(--bg-color);\n",
              "    border: none;\n",
              "    border-radius: 50%;\n",
              "    cursor: pointer;\n",
              "    display: none;\n",
              "    fill: var(--fill-color);\n",
              "    height: 32px;\n",
              "    padding: 0;\n",
              "    width: 32px;\n",
              "  }\n",
              "\n",
              "  .colab-df-quickchart:hover {\n",
              "    background-color: var(--hover-bg-color);\n",
              "    box-shadow: 0 1px 2px rgba(60, 64, 67, 0.3), 0 1px 3px 1px rgba(60, 64, 67, 0.15);\n",
              "    fill: var(--button-hover-fill-color);\n",
              "  }\n",
              "\n",
              "  .colab-df-quickchart-complete:disabled,\n",
              "  .colab-df-quickchart-complete:disabled:hover {\n",
              "    background-color: var(--disabled-bg-color);\n",
              "    fill: var(--disabled-fill-color);\n",
              "    box-shadow: none;\n",
              "  }\n",
              "\n",
              "  .colab-df-spinner {\n",
              "    border: 2px solid var(--fill-color);\n",
              "    border-color: transparent;\n",
              "    border-bottom-color: var(--fill-color);\n",
              "    animation:\n",
              "      spin 1s steps(1) infinite;\n",
              "  }\n",
              "\n",
              "  @keyframes spin {\n",
              "    0% {\n",
              "      border-color: transparent;\n",
              "      border-bottom-color: var(--fill-color);\n",
              "      border-left-color: var(--fill-color);\n",
              "    }\n",
              "    20% {\n",
              "      border-color: transparent;\n",
              "      border-left-color: var(--fill-color);\n",
              "      border-top-color: var(--fill-color);\n",
              "    }\n",
              "    30% {\n",
              "      border-color: transparent;\n",
              "      border-left-color: var(--fill-color);\n",
              "      border-top-color: var(--fill-color);\n",
              "      border-right-color: var(--fill-color);\n",
              "    }\n",
              "    40% {\n",
              "      border-color: transparent;\n",
              "      border-right-color: var(--fill-color);\n",
              "      border-top-color: var(--fill-color);\n",
              "    }\n",
              "    60% {\n",
              "      border-color: transparent;\n",
              "      border-right-color: var(--fill-color);\n",
              "    }\n",
              "    80% {\n",
              "      border-color: transparent;\n",
              "      border-right-color: var(--fill-color);\n",
              "      border-bottom-color: var(--fill-color);\n",
              "    }\n",
              "    90% {\n",
              "      border-color: transparent;\n",
              "      border-bottom-color: var(--fill-color);\n",
              "    }\n",
              "  }\n",
              "</style>\n",
              "\n",
              "  <script>\n",
              "    async function quickchart(key) {\n",
              "      const quickchartButtonEl =\n",
              "        document.querySelector('#' + key + ' button');\n",
              "      quickchartButtonEl.disabled = true;  // To prevent multiple clicks.\n",
              "      quickchartButtonEl.classList.add('colab-df-spinner');\n",
              "      try {\n",
              "        const charts = await google.colab.kernel.invokeFunction(\n",
              "            'suggestCharts', [key], {});\n",
              "      } catch (error) {\n",
              "        console.error('Error during call to suggestCharts:', error);\n",
              "      }\n",
              "      quickchartButtonEl.classList.remove('colab-df-spinner');\n",
              "      quickchartButtonEl.classList.add('colab-df-quickchart-complete');\n",
              "    }\n",
              "    (() => {\n",
              "      let quickchartButtonEl =\n",
              "        document.querySelector('#df-f1f7d3a0-d093-445d-861a-e80ff049883f button');\n",
              "      quickchartButtonEl.style.display =\n",
              "        google.colab.kernel.accessAllowed ? 'block' : 'none';\n",
              "    })();\n",
              "  </script>\n",
              "</div>\n",
              "\n",
              "    </div>\n",
              "  </div>\n"
            ]
          },
          "metadata": {},
          "execution_count": 143
        }
      ]
    },
    {
      "cell_type": "markdown",
      "source": [
        "Merging 2016 Data"
      ],
      "metadata": {
        "id": "KOKdJwOgEdoO"
      },
      "id": "KOKdJwOgEdoO"
    },
    {
      "cell_type": "code",
      "source": [
        "data_2016 = accident_2016.merge(weather_2016, on=['date', 'AirportCode', 'ZipCode','TimeZone','Weekday','month','year','State','City','TimeZone'], how='inner')\n",
        "data_2017 = accident_2017.merge(weather_2017, on=['date', 'AirportCode', 'ZipCode','TimeZone','Weekday','month','year','State','City','TimeZone'], how='inner')\n",
        "data_2018 = accident_2018.merge(weather_2018, on=['date', 'AirportCode', 'ZipCode','TimeZone','Weekday','month','year','State','City','TimeZone'], how='inner')\n",
        "data_2019 = accident_2019.merge(weather_2019, on=['date', 'AirportCode', 'ZipCode','TimeZone','Weekday','month','year','State','City','TimeZone'], how='inner')\n",
        "data_2020 = accident_2020.merge(weather_2020, on=['date', 'AirportCode', 'ZipCode','TimeZone','Weekday','month','year','State','City','TimeZone'], how='inner')"
      ],
      "metadata": {
        "id": "yXayqgk9UB-F"
      },
      "id": "yXayqgk9UB-F",
      "execution_count": null,
      "outputs": []
    },
    {
      "cell_type": "code",
      "source": [
        "data_2016.info()"
      ],
      "metadata": {
        "colab": {
          "base_uri": "https://localhost:8080/"
        },
        "id": "DSpgaxZbY_HX",
        "outputId": "5d983e97-620a-4bc5-a670-9f9a4edfb31d"
      },
      "id": "DSpgaxZbY_HX",
      "execution_count": null,
      "outputs": [
        {
          "output_type": "stream",
          "name": "stdout",
          "text": [
            "<class 'pandas.core.frame.DataFrame'>\n",
            "Int64Index: 18440 entries, 0 to 18439\n",
            "Data columns (total 23 columns):\n",
            " #   Column            Non-Null Count  Dtype         \n",
            "---  ------            --------------  -----         \n",
            " 0   Severity_x        18440 non-null  int64         \n",
            " 1   StartTime(UTC)_x  18440 non-null  object        \n",
            " 2   EndTime(UTC)_x    18440 non-null  object        \n",
            " 3   TimeZone          18440 non-null  object        \n",
            " 4   LocationLat_x     18440 non-null  float64       \n",
            " 5   LocationLng_x     18440 non-null  float64       \n",
            " 6   AirportCode       18440 non-null  object        \n",
            " 7   City              18440 non-null  object        \n",
            " 8   State             18440 non-null  object        \n",
            " 9   ZipCode           18440 non-null  int64         \n",
            " 10  ID                18440 non-null  int64         \n",
            " 11  Weekday           18440 non-null  object        \n",
            " 12  month             18440 non-null  int64         \n",
            " 13  year              18440 non-null  int64         \n",
            " 14  date_time_x       18440 non-null  datetime64[ns]\n",
            " 15  date              18440 non-null  object        \n",
            " 16  Type              18440 non-null  object        \n",
            " 17  Severity_y        18440 non-null  object        \n",
            " 18  StartTime(UTC)_y  18440 non-null  object        \n",
            " 19  EndTime(UTC)_y    18440 non-null  object        \n",
            " 20  LocationLat_y     18440 non-null  float64       \n",
            " 21  LocationLng_y     18440 non-null  float64       \n",
            " 22  date_time_y       18440 non-null  datetime64[ns]\n",
            "dtypes: datetime64[ns](2), float64(4), int64(5), object(12)\n",
            "memory usage: 3.4+ MB\n"
          ]
        }
      ]
    },
    {
      "cell_type": "code",
      "source": [
        "data_2016.head()"
      ],
      "metadata": {
        "colab": {
          "base_uri": "https://localhost:8080/",
          "height": 342
        },
        "id": "kP8M0pRAZBK_",
        "outputId": "ed838f4e-c6a2-4862-d5b2-ed1971b4305b"
      },
      "id": "kP8M0pRAZBK_",
      "execution_count": null,
      "outputs": [
        {
          "output_type": "execute_result",
          "data": {
            "text/plain": [
              "   Severity_x     StartTime(UTC)_x       EndTime(UTC)_x    TimeZone  \\\n",
              "0           2  2016-12-01 03:38:32  2016-12-01 04:08:21  US/Pacific   \n",
              "1           2  2016-12-01 03:57:44  2016-12-01 04:27:26  US/Pacific   \n",
              "2           2  2016-12-01 05:13:53  2016-12-01 05:43:53  US/Pacific   \n",
              "3           2  2016-12-01 19:34:31  2016-12-01 20:03:44  US/Pacific   \n",
              "4           2  2016-12-01 19:34:31  2016-12-01 20:03:44  US/Pacific   \n",
              "\n",
              "   LocationLat_x  LocationLng_x AirportCode        City State  ZipCode  ...  \\\n",
              "0      39.169224     -123.21139        KUKI       Ukiah    CA    95482  ...   \n",
              "1      37.371304     -120.61373        KMER     Atwater    CA    95301  ...   \n",
              "2      37.500683     -122.24131        KSQL  San Carlos    CA    94070  ...   \n",
              "3      38.243504     -122.26866        KAPC        Napa    CA    94558  ...   \n",
              "4      38.243504     -122.26866        KAPC        Napa    CA    94558  ...   \n",
              "\n",
              "   year         date_time_x        date  Type Severity_y     StartTime(UTC)_y  \\\n",
              "0  2016 2016-12-01 03:38:32  2016-12-01   Fog     Severe  2016-12-01 11:27:00   \n",
              "1  2016 2016-12-01 03:57:44  2016-12-01   Fog   Moderate  2016-12-01 14:45:00   \n",
              "2  2016 2016-12-01 05:13:53  2016-12-01  Cold     Severe  2016-12-01 21:47:00   \n",
              "3  2016 2016-12-01 19:34:31  2016-12-01   Fog     Severe  2016-12-01 12:17:00   \n",
              "4  2016 2016-12-01 19:34:31  2016-12-01   Fog     Severe  2016-12-01 13:32:00   \n",
              "\n",
              "        EndTime(UTC)_y LocationLat_y LocationLng_y         date_time_y  \n",
              "0  2016-12-01 11:34:00       39.1278     -123.2001 2016-12-01 11:27:00  \n",
              "1  2016-12-01 15:45:00       37.3805     -120.5682 2016-12-01 14:45:00  \n",
              "2  2016-12-01 22:47:00       37.5119     -122.2483 2016-12-01 21:47:00  \n",
              "3  2016-12-01 12:56:00       38.2132     -122.2807 2016-12-01 12:17:00  \n",
              "4  2016-12-01 14:29:00       38.2132     -122.2807 2016-12-01 13:32:00  \n",
              "\n",
              "[5 rows x 23 columns]"
            ],
            "text/html": [
              "\n",
              "  <div id=\"df-d1c07f8c-98af-4850-8c10-486a63fe427e\" class=\"colab-df-container\">\n",
              "    <div>\n",
              "<style scoped>\n",
              "    .dataframe tbody tr th:only-of-type {\n",
              "        vertical-align: middle;\n",
              "    }\n",
              "\n",
              "    .dataframe tbody tr th {\n",
              "        vertical-align: top;\n",
              "    }\n",
              "\n",
              "    .dataframe thead th {\n",
              "        text-align: right;\n",
              "    }\n",
              "</style>\n",
              "<table border=\"1\" class=\"dataframe\">\n",
              "  <thead>\n",
              "    <tr style=\"text-align: right;\">\n",
              "      <th></th>\n",
              "      <th>Severity_x</th>\n",
              "      <th>StartTime(UTC)_x</th>\n",
              "      <th>EndTime(UTC)_x</th>\n",
              "      <th>TimeZone</th>\n",
              "      <th>LocationLat_x</th>\n",
              "      <th>LocationLng_x</th>\n",
              "      <th>AirportCode</th>\n",
              "      <th>City</th>\n",
              "      <th>State</th>\n",
              "      <th>ZipCode</th>\n",
              "      <th>...</th>\n",
              "      <th>year</th>\n",
              "      <th>date_time_x</th>\n",
              "      <th>date</th>\n",
              "      <th>Type</th>\n",
              "      <th>Severity_y</th>\n",
              "      <th>StartTime(UTC)_y</th>\n",
              "      <th>EndTime(UTC)_y</th>\n",
              "      <th>LocationLat_y</th>\n",
              "      <th>LocationLng_y</th>\n",
              "      <th>date_time_y</th>\n",
              "    </tr>\n",
              "  </thead>\n",
              "  <tbody>\n",
              "    <tr>\n",
              "      <th>0</th>\n",
              "      <td>2</td>\n",
              "      <td>2016-12-01 03:38:32</td>\n",
              "      <td>2016-12-01 04:08:21</td>\n",
              "      <td>US/Pacific</td>\n",
              "      <td>39.169224</td>\n",
              "      <td>-123.21139</td>\n",
              "      <td>KUKI</td>\n",
              "      <td>Ukiah</td>\n",
              "      <td>CA</td>\n",
              "      <td>95482</td>\n",
              "      <td>...</td>\n",
              "      <td>2016</td>\n",
              "      <td>2016-12-01 03:38:32</td>\n",
              "      <td>2016-12-01</td>\n",
              "      <td>Fog</td>\n",
              "      <td>Severe</td>\n",
              "      <td>2016-12-01 11:27:00</td>\n",
              "      <td>2016-12-01 11:34:00</td>\n",
              "      <td>39.1278</td>\n",
              "      <td>-123.2001</td>\n",
              "      <td>2016-12-01 11:27:00</td>\n",
              "    </tr>\n",
              "    <tr>\n",
              "      <th>1</th>\n",
              "      <td>2</td>\n",
              "      <td>2016-12-01 03:57:44</td>\n",
              "      <td>2016-12-01 04:27:26</td>\n",
              "      <td>US/Pacific</td>\n",
              "      <td>37.371304</td>\n",
              "      <td>-120.61373</td>\n",
              "      <td>KMER</td>\n",
              "      <td>Atwater</td>\n",
              "      <td>CA</td>\n",
              "      <td>95301</td>\n",
              "      <td>...</td>\n",
              "      <td>2016</td>\n",
              "      <td>2016-12-01 03:57:44</td>\n",
              "      <td>2016-12-01</td>\n",
              "      <td>Fog</td>\n",
              "      <td>Moderate</td>\n",
              "      <td>2016-12-01 14:45:00</td>\n",
              "      <td>2016-12-01 15:45:00</td>\n",
              "      <td>37.3805</td>\n",
              "      <td>-120.5682</td>\n",
              "      <td>2016-12-01 14:45:00</td>\n",
              "    </tr>\n",
              "    <tr>\n",
              "      <th>2</th>\n",
              "      <td>2</td>\n",
              "      <td>2016-12-01 05:13:53</td>\n",
              "      <td>2016-12-01 05:43:53</td>\n",
              "      <td>US/Pacific</td>\n",
              "      <td>37.500683</td>\n",
              "      <td>-122.24131</td>\n",
              "      <td>KSQL</td>\n",
              "      <td>San Carlos</td>\n",
              "      <td>CA</td>\n",
              "      <td>94070</td>\n",
              "      <td>...</td>\n",
              "      <td>2016</td>\n",
              "      <td>2016-12-01 05:13:53</td>\n",
              "      <td>2016-12-01</td>\n",
              "      <td>Cold</td>\n",
              "      <td>Severe</td>\n",
              "      <td>2016-12-01 21:47:00</td>\n",
              "      <td>2016-12-01 22:47:00</td>\n",
              "      <td>37.5119</td>\n",
              "      <td>-122.2483</td>\n",
              "      <td>2016-12-01 21:47:00</td>\n",
              "    </tr>\n",
              "    <tr>\n",
              "      <th>3</th>\n",
              "      <td>2</td>\n",
              "      <td>2016-12-01 19:34:31</td>\n",
              "      <td>2016-12-01 20:03:44</td>\n",
              "      <td>US/Pacific</td>\n",
              "      <td>38.243504</td>\n",
              "      <td>-122.26866</td>\n",
              "      <td>KAPC</td>\n",
              "      <td>Napa</td>\n",
              "      <td>CA</td>\n",
              "      <td>94558</td>\n",
              "      <td>...</td>\n",
              "      <td>2016</td>\n",
              "      <td>2016-12-01 19:34:31</td>\n",
              "      <td>2016-12-01</td>\n",
              "      <td>Fog</td>\n",
              "      <td>Severe</td>\n",
              "      <td>2016-12-01 12:17:00</td>\n",
              "      <td>2016-12-01 12:56:00</td>\n",
              "      <td>38.2132</td>\n",
              "      <td>-122.2807</td>\n",
              "      <td>2016-12-01 12:17:00</td>\n",
              "    </tr>\n",
              "    <tr>\n",
              "      <th>4</th>\n",
              "      <td>2</td>\n",
              "      <td>2016-12-01 19:34:31</td>\n",
              "      <td>2016-12-01 20:03:44</td>\n",
              "      <td>US/Pacific</td>\n",
              "      <td>38.243504</td>\n",
              "      <td>-122.26866</td>\n",
              "      <td>KAPC</td>\n",
              "      <td>Napa</td>\n",
              "      <td>CA</td>\n",
              "      <td>94558</td>\n",
              "      <td>...</td>\n",
              "      <td>2016</td>\n",
              "      <td>2016-12-01 19:34:31</td>\n",
              "      <td>2016-12-01</td>\n",
              "      <td>Fog</td>\n",
              "      <td>Severe</td>\n",
              "      <td>2016-12-01 13:32:00</td>\n",
              "      <td>2016-12-01 14:29:00</td>\n",
              "      <td>38.2132</td>\n",
              "      <td>-122.2807</td>\n",
              "      <td>2016-12-01 13:32:00</td>\n",
              "    </tr>\n",
              "  </tbody>\n",
              "</table>\n",
              "<p>5 rows × 23 columns</p>\n",
              "</div>\n",
              "    <div class=\"colab-df-buttons\">\n",
              "\n",
              "  <div class=\"colab-df-container\">\n",
              "    <button class=\"colab-df-convert\" onclick=\"convertToInteractive('df-d1c07f8c-98af-4850-8c10-486a63fe427e')\"\n",
              "            title=\"Convert this dataframe to an interactive table.\"\n",
              "            style=\"display:none;\">\n",
              "\n",
              "  <svg xmlns=\"http://www.w3.org/2000/svg\" height=\"24px\" viewBox=\"0 -960 960 960\">\n",
              "    <path d=\"M120-120v-720h720v720H120Zm60-500h600v-160H180v160Zm220 220h160v-160H400v160Zm0 220h160v-160H400v160ZM180-400h160v-160H180v160Zm440 0h160v-160H620v160ZM180-180h160v-160H180v160Zm440 0h160v-160H620v160Z\"/>\n",
              "  </svg>\n",
              "    </button>\n",
              "\n",
              "  <style>\n",
              "    .colab-df-container {\n",
              "      display:flex;\n",
              "      gap: 12px;\n",
              "    }\n",
              "\n",
              "    .colab-df-convert {\n",
              "      background-color: #E8F0FE;\n",
              "      border: none;\n",
              "      border-radius: 50%;\n",
              "      cursor: pointer;\n",
              "      display: none;\n",
              "      fill: #1967D2;\n",
              "      height: 32px;\n",
              "      padding: 0 0 0 0;\n",
              "      width: 32px;\n",
              "    }\n",
              "\n",
              "    .colab-df-convert:hover {\n",
              "      background-color: #E2EBFA;\n",
              "      box-shadow: 0px 1px 2px rgba(60, 64, 67, 0.3), 0px 1px 3px 1px rgba(60, 64, 67, 0.15);\n",
              "      fill: #174EA6;\n",
              "    }\n",
              "\n",
              "    .colab-df-buttons div {\n",
              "      margin-bottom: 4px;\n",
              "    }\n",
              "\n",
              "    [theme=dark] .colab-df-convert {\n",
              "      background-color: #3B4455;\n",
              "      fill: #D2E3FC;\n",
              "    }\n",
              "\n",
              "    [theme=dark] .colab-df-convert:hover {\n",
              "      background-color: #434B5C;\n",
              "      box-shadow: 0px 1px 3px 1px rgba(0, 0, 0, 0.15);\n",
              "      filter: drop-shadow(0px 1px 2px rgba(0, 0, 0, 0.3));\n",
              "      fill: #FFFFFF;\n",
              "    }\n",
              "  </style>\n",
              "\n",
              "    <script>\n",
              "      const buttonEl =\n",
              "        document.querySelector('#df-d1c07f8c-98af-4850-8c10-486a63fe427e button.colab-df-convert');\n",
              "      buttonEl.style.display =\n",
              "        google.colab.kernel.accessAllowed ? 'block' : 'none';\n",
              "\n",
              "      async function convertToInteractive(key) {\n",
              "        const element = document.querySelector('#df-d1c07f8c-98af-4850-8c10-486a63fe427e');\n",
              "        const dataTable =\n",
              "          await google.colab.kernel.invokeFunction('convertToInteractive',\n",
              "                                                    [key], {});\n",
              "        if (!dataTable) return;\n",
              "\n",
              "        const docLinkHtml = 'Like what you see? Visit the ' +\n",
              "          '<a target=\"_blank\" href=https://colab.research.google.com/notebooks/data_table.ipynb>data table notebook</a>'\n",
              "          + ' to learn more about interactive tables.';\n",
              "        element.innerHTML = '';\n",
              "        dataTable['output_type'] = 'display_data';\n",
              "        await google.colab.output.renderOutput(dataTable, element);\n",
              "        const docLink = document.createElement('div');\n",
              "        docLink.innerHTML = docLinkHtml;\n",
              "        element.appendChild(docLink);\n",
              "      }\n",
              "    </script>\n",
              "  </div>\n",
              "\n",
              "\n",
              "<div id=\"df-557e70dd-94de-43d2-8c24-e4a30fc59b37\">\n",
              "  <button class=\"colab-df-quickchart\" onclick=\"quickchart('df-557e70dd-94de-43d2-8c24-e4a30fc59b37')\"\n",
              "            title=\"Suggest charts.\"\n",
              "            style=\"display:none;\">\n",
              "\n",
              "<svg xmlns=\"http://www.w3.org/2000/svg\" height=\"24px\"viewBox=\"0 0 24 24\"\n",
              "     width=\"24px\">\n",
              "    <g>\n",
              "        <path d=\"M19 3H5c-1.1 0-2 .9-2 2v14c0 1.1.9 2 2 2h14c1.1 0 2-.9 2-2V5c0-1.1-.9-2-2-2zM9 17H7v-7h2v7zm4 0h-2V7h2v10zm4 0h-2v-4h2v4z\"/>\n",
              "    </g>\n",
              "</svg>\n",
              "  </button>\n",
              "\n",
              "<style>\n",
              "  .colab-df-quickchart {\n",
              "      --bg-color: #E8F0FE;\n",
              "      --fill-color: #1967D2;\n",
              "      --hover-bg-color: #E2EBFA;\n",
              "      --hover-fill-color: #174EA6;\n",
              "      --disabled-fill-color: #AAA;\n",
              "      --disabled-bg-color: #DDD;\n",
              "  }\n",
              "\n",
              "  [theme=dark] .colab-df-quickchart {\n",
              "      --bg-color: #3B4455;\n",
              "      --fill-color: #D2E3FC;\n",
              "      --hover-bg-color: #434B5C;\n",
              "      --hover-fill-color: #FFFFFF;\n",
              "      --disabled-bg-color: #3B4455;\n",
              "      --disabled-fill-color: #666;\n",
              "  }\n",
              "\n",
              "  .colab-df-quickchart {\n",
              "    background-color: var(--bg-color);\n",
              "    border: none;\n",
              "    border-radius: 50%;\n",
              "    cursor: pointer;\n",
              "    display: none;\n",
              "    fill: var(--fill-color);\n",
              "    height: 32px;\n",
              "    padding: 0;\n",
              "    width: 32px;\n",
              "  }\n",
              "\n",
              "  .colab-df-quickchart:hover {\n",
              "    background-color: var(--hover-bg-color);\n",
              "    box-shadow: 0 1px 2px rgba(60, 64, 67, 0.3), 0 1px 3px 1px rgba(60, 64, 67, 0.15);\n",
              "    fill: var(--button-hover-fill-color);\n",
              "  }\n",
              "\n",
              "  .colab-df-quickchart-complete:disabled,\n",
              "  .colab-df-quickchart-complete:disabled:hover {\n",
              "    background-color: var(--disabled-bg-color);\n",
              "    fill: var(--disabled-fill-color);\n",
              "    box-shadow: none;\n",
              "  }\n",
              "\n",
              "  .colab-df-spinner {\n",
              "    border: 2px solid var(--fill-color);\n",
              "    border-color: transparent;\n",
              "    border-bottom-color: var(--fill-color);\n",
              "    animation:\n",
              "      spin 1s steps(1) infinite;\n",
              "  }\n",
              "\n",
              "  @keyframes spin {\n",
              "    0% {\n",
              "      border-color: transparent;\n",
              "      border-bottom-color: var(--fill-color);\n",
              "      border-left-color: var(--fill-color);\n",
              "    }\n",
              "    20% {\n",
              "      border-color: transparent;\n",
              "      border-left-color: var(--fill-color);\n",
              "      border-top-color: var(--fill-color);\n",
              "    }\n",
              "    30% {\n",
              "      border-color: transparent;\n",
              "      border-left-color: var(--fill-color);\n",
              "      border-top-color: var(--fill-color);\n",
              "      border-right-color: var(--fill-color);\n",
              "    }\n",
              "    40% {\n",
              "      border-color: transparent;\n",
              "      border-right-color: var(--fill-color);\n",
              "      border-top-color: var(--fill-color);\n",
              "    }\n",
              "    60% {\n",
              "      border-color: transparent;\n",
              "      border-right-color: var(--fill-color);\n",
              "    }\n",
              "    80% {\n",
              "      border-color: transparent;\n",
              "      border-right-color: var(--fill-color);\n",
              "      border-bottom-color: var(--fill-color);\n",
              "    }\n",
              "    90% {\n",
              "      border-color: transparent;\n",
              "      border-bottom-color: var(--fill-color);\n",
              "    }\n",
              "  }\n",
              "</style>\n",
              "\n",
              "  <script>\n",
              "    async function quickchart(key) {\n",
              "      const quickchartButtonEl =\n",
              "        document.querySelector('#' + key + ' button');\n",
              "      quickchartButtonEl.disabled = true;  // To prevent multiple clicks.\n",
              "      quickchartButtonEl.classList.add('colab-df-spinner');\n",
              "      try {\n",
              "        const charts = await google.colab.kernel.invokeFunction(\n",
              "            'suggestCharts', [key], {});\n",
              "      } catch (error) {\n",
              "        console.error('Error during call to suggestCharts:', error);\n",
              "      }\n",
              "      quickchartButtonEl.classList.remove('colab-df-spinner');\n",
              "      quickchartButtonEl.classList.add('colab-df-quickchart-complete');\n",
              "    }\n",
              "    (() => {\n",
              "      let quickchartButtonEl =\n",
              "        document.querySelector('#df-557e70dd-94de-43d2-8c24-e4a30fc59b37 button');\n",
              "      quickchartButtonEl.style.display =\n",
              "        google.colab.kernel.accessAllowed ? 'block' : 'none';\n",
              "    })();\n",
              "  </script>\n",
              "</div>\n",
              "\n",
              "    </div>\n",
              "  </div>\n"
            ]
          },
          "metadata": {},
          "execution_count": 146
        }
      ]
    },
    {
      "cell_type": "code",
      "source": [
        "# prompt: export the data into csv\n",
        "\n",
        "data_2016.to_csv('data_2016.csv', index=False)\n",
        "data_2017.to_csv('data_2017.csv', index=False)\n",
        "data_2018.to_csv('data_2018.csv', index=False)\n",
        "data_2019.to_csv('data_2019.csv', index=False)\n",
        "data_2020.to_csv('data_2020.csv', index=False)"
      ],
      "metadata": {
        "id": "jW5Mg9LhVRAX"
      },
      "id": "jW5Mg9LhVRAX",
      "execution_count": null,
      "outputs": []
    }
  ],
  "metadata": {
    "availableInstances": [
      {
        "_defaultOrder": 0,
        "_isFastLaunch": true,
        "category": "General purpose",
        "gpuNum": 0,
        "hideHardwareSpecs": false,
        "memoryGiB": 4,
        "name": "ml.t3.medium",
        "vcpuNum": 2
      },
      {
        "_defaultOrder": 1,
        "_isFastLaunch": false,
        "category": "General purpose",
        "gpuNum": 0,
        "hideHardwareSpecs": false,
        "memoryGiB": 8,
        "name": "ml.t3.large",
        "vcpuNum": 2
      },
      {
        "_defaultOrder": 2,
        "_isFastLaunch": false,
        "category": "General purpose",
        "gpuNum": 0,
        "hideHardwareSpecs": false,
        "memoryGiB": 16,
        "name": "ml.t3.xlarge",
        "vcpuNum": 4
      },
      {
        "_defaultOrder": 3,
        "_isFastLaunch": false,
        "category": "General purpose",
        "gpuNum": 0,
        "hideHardwareSpecs": false,
        "memoryGiB": 32,
        "name": "ml.t3.2xlarge",
        "vcpuNum": 8
      },
      {
        "_defaultOrder": 4,
        "_isFastLaunch": true,
        "category": "General purpose",
        "gpuNum": 0,
        "hideHardwareSpecs": false,
        "memoryGiB": 8,
        "name": "ml.m5.large",
        "vcpuNum": 2
      },
      {
        "_defaultOrder": 5,
        "_isFastLaunch": false,
        "category": "General purpose",
        "gpuNum": 0,
        "hideHardwareSpecs": false,
        "memoryGiB": 16,
        "name": "ml.m5.xlarge",
        "vcpuNum": 4
      },
      {
        "_defaultOrder": 6,
        "_isFastLaunch": false,
        "category": "General purpose",
        "gpuNum": 0,
        "hideHardwareSpecs": false,
        "memoryGiB": 32,
        "name": "ml.m5.2xlarge",
        "vcpuNum": 8
      },
      {
        "_defaultOrder": 7,
        "_isFastLaunch": false,
        "category": "General purpose",
        "gpuNum": 0,
        "hideHardwareSpecs": false,
        "memoryGiB": 64,
        "name": "ml.m5.4xlarge",
        "vcpuNum": 16
      },
      {
        "_defaultOrder": 8,
        "_isFastLaunch": false,
        "category": "General purpose",
        "gpuNum": 0,
        "hideHardwareSpecs": false,
        "memoryGiB": 128,
        "name": "ml.m5.8xlarge",
        "vcpuNum": 32
      },
      {
        "_defaultOrder": 9,
        "_isFastLaunch": false,
        "category": "General purpose",
        "gpuNum": 0,
        "hideHardwareSpecs": false,
        "memoryGiB": 192,
        "name": "ml.m5.12xlarge",
        "vcpuNum": 48
      },
      {
        "_defaultOrder": 10,
        "_isFastLaunch": false,
        "category": "General purpose",
        "gpuNum": 0,
        "hideHardwareSpecs": false,
        "memoryGiB": 256,
        "name": "ml.m5.16xlarge",
        "vcpuNum": 64
      },
      {
        "_defaultOrder": 11,
        "_isFastLaunch": false,
        "category": "General purpose",
        "gpuNum": 0,
        "hideHardwareSpecs": false,
        "memoryGiB": 384,
        "name": "ml.m5.24xlarge",
        "vcpuNum": 96
      },
      {
        "_defaultOrder": 12,
        "_isFastLaunch": false,
        "category": "General purpose",
        "gpuNum": 0,
        "hideHardwareSpecs": false,
        "memoryGiB": 8,
        "name": "ml.m5d.large",
        "vcpuNum": 2
      },
      {
        "_defaultOrder": 13,
        "_isFastLaunch": false,
        "category": "General purpose",
        "gpuNum": 0,
        "hideHardwareSpecs": false,
        "memoryGiB": 16,
        "name": "ml.m5d.xlarge",
        "vcpuNum": 4
      },
      {
        "_defaultOrder": 14,
        "_isFastLaunch": false,
        "category": "General purpose",
        "gpuNum": 0,
        "hideHardwareSpecs": false,
        "memoryGiB": 32,
        "name": "ml.m5d.2xlarge",
        "vcpuNum": 8
      },
      {
        "_defaultOrder": 15,
        "_isFastLaunch": false,
        "category": "General purpose",
        "gpuNum": 0,
        "hideHardwareSpecs": false,
        "memoryGiB": 64,
        "name": "ml.m5d.4xlarge",
        "vcpuNum": 16
      },
      {
        "_defaultOrder": 16,
        "_isFastLaunch": false,
        "category": "General purpose",
        "gpuNum": 0,
        "hideHardwareSpecs": false,
        "memoryGiB": 128,
        "name": "ml.m5d.8xlarge",
        "vcpuNum": 32
      },
      {
        "_defaultOrder": 17,
        "_isFastLaunch": false,
        "category": "General purpose",
        "gpuNum": 0,
        "hideHardwareSpecs": false,
        "memoryGiB": 192,
        "name": "ml.m5d.12xlarge",
        "vcpuNum": 48
      },
      {
        "_defaultOrder": 18,
        "_isFastLaunch": false,
        "category": "General purpose",
        "gpuNum": 0,
        "hideHardwareSpecs": false,
        "memoryGiB": 256,
        "name": "ml.m5d.16xlarge",
        "vcpuNum": 64
      },
      {
        "_defaultOrder": 19,
        "_isFastLaunch": false,
        "category": "General purpose",
        "gpuNum": 0,
        "hideHardwareSpecs": false,
        "memoryGiB": 384,
        "name": "ml.m5d.24xlarge",
        "vcpuNum": 96
      },
      {
        "_defaultOrder": 20,
        "_isFastLaunch": false,
        "category": "General purpose",
        "gpuNum": 0,
        "hideHardwareSpecs": true,
        "memoryGiB": 0,
        "name": "ml.geospatial.interactive",
        "supportedImageNames": [
          "sagemaker-geospatial-v1-0"
        ],
        "vcpuNum": 0
      },
      {
        "_defaultOrder": 21,
        "_isFastLaunch": true,
        "category": "Compute optimized",
        "gpuNum": 0,
        "hideHardwareSpecs": false,
        "memoryGiB": 4,
        "name": "ml.c5.large",
        "vcpuNum": 2
      },
      {
        "_defaultOrder": 22,
        "_isFastLaunch": false,
        "category": "Compute optimized",
        "gpuNum": 0,
        "hideHardwareSpecs": false,
        "memoryGiB": 8,
        "name": "ml.c5.xlarge",
        "vcpuNum": 4
      },
      {
        "_defaultOrder": 23,
        "_isFastLaunch": false,
        "category": "Compute optimized",
        "gpuNum": 0,
        "hideHardwareSpecs": false,
        "memoryGiB": 16,
        "name": "ml.c5.2xlarge",
        "vcpuNum": 8
      },
      {
        "_defaultOrder": 24,
        "_isFastLaunch": false,
        "category": "Compute optimized",
        "gpuNum": 0,
        "hideHardwareSpecs": false,
        "memoryGiB": 32,
        "name": "ml.c5.4xlarge",
        "vcpuNum": 16
      },
      {
        "_defaultOrder": 25,
        "_isFastLaunch": false,
        "category": "Compute optimized",
        "gpuNum": 0,
        "hideHardwareSpecs": false,
        "memoryGiB": 72,
        "name": "ml.c5.9xlarge",
        "vcpuNum": 36
      },
      {
        "_defaultOrder": 26,
        "_isFastLaunch": false,
        "category": "Compute optimized",
        "gpuNum": 0,
        "hideHardwareSpecs": false,
        "memoryGiB": 96,
        "name": "ml.c5.12xlarge",
        "vcpuNum": 48
      },
      {
        "_defaultOrder": 27,
        "_isFastLaunch": false,
        "category": "Compute optimized",
        "gpuNum": 0,
        "hideHardwareSpecs": false,
        "memoryGiB": 144,
        "name": "ml.c5.18xlarge",
        "vcpuNum": 72
      },
      {
        "_defaultOrder": 28,
        "_isFastLaunch": false,
        "category": "Compute optimized",
        "gpuNum": 0,
        "hideHardwareSpecs": false,
        "memoryGiB": 192,
        "name": "ml.c5.24xlarge",
        "vcpuNum": 96
      },
      {
        "_defaultOrder": 29,
        "_isFastLaunch": true,
        "category": "Accelerated computing",
        "gpuNum": 1,
        "hideHardwareSpecs": false,
        "memoryGiB": 16,
        "name": "ml.g4dn.xlarge",
        "vcpuNum": 4
      },
      {
        "_defaultOrder": 30,
        "_isFastLaunch": false,
        "category": "Accelerated computing",
        "gpuNum": 1,
        "hideHardwareSpecs": false,
        "memoryGiB": 32,
        "name": "ml.g4dn.2xlarge",
        "vcpuNum": 8
      },
      {
        "_defaultOrder": 31,
        "_isFastLaunch": false,
        "category": "Accelerated computing",
        "gpuNum": 1,
        "hideHardwareSpecs": false,
        "memoryGiB": 64,
        "name": "ml.g4dn.4xlarge",
        "vcpuNum": 16
      },
      {
        "_defaultOrder": 32,
        "_isFastLaunch": false,
        "category": "Accelerated computing",
        "gpuNum": 1,
        "hideHardwareSpecs": false,
        "memoryGiB": 128,
        "name": "ml.g4dn.8xlarge",
        "vcpuNum": 32
      },
      {
        "_defaultOrder": 33,
        "_isFastLaunch": false,
        "category": "Accelerated computing",
        "gpuNum": 4,
        "hideHardwareSpecs": false,
        "memoryGiB": 192,
        "name": "ml.g4dn.12xlarge",
        "vcpuNum": 48
      },
      {
        "_defaultOrder": 34,
        "_isFastLaunch": false,
        "category": "Accelerated computing",
        "gpuNum": 1,
        "hideHardwareSpecs": false,
        "memoryGiB": 256,
        "name": "ml.g4dn.16xlarge",
        "vcpuNum": 64
      },
      {
        "_defaultOrder": 35,
        "_isFastLaunch": false,
        "category": "Accelerated computing",
        "gpuNum": 1,
        "hideHardwareSpecs": false,
        "memoryGiB": 61,
        "name": "ml.p3.2xlarge",
        "vcpuNum": 8
      },
      {
        "_defaultOrder": 36,
        "_isFastLaunch": false,
        "category": "Accelerated computing",
        "gpuNum": 4,
        "hideHardwareSpecs": false,
        "memoryGiB": 244,
        "name": "ml.p3.8xlarge",
        "vcpuNum": 32
      },
      {
        "_defaultOrder": 37,
        "_isFastLaunch": false,
        "category": "Accelerated computing",
        "gpuNum": 8,
        "hideHardwareSpecs": false,
        "memoryGiB": 488,
        "name": "ml.p3.16xlarge",
        "vcpuNum": 64
      },
      {
        "_defaultOrder": 38,
        "_isFastLaunch": false,
        "category": "Accelerated computing",
        "gpuNum": 8,
        "hideHardwareSpecs": false,
        "memoryGiB": 768,
        "name": "ml.p3dn.24xlarge",
        "vcpuNum": 96
      },
      {
        "_defaultOrder": 39,
        "_isFastLaunch": false,
        "category": "Memory Optimized",
        "gpuNum": 0,
        "hideHardwareSpecs": false,
        "memoryGiB": 16,
        "name": "ml.r5.large",
        "vcpuNum": 2
      },
      {
        "_defaultOrder": 40,
        "_isFastLaunch": false,
        "category": "Memory Optimized",
        "gpuNum": 0,
        "hideHardwareSpecs": false,
        "memoryGiB": 32,
        "name": "ml.r5.xlarge",
        "vcpuNum": 4
      },
      {
        "_defaultOrder": 41,
        "_isFastLaunch": false,
        "category": "Memory Optimized",
        "gpuNum": 0,
        "hideHardwareSpecs": false,
        "memoryGiB": 64,
        "name": "ml.r5.2xlarge",
        "vcpuNum": 8
      },
      {
        "_defaultOrder": 42,
        "_isFastLaunch": false,
        "category": "Memory Optimized",
        "gpuNum": 0,
        "hideHardwareSpecs": false,
        "memoryGiB": 128,
        "name": "ml.r5.4xlarge",
        "vcpuNum": 16
      },
      {
        "_defaultOrder": 43,
        "_isFastLaunch": false,
        "category": "Memory Optimized",
        "gpuNum": 0,
        "hideHardwareSpecs": false,
        "memoryGiB": 256,
        "name": "ml.r5.8xlarge",
        "vcpuNum": 32
      },
      {
        "_defaultOrder": 44,
        "_isFastLaunch": false,
        "category": "Memory Optimized",
        "gpuNum": 0,
        "hideHardwareSpecs": false,
        "memoryGiB": 384,
        "name": "ml.r5.12xlarge",
        "vcpuNum": 48
      },
      {
        "_defaultOrder": 45,
        "_isFastLaunch": false,
        "category": "Memory Optimized",
        "gpuNum": 0,
        "hideHardwareSpecs": false,
        "memoryGiB": 512,
        "name": "ml.r5.16xlarge",
        "vcpuNum": 64
      },
      {
        "_defaultOrder": 46,
        "_isFastLaunch": false,
        "category": "Memory Optimized",
        "gpuNum": 0,
        "hideHardwareSpecs": false,
        "memoryGiB": 768,
        "name": "ml.r5.24xlarge",
        "vcpuNum": 96
      },
      {
        "_defaultOrder": 47,
        "_isFastLaunch": false,
        "category": "Accelerated computing",
        "gpuNum": 1,
        "hideHardwareSpecs": false,
        "memoryGiB": 16,
        "name": "ml.g5.xlarge",
        "vcpuNum": 4
      },
      {
        "_defaultOrder": 48,
        "_isFastLaunch": false,
        "category": "Accelerated computing",
        "gpuNum": 1,
        "hideHardwareSpecs": false,
        "memoryGiB": 32,
        "name": "ml.g5.2xlarge",
        "vcpuNum": 8
      },
      {
        "_defaultOrder": 49,
        "_isFastLaunch": false,
        "category": "Accelerated computing",
        "gpuNum": 1,
        "hideHardwareSpecs": false,
        "memoryGiB": 64,
        "name": "ml.g5.4xlarge",
        "vcpuNum": 16
      },
      {
        "_defaultOrder": 50,
        "_isFastLaunch": false,
        "category": "Accelerated computing",
        "gpuNum": 1,
        "hideHardwareSpecs": false,
        "memoryGiB": 128,
        "name": "ml.g5.8xlarge",
        "vcpuNum": 32
      },
      {
        "_defaultOrder": 51,
        "_isFastLaunch": false,
        "category": "Accelerated computing",
        "gpuNum": 1,
        "hideHardwareSpecs": false,
        "memoryGiB": 256,
        "name": "ml.g5.16xlarge",
        "vcpuNum": 64
      },
      {
        "_defaultOrder": 52,
        "_isFastLaunch": false,
        "category": "Accelerated computing",
        "gpuNum": 4,
        "hideHardwareSpecs": false,
        "memoryGiB": 192,
        "name": "ml.g5.12xlarge",
        "vcpuNum": 48
      },
      {
        "_defaultOrder": 53,
        "_isFastLaunch": false,
        "category": "Accelerated computing",
        "gpuNum": 4,
        "hideHardwareSpecs": false,
        "memoryGiB": 384,
        "name": "ml.g5.24xlarge",
        "vcpuNum": 96
      },
      {
        "_defaultOrder": 54,
        "_isFastLaunch": false,
        "category": "Accelerated computing",
        "gpuNum": 8,
        "hideHardwareSpecs": false,
        "memoryGiB": 768,
        "name": "ml.g5.48xlarge",
        "vcpuNum": 192
      },
      {
        "_defaultOrder": 55,
        "_isFastLaunch": false,
        "category": "Accelerated computing",
        "gpuNum": 8,
        "hideHardwareSpecs": false,
        "memoryGiB": 1152,
        "name": "ml.p4d.24xlarge",
        "vcpuNum": 96
      },
      {
        "_defaultOrder": 56,
        "_isFastLaunch": false,
        "category": "Accelerated computing",
        "gpuNum": 8,
        "hideHardwareSpecs": false,
        "memoryGiB": 1152,
        "name": "ml.p4de.24xlarge",
        "vcpuNum": 96
      }
    ],
    "instance_type": "ml.g4dn.xlarge",
    "kernelspec": {
      "display_name": "Python 3",
      "name": "python3"
    },
    "language_info": {
      "codemirror_mode": {
        "name": "ipython",
        "version": 3
      },
      "file_extension": ".py",
      "mimetype": "text/x-python",
      "name": "python",
      "nbconvert_exporter": "python",
      "pygments_lexer": "ipython3",
      "version": "3.8.8"
    },
    "colab": {
      "provenance": [],
      "machine_shape": "hm",
      "gpuType": "V100"
    },
    "accelerator": "GPU"
  },
  "nbformat": 4,
  "nbformat_minor": 5
}